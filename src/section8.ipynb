{
 "cells": [
  {
   "cell_type": "code",
   "execution_count": 78,
   "metadata": {},
   "outputs": [],
   "source": [
    "import numpy as np\n",
    "import pandas as pd\n",
    "import torch\n"
   ]
  },
  {
   "cell_type": "markdown",
   "metadata": {},
   "source": [
    "# 70. 単語ベクトルの和による特徴量"
   ]
  },
  {
   "cell_type": "code",
   "execution_count": 79,
   "metadata": {},
   "outputs": [],
   "source": [
    "df_train = pd.read_table(\"../output/section6/train.feature.txt\")\n",
    "df_valid = pd.read_table(\"../output/section6/valid.feature.txt\")\n",
    "df_test = pd.read_table(\"../output/section6/test.feature.txt\")"
   ]
  },
  {
   "cell_type": "code",
   "execution_count": 80,
   "metadata": {},
   "outputs": [
    {
     "data": {
      "text/html": [
       "<div>\n",
       "<style scoped>\n",
       "    .dataframe tbody tr th:only-of-type {\n",
       "        vertical-align: middle;\n",
       "    }\n",
       "\n",
       "    .dataframe tbody tr th {\n",
       "        vertical-align: top;\n",
       "    }\n",
       "\n",
       "    .dataframe thead th {\n",
       "        text-align: right;\n",
       "    }\n",
       "</style>\n",
       "<table border=\"1\" class=\"dataframe\">\n",
       "  <thead>\n",
       "    <tr style=\"text-align: right;\">\n",
       "      <th></th>\n",
       "      <th>Unnamed: 0</th>\n",
       "      <th>ID</th>\n",
       "      <th>PROCESSED_TITLE</th>\n",
       "      <th>CATEGORY</th>\n",
       "    </tr>\n",
       "  </thead>\n",
       "  <tbody>\n",
       "    <tr>\n",
       "      <td>0</td>\n",
       "      <td>9388</td>\n",
       "      <td>205737</td>\n",
       "      <td>is it worth making  the amazing spider man 0</td>\n",
       "      <td>e</td>\n",
       "    </tr>\n",
       "    <tr>\n",
       "      <td>1</td>\n",
       "      <td>8260</td>\n",
       "      <td>182926</td>\n",
       "      <td>lupita nyong o s met gala 0 dress takes the th...</td>\n",
       "      <td>e</td>\n",
       "    </tr>\n",
       "    <tr>\n",
       "      <td>2</td>\n",
       "      <td>7391</td>\n",
       "      <td>26499</td>\n",
       "      <td>obama to appear on the ellen show to talk obam...</td>\n",
       "      <td>e</td>\n",
       "    </tr>\n",
       "    <tr>\n",
       "      <td>3</td>\n",
       "      <td>7583</td>\n",
       "      <td>107422</td>\n",
       "      <td>matthew tolmach   matthew tolmach  spider man ...</td>\n",
       "      <td>e</td>\n",
       "    </tr>\n",
       "    <tr>\n",
       "      <td>4</td>\n",
       "      <td>4345</td>\n",
       "      <td>24294</td>\n",
       "      <td>italy   factors to watch on march 0</td>\n",
       "      <td>b</td>\n",
       "    </tr>\n",
       "  </tbody>\n",
       "</table>\n",
       "</div>"
      ],
      "text/plain": [
       "   Unnamed: 0      ID                                    PROCESSED_TITLE  \\\n",
       "0        9388  205737     is it worth making  the amazing spider man 0     \n",
       "1        8260  182926  lupita nyong o s met gala 0 dress takes the th...   \n",
       "2        7391   26499  obama to appear on the ellen show to talk obam...   \n",
       "3        7583  107422  matthew tolmach   matthew tolmach  spider man ...   \n",
       "4        4345   24294                italy   factors to watch on march 0   \n",
       "\n",
       "  CATEGORY  \n",
       "0        e  \n",
       "1        e  \n",
       "2        e  \n",
       "3        e  \n",
       "4        b  "
      ]
     },
     "execution_count": 80,
     "metadata": {},
     "output_type": "execute_result"
    }
   ],
   "source": [
    "df_train.head()"
   ]
  },
  {
   "cell_type": "code",
   "execution_count": 81,
   "metadata": {},
   "outputs": [],
   "source": [
    "from gensim.models import KeyedVectors\n",
    "model = KeyedVectors.load_word2vec_format('../data/GoogleNews-vectors-negative300.bin', binary=True)"
   ]
  },
  {
   "cell_type": "code",
   "execution_count": 82,
   "metadata": {},
   "outputs": [
    {
     "data": {
      "text/plain": [
       "(300,)"
      ]
     },
     "execution_count": 82,
     "metadata": {},
     "output_type": "execute_result"
    }
   ],
   "source": [
    "model['0'].shape"
   ]
  },
  {
   "cell_type": "code",
   "execution_count": 96,
   "metadata": {},
   "outputs": [
    {
     "data": {
      "text/plain": [
       "dtype('float64')"
      ]
     },
     "execution_count": 96,
     "metadata": {},
     "output_type": "execute_result"
    }
   ],
   "source": [
    "(np.ones(3)/3).dtype"
   ]
  },
  {
   "cell_type": "code",
   "execution_count": 105,
   "metadata": {},
   "outputs": [],
   "source": [
    "from nltk.stem.porter import PorterStemmer\n",
    "from nltk.corpus import stopwords\n",
    "\n",
    "stop_words = stopwords.words('english')\n",
    "\n",
    "def hoge(x):\n",
    "    x_tmp = x.strip()\n",
    "    words = x_tmp.split()\n",
    "    vec_sum = np.zeros(300, dtype=np.float32)\n",
    "    vec_count = 0\n",
    "    for word in words:\n",
    "        if word in stop_words:\n",
    "            continue\n",
    "        try:\n",
    "            vec = model[word]\n",
    "        except KeyError:\n",
    "            continue\n",
    "            \n",
    "        vec_sum += vec\n",
    "        vec_count += 1\n",
    "        \n",
    "    return (vec_sum/vec_count).astype(np.float32)\n",
    "            \n",
    "            "
   ]
  },
  {
   "cell_type": "code",
   "execution_count": 106,
   "metadata": {},
   "outputs": [],
   "source": [
    "df_train[\"VEC_AVG\"] = df_train[\"PROCESSED_TITLE\"].apply(lambda x: hoge(x))\n",
    "df_valid[\"VEC_AVG\"] = df_valid[\"PROCESSED_TITLE\"].apply(lambda x: hoge(x))\n",
    "df_test[\"VEC_AVG\"] = df_test[\"PROCESSED_TITLE\"].apply(lambda x: hoge(x))"
   ]
  },
  {
   "cell_type": "code",
   "execution_count": 111,
   "metadata": {},
   "outputs": [
    {
     "data": {
      "text/plain": [
       "tensor([[ 0.1328,  0.0442, -0.0108,  ..., -0.0277, -0.0538,  0.0098],\n",
       "        [ 0.0738,  0.0238, -0.0055,  ..., -0.0549, -0.0256,  0.1049],\n",
       "        [ 0.0135, -0.0295,  0.0053,  ..., -0.0696,  0.0711, -0.0444],\n",
       "        ...,\n",
       "        [ 0.0987, -0.0088, -0.0353,  ...,  0.0042,  0.1137,  0.1796],\n",
       "        [-0.0012,  0.0785, -0.1167,  ...,  0.0491,  0.1383,  0.0046],\n",
       "        [ 0.0333,  0.0323, -0.0288,  ...,  0.0768, -0.0453,  0.0223]])"
      ]
     },
     "execution_count": 111,
     "metadata": {},
     "output_type": "execute_result"
    }
   ],
   "source": [
    "# torch.tensor(df_train[\"VEC_AVG\"])"
   ]
  },
  {
   "cell_type": "code",
   "execution_count": 86,
   "metadata": {},
   "outputs": [],
   "source": [
    "category_label_dict = {\n",
    "    \"b\": 0,\n",
    "    \"t\": 1,\n",
    "    \"e\": 2,\n",
    "    \"m\": 3,\n",
    "}  "
   ]
  },
  {
   "cell_type": "code",
   "execution_count": 87,
   "metadata": {},
   "outputs": [],
   "source": [
    "df_train[\"LABEL\"] = df_train[\"CATEGORY\"].apply(lambda x: category_label_dict[x])\n",
    "df_valid[\"LABEL\"] = df_valid[\"CATEGORY\"].apply(lambda x: category_label_dict[x])\n",
    "df_test[\"LABEL\"] = df_test[\"CATEGORY\"].apply(lambda x: category_label_dict[x])"
   ]
  },
  {
   "cell_type": "code",
   "execution_count": 88,
   "metadata": {},
   "outputs": [
    {
     "data": {
      "text/plain": [
       "0    3672\n",
       "2    3106\n",
       "1     919\n",
       "3     490\n",
       "Name: LABEL, dtype: int64"
      ]
     },
     "execution_count": 88,
     "metadata": {},
     "output_type": "execute_result"
    }
   ],
   "source": [
    "df_train[\"LABEL\"].value_counts()"
   ]
  },
  {
   "cell_type": "code",
   "execution_count": 62,
   "metadata": {},
   "outputs": [],
   "source": [
    "df_train[[\"ID\", \"VEC_AVG\", \"LABEL\"]].to_csv('../output/section8/train.tsv', sep='\\t')\n",
    "df_valid[[\"ID\", \"VEC_AVG\", \"LABEL\"]].to_csv('../output/section8/valid.tsv', sep='\\t')\n",
    "df_test[[\"ID\", \"VEC_AVG\", \"LABEL\"]].to_csv('../output/section8/test.tsv', sep='\\t')"
   ]
  },
  {
   "cell_type": "code",
   "execution_count": null,
   "metadata": {},
   "outputs": [],
   "source": []
  },
  {
   "cell_type": "markdown",
   "metadata": {},
   "source": [
    "# 71. 単層ニューラルネットワークによる予測"
   ]
  },
  {
   "cell_type": "code",
   "execution_count": 63,
   "metadata": {},
   "outputs": [],
   "source": [
    "df_train = pd.read_table('../output/section8/train.tsv')\n",
    "df_valid = pd.read_table('../output/section8/valid.tsv')\n",
    "df_test = pd.read_table('../output/section8/test.tsv')"
   ]
  },
  {
   "cell_type": "code",
   "execution_count": null,
   "metadata": {},
   "outputs": [],
   "source": []
  },
  {
   "cell_type": "code",
   "execution_count": 114,
   "metadata": {},
   "outputs": [
    {
     "data": {
      "text/plain": [
       "torch.Size([8187, 300])"
      ]
     },
     "execution_count": 114,
     "metadata": {},
     "output_type": "execute_result"
    }
   ],
   "source": [
    "torch.tensor(df_train[\"VEC_AVG\"]).shape"
   ]
  },
  {
   "cell_type": "code",
   "execution_count": 119,
   "metadata": {},
   "outputs": [],
   "source": [
    "x_train = torch.tensor(df_train[\"VEC_AVG\"])\n",
    "x_valid = torch.tensor(df_valid[\"VEC_AVG\"])\n",
    "x_test = torch.tensor(df_test[\"VEC_AVG\"])\n",
    "\n",
    "y_train = torch.tensor(df_train[\"LABEL\"])\n",
    "y_valid = torch.tensor(df_valid[\"LABEL\"])\n",
    "y_test = torch.tensor(df_test[\"LABEL\"])"
   ]
  },
  {
   "cell_type": "code",
   "execution_count": 120,
   "metadata": {},
   "outputs": [],
   "source": [
    "from torch import nn\n",
    "\n",
    "class SLPNet(nn.Module):\n",
    "    def __init__(self, input_size, output_size):\n",
    "        super().__init__()\n",
    "        self.fc = nn.Linear(input_size, output_size, bias=False)\n",
    "        nn.init.normal_(self.fc.weight, 0.0, 1.0)\n",
    "        \n",
    "    def forward(self, x):\n",
    "        x = self.fc(x)\n",
    "        return x"
   ]
  },
  {
   "cell_type": "code",
   "execution_count": null,
   "metadata": {},
   "outputs": [],
   "source": []
  },
  {
   "cell_type": "code",
   "execution_count": 121,
   "metadata": {},
   "outputs": [
    {
     "name": "stdout",
     "output_type": "stream",
     "text": [
      "tensor([[0.2986, 0.5379, 0.1399, 0.0236],\n",
      "        [0.0909, 0.0849, 0.8213, 0.0029],\n",
      "        [0.0443, 0.0669, 0.8642, 0.0245]], grad_fn=<SoftmaxBackward>)\n"
     ]
    }
   ],
   "source": [
    "slp_model = SLPNet(300, 4)\n",
    "y_hat_1 = torch.softmax(slp_model.forward(x_train[:3]), dim=-1)\n",
    "print(y_hat_1)"
   ]
  },
  {
   "cell_type": "markdown",
   "metadata": {},
   "source": [
    "# 72. 損失と勾配の計算"
   ]
  },
  {
   "cell_type": "code",
   "execution_count": 123,
   "metadata": {},
   "outputs": [
    {
     "name": "stdout",
     "output_type": "stream",
     "text": [
      "loss: 0.796\n",
      "grad:tensor([[ 0.0158,  0.0314,  0.0041,  ..., -0.0226, -0.0026,  0.0154],\n",
      "        [ 0.0198,  0.0069, -0.0013,  ..., -0.0067, -0.0065,  0.0032],\n",
      "        [-0.0366, -0.0394, -0.0029,  ...,  0.0306,  0.0090, -0.0189],\n",
      "        [ 0.0011,  0.0012,  0.0002,  ..., -0.0013,  0.0001,  0.0003]])\n"
     ]
    }
   ],
   "source": [
    "criterion = nn.CrossEntropyLoss()\n",
    "l_1 = criterion(slp_model(x_train[:4]), y_train[:4])\n",
    "slp_model.zero_grad()\n",
    "l_1.backward()\n",
    "\n",
    "print(f\"loss: {l_1:.3f}\")\n",
    "print(f\"grad:{slp_model.fc.weight.grad}\")"
   ]
  },
  {
   "cell_type": "markdown",
   "metadata": {},
   "source": [
    "# 73. 確率的勾配降下法による学習"
   ]
  },
  {
   "cell_type": "code",
   "execution_count": 124,
   "metadata": {},
   "outputs": [],
   "source": [
    "from torch.utils.data import Dataset\n",
    "from torch.utils.data import DataLoader\n",
    "\n",
    "\n",
    "class NewsDataset(Dataset):\n",
    "    def __init__(self, X, y):\n",
    "        self.X = X\n",
    "        self.y = y\n",
    " \n",
    "    def __len__(self):\n",
    "        return len(self.y)\n",
    " \n",
    "    def __getitem__(self, idx):\n",
    "        return [self.X[idx], self.y[idx]]\n",
    "    \n",
    "dataset_train = NewsDataset(x_train, y_train)\n",
    "dataset_valid = NewsDataset(x_valid, y_valid)\n",
    "dataset_test = NewsDataset(x_test, y_test)\n",
    "\n",
    "dataloader_train = DataLoader(dataset_train, batch_size=1, shuffle=True)\n",
    "dataloader_valid = DataLoader(dataset_valid, batch_size=1, shuffle=False)\n",
    "dataloader_test = DataLoader(dataset_test, batch_size=1, shuffle=False)"
   ]
  },
  {
   "cell_type": "code",
   "execution_count": 127,
   "metadata": {},
   "outputs": [
    {
     "name": "stdout",
     "output_type": "stream",
     "text": [
      "epoch: 1, loss_train: 0.5724, loss_valid: 0.0123\n",
      "epoch: 2, loss_train: 0.3754, loss_valid: 0.0063\n",
      "epoch: 3, loss_train: 0.3373, loss_valid: 0.0078\n",
      "epoch: 4, loss_train: 0.3180, loss_valid: 0.0107\n",
      "epoch: 5, loss_train: 0.3044, loss_valid: 0.0142\n",
      "epoch: 6, loss_train: 0.2954, loss_valid: 0.0040\n",
      "epoch: 7, loss_train: 0.2885, loss_valid: 0.0120\n",
      "epoch: 8, loss_train: 0.2826, loss_valid: 0.0073\n",
      "epoch: 9, loss_train: 0.2780, loss_valid: 0.0052\n",
      "epoch: 10, loss_train: 0.2750, loss_valid: 0.0035\n"
     ]
    }
   ],
   "source": [
    "spl_model = SLPNet(300, 4)\n",
    "criterion = nn.CrossEntropyLoss()\n",
    "optimizer = torch.optim.SGD(spl_model.parameters(), lr=1e-1)\n",
    "\n",
    "epochs = 10\n",
    "for epoch in range(epochs):\n",
    "    spl_model.train()\n",
    "    loss_train = 0.0\n",
    "    for i, (inputs, labels) in enumerate(dataloader_train):\n",
    "        optimizer.zero_grad()\n",
    "        \n",
    "        outputs = spl_model(inputs)\n",
    "        loss = criterion(outputs, labels)\n",
    "        loss.backward()\n",
    "        optimizer.step()\n",
    "        loss_train += loss.item()\n",
    "    loss_train = loss_train / i\n",
    "    \n",
    "    spl_model.eval()\n",
    "    with torch.no_grad():\n",
    "        inputs, labels = next(iter(dataloader_valid))\n",
    "        outputs = spl_model(inputs)\n",
    "        loss_valid = criterion(outputs, labels)\n",
    "        \n",
    "    print(f\"epoch: {epoch + 1}, loss_train: {loss_train:.4f}, loss_valid: {loss_valid:.4f}\")"
   ]
  },
  {
   "cell_type": "markdown",
   "metadata": {},
   "source": [
    "# 74. 正解率の計測"
   ]
  },
  {
   "cell_type": "code",
   "execution_count": 128,
   "metadata": {},
   "outputs": [],
   "source": [
    "def calc_acc(model, loader):\n",
    "    model.eval()\n",
    "    total = 0\n",
    "    correct = 0\n",
    "    with torch.no_grad():\n",
    "        for inputs, labels in loader:\n",
    "            outputs = model(inputs)\n",
    "            pred = torch.argmax(outputs, dim=-1)\n",
    "            total += len(inputs)\n",
    "            correct += (pred == labels).sum().item()\n",
    "            \n",
    "    return correct / total"
   ]
  },
  {
   "cell_type": "code",
   "execution_count": 129,
   "metadata": {},
   "outputs": [
    {
     "name": "stdout",
     "output_type": "stream",
     "text": [
      "acc train: 0.911\n",
      "acc test: 0.882\n"
     ]
    }
   ],
   "source": [
    "acc_train = calc_acc(spl_model, dataloader_train)\n",
    "acc_test = calc_acc(spl_model, dataloader_test)\n",
    "print(f\"acc train: {acc_train:.3f}\")\n",
    "print(f\"acc test: {acc_test:.3f}\")"
   ]
  },
  {
   "cell_type": "markdown",
   "metadata": {},
   "source": [
    "# 75. 損失と正解率のプロット\n",
    "# 76. チェックポイント\n",
    "# 77. ミニバッチ化"
   ]
  },
  {
   "cell_type": "code",
   "execution_count": 130,
   "metadata": {},
   "outputs": [],
   "source": [
    "def calc_loss_and_acc(model, criterion, loader):\n",
    "    model.eval()\n",
    "    loss = 0.0\n",
    "    total = 0\n",
    "    correct = 0\n",
    "    with torch.no_grad():\n",
    "        for inputs, labels in loader:\n",
    "            outputs = model(inputs)\n",
    "            loss += criterion(outputs, labels).item()\n",
    "            pred = torch.argmax(outputs, dim=-1)\n",
    "            total += len(inputs)\n",
    "            correct += (pred == labels).sum().item()\n",
    "            \n",
    "    return loss / len(loader), correct / total"
   ]
  },
  {
   "cell_type": "code",
   "execution_count": 142,
   "metadata": {},
   "outputs": [
    {
     "name": "stdout",
     "output_type": "stream",
     "text": [
      "batch size: 1\n",
      "epoch: 0, loss_train: 0.3889, accuracy_train: 0.8665, loss_valid: 0.4075, accuracy_valid: 0.8622 time: 4.2769 sec\n",
      "batch size: 2\n",
      "epoch: 0, loss_train: 0.3519, accuracy_train: 0.8788, loss_valid: 0.3713, accuracy_valid: 0.8759 time: 2.4611 sec\n",
      "batch size: 4\n",
      "epoch: 0, loss_train: 0.3413, accuracy_train: 0.8831, loss_valid: 0.3638, accuracy_valid: 0.8749 time: 1.7013 sec\n",
      "batch size: 8\n",
      "epoch: 0, loss_train: 0.3361, accuracy_train: 0.8858, loss_valid: 0.3605, accuracy_valid: 0.8788 time: 0.8756 sec\n",
      "batch size: 16\n",
      "epoch: 0, loss_train: 0.3345, accuracy_train: 0.8871, loss_valid: 0.3585, accuracy_valid: 0.8788 time: 0.7459 sec\n",
      "batch size: 32\n",
      "epoch: 0, loss_train: 0.3332, accuracy_train: 0.8876, loss_valid: 0.3578, accuracy_valid: 0.8798 time: 0.4208 sec\n",
      "batch size: 64\n",
      "epoch: 0, loss_train: 0.3326, accuracy_train: 0.8880, loss_valid: 0.3576, accuracy_valid: 0.8798 time: 0.3991 sec\n",
      "batch size: 128\n",
      "epoch: 0, loss_train: 0.3324, accuracy_train: 0.8880, loss_valid: 0.3574, accuracy_valid: 0.8798 time: 0.4135 sec\n",
      "batch size: 256\n",
      "epoch: 0, loss_train: 0.3322, accuracy_train: 0.8880, loss_valid: 0.3573, accuracy_valid: 0.8798 time: 0.3433 sec\n",
      "batch size: 512\n",
      "epoch: 0, loss_train: 0.3322, accuracy_train: 0.8880, loss_valid: 0.3573, accuracy_valid: 0.8798 time: 0.2782 sec\n",
      "batch size: 1024\n",
      "epoch: 0, loss_train: 0.3322, accuracy_train: 0.8881, loss_valid: 0.3573, accuracy_valid: 0.8798 time: 4.5008 sec\n"
     ]
    }
   ],
   "source": [
    "import time\n",
    "\n",
    "def train_model(dataset_train, dataset_valid, batch_size, model, criterion, optimizer, epochs):\n",
    "    dataloader_train = DataLoader(dataset_train, batch_size=batch_size, shuffle=True)\n",
    "    dataloader_valid = DataLoader(dataset_valid, batch_size=len(dataset_valid), shuffle=False)\n",
    "    log_train = []\n",
    "    log_valid = []\n",
    "    for epoch in range(epochs):\n",
    "        start_time = time.time()\n",
    "        model.train()\n",
    "        for inputs, labels in dataloader_train:\n",
    "            optimizer.zero_grad()\n",
    "            outputs = model(inputs)\n",
    "            loss = criterion(outputs, labels)\n",
    "            loss.backward()\n",
    "            optimizer.step()\n",
    "            \n",
    "        loss_train, acc_train = calc_loss_and_acc(model, criterion, dataloader_train)\n",
    "        loss_valid, acc_valid = calc_loss_and_acc(model, criterion, dataloader_valid)\n",
    "        log_train.append([loss_train, acc_train])\n",
    "        log_valid.append([loss_valid, acc_valid])\n",
    "        \n",
    "        torch.save({'epoch': epoch, 'model_state_dict': model.state_dict(), 'optimizer_state_dict': optimizer.state_dict()}, f'../output/section8/checkpoint{epoch + 1}.pt')\n",
    "        \n",
    "        end_time = time.time()\n",
    "        \n",
    "        print(f\"epoch: {epoch}, loss_train: {loss_train:.4f}, accuracy_train: {acc_train:.4f}, loss_valid: {loss_valid:.4f}, accuracy_valid: {acc_valid:.4f} time: {end_time - start_time:.4f} sec\")\n",
    "        \n",
    "    return {'train': log_train, 'valid': log_valid}\n",
    "        \n",
    "slp_model = SLPNet(300, 4)\n",
    "criterion = nn.CrossEntropyLoss()\n",
    "optimizer = torch.optim.SGD(slp_model.parameters(), lr=1e-1)\n",
    "logs = []\n",
    "\n",
    "for batch_size in [2 ** i for i in range(11)]:\n",
    "    print(f'batch size: {batch_size}')\n",
    "    log = train_model(dataset_train, dataset_valid, batch_size, slp_model, criterion, optimizer, 1)\n",
    "    logs.append(log)\n"
   ]
  },
  {
   "cell_type": "code",
   "execution_count": 144,
   "metadata": {},
   "outputs": [
    {
     "name": "stdout",
     "output_type": "stream",
     "text": [
      "epoch: 0, loss_train: 1.0005, accuracy_train: 0.6417, loss_valid: 1.0035, accuracy_valid: 0.6315 time: 0.6148 sec\n",
      "epoch: 1, loss_train: 0.8649, accuracy_train: 0.6961, loss_valid: 0.8679, accuracy_valid: 0.6960 time: 0.3546 sec\n",
      "epoch: 2, loss_train: 0.7808, accuracy_train: 0.7243, loss_valid: 0.7860, accuracy_valid: 0.7146 time: 0.3251 sec\n",
      "epoch: 3, loss_train: 0.7197, accuracy_train: 0.7385, loss_valid: 0.7269, accuracy_valid: 0.7292 time: 0.3982 sec\n",
      "epoch: 4, loss_train: 0.6726, accuracy_train: 0.7561, loss_valid: 0.6815, accuracy_valid: 0.7429 time: 0.4447 sec\n",
      "epoch: 5, loss_train: 0.6354, accuracy_train: 0.7687, loss_valid: 0.6454, accuracy_valid: 0.7576 time: 0.4495 sec\n",
      "epoch: 6, loss_train: 0.6043, accuracy_train: 0.7792, loss_valid: 0.6163, accuracy_valid: 0.7732 time: 0.3924 sec\n",
      "epoch: 7, loss_train: 0.5793, accuracy_train: 0.7884, loss_valid: 0.5925, accuracy_valid: 0.7859 time: 0.5294 sec\n",
      "epoch: 8, loss_train: 0.5578, accuracy_train: 0.7959, loss_valid: 0.5715, accuracy_valid: 0.7937 time: 0.7167 sec\n",
      "epoch: 9, loss_train: 0.5393, accuracy_train: 0.8035, loss_valid: 0.5546, accuracy_valid: 0.7996 time: 0.7169 sec\n",
      "epoch: 10, loss_train: 0.5236, accuracy_train: 0.8112, loss_valid: 0.5396, accuracy_valid: 0.8094 time: 0.5721 sec\n",
      "epoch: 11, loss_train: 0.5094, accuracy_train: 0.8169, loss_valid: 0.5263, accuracy_valid: 0.8123 time: 0.3225 sec\n",
      "epoch: 12, loss_train: 0.4971, accuracy_train: 0.8213, loss_valid: 0.5147, accuracy_valid: 0.8152 time: 0.5095 sec\n",
      "epoch: 13, loss_train: 0.4862, accuracy_train: 0.8251, loss_valid: 0.5043, accuracy_valid: 0.8211 time: 0.3229 sec\n",
      "epoch: 14, loss_train: 0.4764, accuracy_train: 0.8288, loss_valid: 0.4954, accuracy_valid: 0.8260 time: 0.3022 sec\n",
      "epoch: 15, loss_train: 0.4675, accuracy_train: 0.8330, loss_valid: 0.4869, accuracy_valid: 0.8289 time: 0.3126 sec\n",
      "epoch: 16, loss_train: 0.4593, accuracy_train: 0.8361, loss_valid: 0.4796, accuracy_valid: 0.8280 time: 0.3332 sec\n",
      "epoch: 17, loss_train: 0.4519, accuracy_train: 0.8394, loss_valid: 0.4727, accuracy_valid: 0.8270 time: 0.5203 sec\n",
      "epoch: 18, loss_train: 0.4450, accuracy_train: 0.8421, loss_valid: 0.4666, accuracy_valid: 0.8289 time: 0.3591 sec\n",
      "epoch: 19, loss_train: 0.4390, accuracy_train: 0.8445, loss_valid: 0.4604, accuracy_valid: 0.8299 time: 0.5345 sec\n",
      "epoch: 20, loss_train: 0.4331, accuracy_train: 0.8472, loss_valid: 0.4555, accuracy_valid: 0.8319 time: 0.3730 sec\n",
      "epoch: 21, loss_train: 0.4277, accuracy_train: 0.8489, loss_valid: 0.4507, accuracy_valid: 0.8348 time: 0.4118 sec\n",
      "epoch: 22, loss_train: 0.4227, accuracy_train: 0.8504, loss_valid: 0.4460, accuracy_valid: 0.8358 time: 0.4017 sec\n",
      "epoch: 23, loss_train: 0.4180, accuracy_train: 0.8534, loss_valid: 0.4420, accuracy_valid: 0.8348 time: 0.3837 sec\n",
      "epoch: 24, loss_train: 0.4136, accuracy_train: 0.8548, loss_valid: 0.4379, accuracy_valid: 0.8358 time: 0.3092 sec\n",
      "epoch: 25, loss_train: 0.4094, accuracy_train: 0.8560, loss_valid: 0.4339, accuracy_valid: 0.8387 time: 0.3887 sec\n",
      "epoch: 26, loss_train: 0.4055, accuracy_train: 0.8583, loss_valid: 0.4310, accuracy_valid: 0.8397 time: 0.3436 sec\n",
      "epoch: 27, loss_train: 0.4018, accuracy_train: 0.8599, loss_valid: 0.4276, accuracy_valid: 0.8426 time: 0.4898 sec\n",
      "epoch: 28, loss_train: 0.3985, accuracy_train: 0.8606, loss_valid: 0.4246, accuracy_valid: 0.8456 time: 0.4476 sec\n",
      "epoch: 29, loss_train: 0.3949, accuracy_train: 0.8623, loss_valid: 0.4215, accuracy_valid: 0.8446 time: 0.5390 sec\n"
     ]
    },
    {
     "data": {
      "image/png": "[encoded data removed]",
      "text/plain": [
       "<Figure size 1080x360 with 2 Axes>"
      ]
     },
     "metadata": {
      "needs_background": "light"
     },
     "output_type": "display_data"
    }
   ],
   "source": [
    "slp_model = SLPNet(300, 4)\n",
    "criterion = nn.CrossEntropyLoss()\n",
    "optimizer = torch.optim.SGD(slp_model.parameters(), lr=1e-1)\n",
    "logs = train_model(dataset_train, dataset_valid, 32, slp_model, criterion, optimizer, 30)\n",
    "log_train, log_valid = logs[\"train\"], logs[\"valid\"]\n",
    "\n",
    "from matplotlib import pyplot as plt\n",
    "\n",
    "\n",
    "fig, ax = plt.subplots(1, 2, figsize=(15, 5))\n",
    "ax[0].plot(np.array(log_train).T[0], label='train')\n",
    "ax[0].plot(np.array(log_valid).T[0], label='valid')\n",
    "ax[0].set_xlabel('epoch')\n",
    "ax[0].set_ylabel('loss')\n",
    "ax[0].legend()\n",
    "ax[1].plot(np.array(log_train).T[1], label='train')\n",
    "ax[1].plot(np.array(log_valid).T[1], label='valid')\n",
    "ax[1].set_xlabel('epoch')\n",
    "ax[1].set_ylabel('accuracy')\n",
    "ax[1].legend()\n",
    "plt.show()"
   ]
  },
  {
   "cell_type": "code",
   "execution_count": null,
   "metadata": {},
   "outputs": [],
   "source": []
  },
  {
   "cell_type": "markdown",
   "metadata": {},
   "source": [
    "# 79. 多層ニューラルネットワーク"
   ]
  },
  {
   "cell_type": "code",
   "execution_count": null,
   "metadata": {},
   "outputs": [],
   "source": []
  },
  {
   "cell_type": "code",
   "execution_count": null,
   "metadata": {},
   "outputs": [],
   "source": []
  }
 ],
 "metadata": {
  "kernelspec": {
   "display_name": "Python 3",
   "language": "python",
   "name": "python3"
  },
  "language_info": {
   "codemirror_mode": {
    "name": "ipython",
    "version": 3
   },
   "file_extension": ".py",
   "mimetype": "text/x-python",
   "name": "python",
   "nbconvert_exporter": "python",
   "pygments_lexer": "ipython3",
   "version": "3.7.4"
  }
 },
 "nbformat": 4,
 "nbformat_minor": 4
}
