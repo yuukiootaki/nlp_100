{
 "cells": [
  {
   "cell_type": "code",
   "execution_count": 78,
   "metadata": {},
   "outputs": [],
   "source": [
    "import numpy as np\n",
    "import pandas as pd\n",
    "import torch\n"
   ]
  },
  {
   "cell_type": "markdown",
   "metadata": {},
   "source": [
    "# 70. 単語ベクトルの和による特徴量"
   ]
  },
  {
   "cell_type": "code",
   "execution_count": 79,
   "metadata": {},
   "outputs": [],
   "source": [
    "df_train = pd.read_table(\"../output/section6/train.feature.txt\")\n",
    "df_valid = pd.read_table(\"../output/section6/valid.feature.txt\")\n",
    "df_test = pd.read_table(\"../output/section6/test.feature.txt\")"
   ]
  },
  {
   "cell_type": "code",
   "execution_count": 80,
   "metadata": {},
   "outputs": [
    {
     "data": {
      "text/html": [
       "<div>\n",
       "<style scoped>\n",
       "    .dataframe tbody tr th:only-of-type {\n",
       "        vertical-align: middle;\n",
       "    }\n",
       "\n",
       "    .dataframe tbody tr th {\n",
       "        vertical-align: top;\n",
       "    }\n",
       "\n",
       "    .dataframe thead th {\n",
       "        text-align: right;\n",
       "    }\n",
       "</style>\n",
       "<table border=\"1\" class=\"dataframe\">\n",
       "  <thead>\n",
       "    <tr style=\"text-align: right;\">\n",
       "      <th></th>\n",
       "      <th>Unnamed: 0</th>\n",
       "      <th>ID</th>\n",
       "      <th>PROCESSED_TITLE</th>\n",
       "      <th>CATEGORY</th>\n",
       "    </tr>\n",
       "  </thead>\n",
       "  <tbody>\n",
       "    <tr>\n",
       "      <td>0</td>\n",
       "      <td>9388</td>\n",
       "      <td>205737</td>\n",
       "      <td>is it worth making  the amazing spider man 0</td>\n",
       "      <td>e</td>\n",
       "    </tr>\n",
       "    <tr>\n",
       "      <td>1</td>\n",
       "      <td>8260</td>\n",
       "      <td>182926</td>\n",
       "      <td>lupita nyong o s met gala 0 dress takes the th...</td>\n",
       "      <td>e</td>\n",
       "    </tr>\n",
       "    <tr>\n",
       "      <td>2</td>\n",
       "      <td>7391</td>\n",
       "      <td>26499</td>\n",
       "      <td>obama to appear on the ellen show to talk obam...</td>\n",
       "      <td>e</td>\n",
       "    </tr>\n",
       "    <tr>\n",
       "      <td>3</td>\n",
       "      <td>7583</td>\n",
       "      <td>107422</td>\n",
       "      <td>matthew tolmach   matthew tolmach  spider man ...</td>\n",
       "      <td>e</td>\n",
       "    </tr>\n",
       "    <tr>\n",
       "      <td>4</td>\n",
       "      <td>4345</td>\n",
       "      <td>24294</td>\n",
       "      <td>italy   factors to watch on march 0</td>\n",
       "      <td>b</td>\n",
       "    </tr>\n",
       "  </tbody>\n",
       "</table>\n",
       "</div>"
      ],
      "text/plain": [
       "   Unnamed: 0      ID                                    PROCESSED_TITLE  \\\n",
       "0        9388  205737     is it worth making  the amazing spider man 0     \n",
       "1        8260  182926  lupita nyong o s met gala 0 dress takes the th...   \n",
       "2        7391   26499  obama to appear on the ellen show to talk obam...   \n",
       "3        7583  107422  matthew tolmach   matthew tolmach  spider man ...   \n",
       "4        4345   24294                italy   factors to watch on march 0   \n",
       "\n",
       "  CATEGORY  \n",
       "0        e  \n",
       "1        e  \n",
       "2        e  \n",
       "3        e  \n",
       "4        b  "
      ]
     },
     "execution_count": 80,
     "metadata": {},
     "output_type": "execute_result"
    }
   ],
   "source": [
    "df_train.head()"
   ]
  },
  {
   "cell_type": "code",
   "execution_count": 81,
   "metadata": {},
   "outputs": [],
   "source": [
    "from gensim.models import KeyedVectors\n",
    "model = KeyedVectors.load_word2vec_format('../data/GoogleNews-vectors-negative300.bin', binary=True)"
   ]
  },
  {
   "cell_type": "code",
   "execution_count": 82,
   "metadata": {},
   "outputs": [
    {
     "data": {
      "text/plain": [
       "(300,)"
      ]
     },
     "execution_count": 82,
     "metadata": {},
     "output_type": "execute_result"
    }
   ],
   "source": [
    "model['0'].shape"
   ]
  },
  {
   "cell_type": "code",
   "execution_count": 96,
   "metadata": {},
   "outputs": [
    {
     "data": {
      "text/plain": [
       "dtype('float64')"
      ]
     },
     "execution_count": 96,
     "metadata": {},
     "output_type": "execute_result"
    }
   ],
   "source": [
    "(np.ones(3)/3).dtype"
   ]
  },
  {
   "cell_type": "code",
   "execution_count": 105,
   "metadata": {},
   "outputs": [],
   "source": [
    "from nltk.stem.porter import PorterStemmer\n",
    "from nltk.corpus import stopwords\n",
    "\n",
    "stop_words = stopwords.words('english')\n",
    "\n",
    "def hoge(x):\n",
    "    x_tmp = x.strip()\n",
    "    words = x_tmp.split()\n",
    "    vec_sum = np.zeros(300, dtype=np.float32)\n",
    "    vec_count = 0\n",
    "    for word in words:\n",
    "        if word in stop_words:\n",
    "            continue\n",
    "        try:\n",
    "            vec = model[word]\n",
    "        except KeyError:\n",
    "            continue\n",
    "            \n",
    "        vec_sum += vec\n",
    "        vec_count += 1\n",
    "        \n",
    "    return (vec_sum/vec_count).astype(np.float32)\n",
    "            \n",
    "            "
   ]
  },
  {
   "cell_type": "code",
   "execution_count": 106,
   "metadata": {},
   "outputs": [],
   "source": [
    "df_train[\"VEC_AVG\"] = df_train[\"PROCESSED_TITLE\"].apply(lambda x: hoge(x))\n",
    "df_valid[\"VEC_AVG\"] = df_valid[\"PROCESSED_TITLE\"].apply(lambda x: hoge(x))\n",
    "df_test[\"VEC_AVG\"] = df_test[\"PROCESSED_TITLE\"].apply(lambda x: hoge(x))"
   ]
  },
  {
   "cell_type": "code",
   "execution_count": 111,
   "metadata": {},
   "outputs": [
    {
     "data": {
      "text/plain": [
       "tensor([[ 0.1328,  0.0442, -0.0108,  ..., -0.0277, -0.0538,  0.0098],\n",
       "        [ 0.0738,  0.0238, -0.0055,  ..., -0.0549, -0.0256,  0.1049],\n",
       "        [ 0.0135, -0.0295,  0.0053,  ..., -0.0696,  0.0711, -0.0444],\n",
       "        ...,\n",
       "        [ 0.0987, -0.0088, -0.0353,  ...,  0.0042,  0.1137,  0.1796],\n",
       "        [-0.0012,  0.0785, -0.1167,  ...,  0.0491,  0.1383,  0.0046],\n",
       "        [ 0.0333,  0.0323, -0.0288,  ...,  0.0768, -0.0453,  0.0223]])"
      ]
     },
     "execution_count": 111,
     "metadata": {},
     "output_type": "execute_result"
    }
   ],
   "source": [
    "# torch.tensor(df_train[\"VEC_AVG\"])"
   ]
  },
  {
   "cell_type": "code",
   "execution_count": 86,
   "metadata": {},
   "outputs": [],
   "source": [
    "category_label_dict = {\n",
    "    \"b\": 0,\n",
    "    \"t\": 1,\n",
    "    \"e\": 2,\n",
    "    \"m\": 3,\n",
    "}  "
   ]
  },
  {
   "cell_type": "code",
   "execution_count": 87,
   "metadata": {},
   "outputs": [],
   "source": [
    "df_train[\"LABEL\"] = df_train[\"CATEGORY\"].apply(lambda x: category_label_dict[x])\n",
    "df_valid[\"LABEL\"] = df_valid[\"CATEGORY\"].apply(lambda x: category_label_dict[x])\n",
    "df_test[\"LABEL\"] = df_test[\"CATEGORY\"].apply(lambda x: category_label_dict[x])"
   ]
  },
  {
   "cell_type": "code",
   "execution_count": 88,
   "metadata": {},
   "outputs": [
    {
     "data": {
      "text/plain": [
       "0    3672\n",
       "2    3106\n",
       "1     919\n",
       "3     490\n",
       "Name: LABEL, dtype: int64"
      ]
     },
     "execution_count": 88,
     "metadata": {},
     "output_type": "execute_result"
    }
   ],
   "source": [
    "df_train[\"LABEL\"].value_counts()"
   ]
  },
  {
   "cell_type": "code",
   "execution_count": 62,
   "metadata": {},
   "outputs": [],
   "source": [
    "df_train[[\"ID\", \"VEC_AVG\", \"LABEL\"]].to_csv('../output/section8/train.tsv', sep='\\t')\n",
    "df_valid[[\"ID\", \"VEC_AVG\", \"LABEL\"]].to_csv('../output/section8/valid.tsv', sep='\\t')\n",
    "df_test[[\"ID\", \"VEC_AVG\", \"LABEL\"]].to_csv('../output/section8/test.tsv', sep='\\t')"
   ]
  },
  {
   "cell_type": "code",
   "execution_count": null,
   "metadata": {},
   "outputs": [],
   "source": []
  },
  {
   "cell_type": "markdown",
   "metadata": {},
   "source": [
    "# 71. 単層ニューラルネットワークによる予測"
   ]
  },
  {
   "cell_type": "code",
   "execution_count": 63,
   "metadata": {},
   "outputs": [],
   "source": [
    "df_train = pd.read_table('../output/section8/train.tsv')\n",
    "df_valid = pd.read_table('../output/section8/valid.tsv')\n",
    "df_test = pd.read_table('../output/section8/test.tsv')"
   ]
  },
  {
   "cell_type": "code",
   "execution_count": null,
   "metadata": {},
   "outputs": [],
   "source": []
  },
  {
   "cell_type": "code",
   "execution_count": 114,
   "metadata": {},
   "outputs": [
    {
     "data": {
      "text/plain": [
       "torch.Size([8187, 300])"
      ]
     },
     "execution_count": 114,
     "metadata": {},
     "output_type": "execute_result"
    }
   ],
   "source": [
    "torch.tensor(df_train[\"VEC_AVG\"]).shape"
   ]
  },
  {
   "cell_type": "code",
   "execution_count": 119,
   "metadata": {},
   "outputs": [],
   "source": [
    "x_train = torch.tensor(df_train[\"VEC_AVG\"])\n",
    "x_valid = torch.tensor(df_valid[\"VEC_AVG\"])\n",
    "x_test = torch.tensor(df_test[\"VEC_AVG\"])\n",
    "\n",
    "y_train = torch.tensor(df_train[\"LABEL\"])\n",
    "y_valid = torch.tensor(df_valid[\"LABEL\"])\n",
    "y_test = torch.tensor(df_test[\"LABEL\"])"
   ]
  },
  {
   "cell_type": "code",
   "execution_count": 120,
   "metadata": {},
   "outputs": [],
   "source": [
    "from torch import nn\n",
    "\n",
    "class SLPNet(nn.Module):\n",
    "    def __init__(self, input_size, output_size):\n",
    "        super().__init__()\n",
    "        self.fc = nn.Linear(input_size, output_size, bias=False)\n",
    "        nn.init.normal_(self.fc.weight, 0.0, 1.0)\n",
    "        \n",
    "    def forward(self, x):\n",
    "        x = self.fc(x)\n",
    "        return x"
   ]
  },
  {
   "cell_type": "code",
   "execution_count": null,
   "metadata": {},
   "outputs": [],
   "source": []
  },
  {
   "cell_type": "code",
   "execution_count": 121,
   "metadata": {},
   "outputs": [
    {
     "name": "stdout",
     "output_type": "stream",
     "text": [
      "tensor([[0.2986, 0.5379, 0.1399, 0.0236],\n",
      "        [0.0909, 0.0849, 0.8213, 0.0029],\n",
      "        [0.0443, 0.0669, 0.8642, 0.0245]], grad_fn=<SoftmaxBackward>)\n"
     ]
    }
   ],
   "source": [
    "slp_model = SLPNet(300, 4)\n",
    "y_hat_1 = torch.softmax(slp_model.forward(x_train[:3]), dim=-1)\n",
    "print(y_hat_1)"
   ]
  },
  {
   "cell_type": "markdown",
   "metadata": {},
   "source": [
    "# 72. 損失と勾配の計算"
   ]
  },
  {
   "cell_type": "code",
   "execution_count": 123,
   "metadata": {},
   "outputs": [
    {
     "name": "stdout",
     "output_type": "stream",
     "text": [
      "loss: 0.796\n",
      "grad:tensor([[ 0.0158,  0.0314,  0.0041,  ..., -0.0226, -0.0026,  0.0154],\n",
      "        [ 0.0198,  0.0069, -0.0013,  ..., -0.0067, -0.0065,  0.0032],\n",
      "        [-0.0366, -0.0394, -0.0029,  ...,  0.0306,  0.0090, -0.0189],\n",
      "        [ 0.0011,  0.0012,  0.0002,  ..., -0.0013,  0.0001,  0.0003]])\n"
     ]
    }
   ],
   "source": [
    "criterion = nn.CrossEntropyLoss()\n",
    "l_1 = criterion(slp_model(x_train[:4]), y_train[:4])\n",
    "slp_model.zero_grad()\n",
    "l_1.backward()\n",
    "\n",
    "print(f\"loss: {l_1:.3f}\")\n",
    "print(f\"grad:{slp_model.fc.weight.grad}\")"
   ]
  },
  {
   "cell_type": "markdown",
   "metadata": {},
   "source": [
    "# 73. 確率的勾配降下法による学習"
   ]
  },
  {
   "cell_type": "code",
   "execution_count": 124,
   "metadata": {},
   "outputs": [],
   "source": [
    "from torch.utils.data import Dataset\n",
    "from torch.utils.data import DataLoader\n",
    "\n",
    "\n",
    "class NewsDataset(Dataset):\n",
    "    def __init__(self, X, y):\n",
    "        self.X = X\n",
    "        self.y = y\n",
    " \n",
    "    def __len__(self):\n",
    "        return len(self.y)\n",
    " \n",
    "    def __getitem__(self, idx):\n",
    "        return [self.X[idx], self.y[idx]]\n",
    "    \n",
    "dataset_train = NewsDataset(x_train, y_train)\n",
    "dataset_valid = NewsDataset(x_valid, y_valid)\n",
    "dataset_test = NewsDataset(x_test, y_test)\n",
    "\n",
    "dataloader_train = DataLoader(dataset_train, batch_size=1, shuffle=True)\n",
    "dataloader_valid = DataLoader(dataset_valid, batch_size=1, shuffle=False)\n",
    "dataloader_test = DataLoader(dataset_test, batch_size=1, shuffle=False)"
   ]
  },
  {
   "cell_type": "code",
   "execution_count": 127,
   "metadata": {},
   "outputs": [
    {
     "name": "stdout",
     "output_type": "stream",
     "text": [
      "epoch: 1, loss_train: 0.5724, loss_valid: 0.0123\n",
      "epoch: 2, loss_train: 0.3754, loss_valid: 0.0063\n",
      "epoch: 3, loss_train: 0.3373, loss_valid: 0.0078\n",
      "epoch: 4, loss_train: 0.3180, loss_valid: 0.0107\n",
      "epoch: 5, loss_train: 0.3044, loss_valid: 0.0142\n",
      "epoch: 6, loss_train: 0.2954, loss_valid: 0.0040\n",
      "epoch: 7, loss_train: 0.2885, loss_valid: 0.0120\n",
      "epoch: 8, loss_train: 0.2826, loss_valid: 0.0073\n",
      "epoch: 9, loss_train: 0.2780, loss_valid: 0.0052\n",
      "epoch: 10, loss_train: 0.2750, loss_valid: 0.0035\n"
     ]
    }
   ],
   "source": [
    "spl_model = SLPNet(300, 4)\n",
    "criterion = nn.CrossEntropyLoss()\n",
    "optimizer = torch.optim.SGD(spl_model.parameters(), lr=1e-1)\n",
    "\n",
    "epochs = 10\n",
    "for epoch in range(epochs):\n",
    "    spl_model.train()\n",
    "    loss_train = 0.0\n",
    "    for i, (inputs, labels) in enumerate(dataloader_train):\n",
    "        optimizer.zero_grad()\n",
    "        \n",
    "        outputs = spl_model(inputs)\n",
    "        loss = criterion(outputs, labels)\n",
    "        loss.backward()\n",
    "        optimizer.step()\n",
    "        loss_train += loss.item()\n",
    "    loss_train = loss_train / i\n",
    "    \n",
    "    spl_model.eval()\n",
    "    with torch.no_grad():\n",
    "        inputs, labels = next(iter(dataloader_valid))\n",
    "        outputs = spl_model(inputs)\n",
    "        loss_valid = criterion(outputs, labels)\n",
    "        \n",
    "    print(f\"epoch: {epoch + 1}, loss_train: {loss_train:.4f}, loss_valid: {loss_valid:.4f}\")"
   ]
  },
  {
   "cell_type": "markdown",
   "metadata": {},
   "source": [
    "# 74. 正解率の計測"
   ]
  },
  {
   "cell_type": "code",
   "execution_count": 128,
   "metadata": {},
   "outputs": [],
   "source": [
    "def calc_acc(model, loader):\n",
    "    model.eval()\n",
    "    total = 0\n",
    "    correct = 0\n",
    "    with torch.no_grad():\n",
    "        for inputs, labels in loader:\n",
    "            outputs = model(inputs)\n",
    "            pred = torch.argmax(outputs, dim=-1)\n",
    "            total += len(inputs)\n",
    "            correct += (pred == labels).sum().item()\n",
    "            \n",
    "    return correct / total"
   ]
  },
  {
   "cell_type": "code",
   "execution_count": 129,
   "metadata": {},
   "outputs": [
    {
     "name": "stdout",
     "output_type": "stream",
     "text": [
      "acc train: 0.911\n",
      "acc test: 0.882\n"
     ]
    }
   ],
   "source": [
    "acc_train = calc_acc(spl_model, dataloader_train)\n",
    "acc_test = calc_acc(spl_model, dataloader_test)\n",
    "print(f\"acc train: {acc_train:.3f}\")\n",
    "print(f\"acc test: {acc_test:.3f}\")"
   ]
  },
  {
   "cell_type": "markdown",
   "metadata": {},
   "source": [
    "# 75. 損失と正解率のプロット\n",
    "# 76. チェックポイント\n",
    "# 77. ミニバッチ化"
   ]
  },
  {
   "cell_type": "code",
   "execution_count": 152,
   "metadata": {},
   "outputs": [],
   "source": [
    "def calc_loss_and_acc(model, criterion, loader, device=None):\n",
    "    model.eval()\n",
    "    loss = 0.0\n",
    "    total = 0\n",
    "    correct = 0\n",
    "    with torch.no_grad():\n",
    "        for inputs, labels in loader:\n",
    "            inputs = inputs.to(device)\n",
    "            labels = labels.to(device)\n",
    "            outputs = model(inputs)\n",
    "            loss += criterion(outputs, labels).item()\n",
    "            pred = torch.argmax(outputs, dim=-1)\n",
    "            total += len(inputs)\n",
    "            correct += (pred == labels).sum().item()\n",
    "            \n",
    "    return loss / len(loader), correct / total"
   ]
  },
  {
   "cell_type": "code",
   "execution_count": 158,
   "metadata": {},
   "outputs": [],
   "source": [
    "import time\n",
    "from torch import optim\n",
    "\n",
    "def train_model(dataset_train, dataset_valid, batch_size, model, criterion, optimizer, epochs, device=None):\n",
    "    model.to(device)\n",
    "    dataloader_train = DataLoader(dataset_train, batch_size=batch_size, shuffle=True)\n",
    "    dataloader_valid = DataLoader(dataset_valid, batch_size=len(dataset_valid), shuffle=False)\n",
    "    \n",
    "    scheduler = optim.lr_scheduler.CosineAnnealingLR(optimizer, epochs, eta_min=1e-5, last_epoch=-1)\n",
    "\n",
    "    log_train = []\n",
    "    log_valid = []\n",
    "    for epoch in range(epochs):\n",
    "        start_time = time.time()\n",
    "        model.train()\n",
    "        for inputs, labels in dataloader_train:\n",
    "            inputs = inputs.to(device)\n",
    "            labels = labels.to(device)\n",
    "            optimizer.zero_grad()\n",
    "            outputs = model(inputs)\n",
    "            loss = criterion(outputs, labels)\n",
    "            loss.backward()\n",
    "            optimizer.step()\n",
    "            \n",
    "        loss_train, acc_train = calc_loss_and_acc(model, criterion, dataloader_train, device)\n",
    "        loss_valid, acc_valid = calc_loss_and_acc(model, criterion, dataloader_valid, device)\n",
    "        log_train.append([loss_train, acc_train])\n",
    "        log_valid.append([loss_valid, acc_valid])\n",
    "        \n",
    "        # torch.save({'epoch': epoch, 'model_state_dict': model.state_dict(), 'optimizer_state_dict': optimizer.state_dict()}, f'../output/section8/checkpoint{epoch + 1}.pt')\n",
    "        \n",
    "        end_time = time.time()\n",
    "        \n",
    "        print(f\"epoch: {epoch}, loss_train: {loss_train:.4f}, accuracy_train: {acc_train:.4f}, loss_valid: {loss_valid:.4f}, accuracy_valid: {acc_valid:.4f} time: {end_time - start_time:.4f} sec\")\n",
    "        \n",
    "        if epoch > 2 and log_valid[epoch - 3][0] <= log_valid[epoch - 2][0] <= log_valid[epoch - 1][0] <= log_valid[epoch][0]:\n",
    "            break\n",
    "            \n",
    "        scheduler.step()\n",
    "        \n",
    "    return {'train': log_train, 'valid': log_valid}\n",
    "        \n"
   ]
  },
  {
   "cell_type": "code",
   "execution_count": null,
   "metadata": {},
   "outputs": [],
   "source": [
    "slp_model = SLPNet(300, 4)\n",
    "criterion = nn.CrossEntropyLoss()\n",
    "optimizer = torch.optim.SGD(slp_model.parameters(), lr=1e-1)\n",
    "logs = []\n",
    "\n",
    "for batch_size in [2 ** i for i in range(11)]:\n",
    "    print(f'batch size: {batch_size}')\n",
    "    log = train_model(dataset_train, dataset_valid, batch_size, slp_model, criterion, optimizer, 1, None)\n",
    "    logs.append(log)\n"
   ]
  },
  {
   "cell_type": "code",
   "execution_count": 144,
   "metadata": {},
   "outputs": [
    {
     "name": "stdout",
     "output_type": "stream",
     "text": [
      "epoch: 0, loss_train: 1.0005, accuracy_train: 0.6417, loss_valid: 1.0035, accuracy_valid: 0.6315 time: 0.6148 sec\n",
      "epoch: 1, loss_train: 0.8649, accuracy_train: 0.6961, loss_valid: 0.8679, accuracy_valid: 0.6960 time: 0.3546 sec\n",
      "epoch: 2, loss_train: 0.7808, accuracy_train: 0.7243, loss_valid: 0.7860, accuracy_valid: 0.7146 time: 0.3251 sec\n",
      "epoch: 3, loss_train: 0.7197, accuracy_train: 0.7385, loss_valid: 0.7269, accuracy_valid: 0.7292 time: 0.3982 sec\n",
      "epoch: 4, loss_train: 0.6726, accuracy_train: 0.7561, loss_valid: 0.6815, accuracy_valid: 0.7429 time: 0.4447 sec\n",
      "epoch: 5, loss_train: 0.6354, accuracy_train: 0.7687, loss_valid: 0.6454, accuracy_valid: 0.7576 time: 0.4495 sec\n",
      "epoch: 6, loss_train: 0.6043, accuracy_train: 0.7792, loss_valid: 0.6163, accuracy_valid: 0.7732 time: 0.3924 sec\n",
      "epoch: 7, loss_train: 0.5793, accuracy_train: 0.7884, loss_valid: 0.5925, accuracy_valid: 0.7859 time: 0.5294 sec\n",
      "epoch: 8, loss_train: 0.5578, accuracy_train: 0.7959, loss_valid: 0.5715, accuracy_valid: 0.7937 time: 0.7167 sec\n",
      "epoch: 9, loss_train: 0.5393, accuracy_train: 0.8035, loss_valid: 0.5546, accuracy_valid: 0.7996 time: 0.7169 sec\n",
      "epoch: 10, loss_train: 0.5236, accuracy_train: 0.8112, loss_valid: 0.5396, accuracy_valid: 0.8094 time: 0.5721 sec\n",
      "epoch: 11, loss_train: 0.5094, accuracy_train: 0.8169, loss_valid: 0.5263, accuracy_valid: 0.8123 time: 0.3225 sec\n",
      "epoch: 12, loss_train: 0.4971, accuracy_train: 0.8213, loss_valid: 0.5147, accuracy_valid: 0.8152 time: 0.5095 sec\n",
      "epoch: 13, loss_train: 0.4862, accuracy_train: 0.8251, loss_valid: 0.5043, accuracy_valid: 0.8211 time: 0.3229 sec\n",
      "epoch: 14, loss_train: 0.4764, accuracy_train: 0.8288, loss_valid: 0.4954, accuracy_valid: 0.8260 time: 0.3022 sec\n",
      "epoch: 15, loss_train: 0.4675, accuracy_train: 0.8330, loss_valid: 0.4869, accuracy_valid: 0.8289 time: 0.3126 sec\n",
      "epoch: 16, loss_train: 0.4593, accuracy_train: 0.8361, loss_valid: 0.4796, accuracy_valid: 0.8280 time: 0.3332 sec\n",
      "epoch: 17, loss_train: 0.4519, accuracy_train: 0.8394, loss_valid: 0.4727, accuracy_valid: 0.8270 time: 0.5203 sec\n",
      "epoch: 18, loss_train: 0.4450, accuracy_train: 0.8421, loss_valid: 0.4666, accuracy_valid: 0.8289 time: 0.3591 sec\n",
      "epoch: 19, loss_train: 0.4390, accuracy_train: 0.8445, loss_valid: 0.4604, accuracy_valid: 0.8299 time: 0.5345 sec\n",
      "epoch: 20, loss_train: 0.4331, accuracy_train: 0.8472, loss_valid: 0.4555, accuracy_valid: 0.8319 time: 0.3730 sec\n",
      "epoch: 21, loss_train: 0.4277, accuracy_train: 0.8489, loss_valid: 0.4507, accuracy_valid: 0.8348 time: 0.4118 sec\n",
      "epoch: 22, loss_train: 0.4227, accuracy_train: 0.8504, loss_valid: 0.4460, accuracy_valid: 0.8358 time: 0.4017 sec\n",
      "epoch: 23, loss_train: 0.4180, accuracy_train: 0.8534, loss_valid: 0.4420, accuracy_valid: 0.8348 time: 0.3837 sec\n",
      "epoch: 24, loss_train: 0.4136, accuracy_train: 0.8548, loss_valid: 0.4379, accuracy_valid: 0.8358 time: 0.3092 sec\n",
      "epoch: 25, loss_train: 0.4094, accuracy_train: 0.8560, loss_valid: 0.4339, accuracy_valid: 0.8387 time: 0.3887 sec\n",
      "epoch: 26, loss_train: 0.4055, accuracy_train: 0.8583, loss_valid: 0.4310, accuracy_valid: 0.8397 time: 0.3436 sec\n",
      "epoch: 27, loss_train: 0.4018, accuracy_train: 0.8599, loss_valid: 0.4276, accuracy_valid: 0.8426 time: 0.4898 sec\n",
      "epoch: 28, loss_train: 0.3985, accuracy_train: 0.8606, loss_valid: 0.4246, accuracy_valid: 0.8456 time: 0.4476 sec\n",
      "epoch: 29, loss_train: 0.3949, accuracy_train: 0.8623, loss_valid: 0.4215, accuracy_valid: 0.8446 time: 0.5390 sec\n"
     ]
    },
    {
     "data": {
      "image/png": "[encoded data removed]",
      "text/plain": [
       "<Figure size 1080x360 with 2 Axes>"
      ]
     },
     "metadata": {
      "needs_background": "light"
     },
     "output_type": "display_data"
    }
   ],
   "source": [
    "slp_model = SLPNet(300, 4)\n",
    "criterion = nn.CrossEntropyLoss()\n",
    "optimizer = torch.optim.SGD(slp_model.parameters(), lr=1e-1)\n",
    "logs = train_model(dataset_train, dataset_valid, 32, slp_model, criterion, optimizer, 30, None)\n",
    "log_train, log_valid = logs[\"train\"], logs[\"valid\"]\n",
    "\n",
    "from matplotlib import pyplot as plt\n",
    "\n",
    "\n",
    "fig, ax = plt.subplots(1, 2, figsize=(15, 5))\n",
    "ax[0].plot(np.array(log_train).T[0], label='train')\n",
    "ax[0].plot(np.array(log_valid).T[0], label='valid')\n",
    "ax[0].set_xlabel('epoch')\n",
    "ax[0].set_ylabel('loss')\n",
    "ax[0].legend()\n",
    "ax[1].plot(np.array(log_train).T[1], label='train')\n",
    "ax[1].plot(np.array(log_valid).T[1], label='valid')\n",
    "ax[1].set_xlabel('epoch')\n",
    "ax[1].set_ylabel('accuracy')\n",
    "ax[1].legend()\n",
    "plt.show()"
   ]
  },
  {
   "cell_type": "code",
   "execution_count": null,
   "metadata": {},
   "outputs": [],
   "source": []
  },
  {
   "cell_type": "markdown",
   "metadata": {},
   "source": [
    "# 79. 多層ニューラルネットワーク"
   ]
  },
  {
   "cell_type": "code",
   "execution_count": 159,
   "metadata": {},
   "outputs": [],
   "source": [
    "from torch.nn import functional as F\n",
    "\n",
    "class MLPNet(nn.Module):\n",
    "    def __init__(self, input_size, mid_size, output_size, mid_layers):\n",
    "        super().__init__()\n",
    "        self.mid_layers = mid_layers\n",
    "        self.fc = nn.Linear(input_size, mid_size)\n",
    "        self.fc_mid = nn.Linear(mid_size, mid_size)\n",
    "        self.fc_out = nn.Linear(mid_size, output_size)\n",
    "        self.bn = nn.BatchNorm1d(mid_size)\n",
    "        \n",
    "    def forward(self, x):\n",
    "        x = F.relu(self.fc(x))\n",
    "        for _ in range(self.mid_layers):\n",
    "            x = F.relu(self.bn(self.fc_mid(x)))\n",
    "        x = F.relu(self.fc_out(x))\n",
    "        \n",
    "        return x"
   ]
  },
  {
   "cell_type": "code",
   "execution_count": 160,
   "metadata": {},
   "outputs": [
    {
     "name": "stdout",
     "output_type": "stream",
     "text": [
      "epoch: 0, loss_train: 1.0744, accuracy_train: 0.6926, loss_valid: 1.0771, accuracy_valid: 0.6882 time: 1.0730 sec\n",
      "epoch: 1, loss_train: 0.8232, accuracy_train: 0.7528, loss_valid: 0.8317, accuracy_valid: 0.7478 time: 0.9212 sec\n",
      "epoch: 2, loss_train: 0.7277, accuracy_train: 0.7682, loss_valid: 0.7385, accuracy_valid: 0.7546 time: 0.7954 sec\n",
      "epoch: 3, loss_train: 0.6725, accuracy_train: 0.7743, loss_valid: 0.6843, accuracy_valid: 0.7644 time: 0.7900 sec\n",
      "epoch: 4, loss_train: 0.6372, accuracy_train: 0.7816, loss_valid: 0.6494, accuracy_valid: 0.7752 time: 0.7675 sec\n",
      "epoch: 5, loss_train: 0.6044, accuracy_train: 0.7898, loss_valid: 0.6172, accuracy_valid: 0.7840 time: 0.7781 sec\n",
      "epoch: 6, loss_train: 0.5781, accuracy_train: 0.7966, loss_valid: 0.5910, accuracy_valid: 0.7977 time: 0.7822 sec\n",
      "epoch: 7, loss_train: 0.5571, accuracy_train: 0.8053, loss_valid: 0.5712, accuracy_valid: 0.8025 time: 0.8227 sec\n",
      "epoch: 8, loss_train: 0.5385, accuracy_train: 0.8130, loss_valid: 0.5536, accuracy_valid: 0.8104 time: 0.7804 sec\n",
      "epoch: 9, loss_train: 0.5210, accuracy_train: 0.8201, loss_valid: 0.5372, accuracy_valid: 0.8113 time: 0.7805 sec\n",
      "epoch: 10, loss_train: 0.5023, accuracy_train: 0.8269, loss_valid: 0.5199, accuracy_valid: 0.8152 time: 0.8878 sec\n",
      "epoch: 11, loss_train: 0.4867, accuracy_train: 0.8377, loss_valid: 0.5073, accuracy_valid: 0.8201 time: 0.8111 sec\n",
      "epoch: 12, loss_train: 0.4686, accuracy_train: 0.8460, loss_valid: 0.4908, accuracy_valid: 0.8270 time: 0.9209 sec\n",
      "epoch: 13, loss_train: 0.4540, accuracy_train: 0.8522, loss_valid: 0.4775, accuracy_valid: 0.8407 time: 0.9182 sec\n",
      "epoch: 14, loss_train: 0.4405, accuracy_train: 0.8586, loss_valid: 0.4649, accuracy_valid: 0.8416 time: 0.8757 sec\n",
      "epoch: 15, loss_train: 0.4286, accuracy_train: 0.8621, loss_valid: 0.4543, accuracy_valid: 0.8436 time: 0.8261 sec\n",
      "epoch: 16, loss_train: 0.4154, accuracy_train: 0.8659, loss_valid: 0.4418, accuracy_valid: 0.8495 time: 0.8275 sec\n",
      "epoch: 17, loss_train: 0.4067, accuracy_train: 0.8720, loss_valid: 0.4354, accuracy_valid: 0.8465 time: 0.7839 sec\n",
      "epoch: 18, loss_train: 0.3960, accuracy_train: 0.8750, loss_valid: 0.4250, accuracy_valid: 0.8485 time: 0.8032 sec\n",
      "epoch: 19, loss_train: 0.3904, accuracy_train: 0.8801, loss_valid: 0.4213, accuracy_valid: 0.8573 time: 0.8016 sec\n",
      "epoch: 20, loss_train: 0.3792, accuracy_train: 0.8794, loss_valid: 0.4101, accuracy_valid: 0.8563 time: 0.8069 sec\n",
      "epoch: 21, loss_train: 0.3741, accuracy_train: 0.8824, loss_valid: 0.4064, accuracy_valid: 0.8612 time: 0.8281 sec\n",
      "epoch: 22, loss_train: 0.3685, accuracy_train: 0.8831, loss_valid: 0.4018, accuracy_valid: 0.8641 time: 0.8070 sec\n",
      "epoch: 23, loss_train: 0.3626, accuracy_train: 0.8849, loss_valid: 0.3959, accuracy_valid: 0.8671 time: 0.8325 sec\n",
      "epoch: 24, loss_train: 0.3571, accuracy_train: 0.8851, loss_valid: 0.3906, accuracy_valid: 0.8680 time: 0.7670 sec\n",
      "epoch: 25, loss_train: 0.3504, accuracy_train: 0.8864, loss_valid: 0.3847, accuracy_valid: 0.8690 time: 0.6677 sec\n",
      "epoch: 26, loss_train: 0.3455, accuracy_train: 0.8898, loss_valid: 0.3807, accuracy_valid: 0.8749 time: 0.8332 sec\n",
      "epoch: 27, loss_train: 0.3426, accuracy_train: 0.8915, loss_valid: 0.3791, accuracy_valid: 0.8749 time: 1.1039 sec\n",
      "epoch: 28, loss_train: 0.3381, accuracy_train: 0.8904, loss_valid: 0.3750, accuracy_valid: 0.8700 time: 1.5091 sec\n",
      "epoch: 29, loss_train: 0.3327, accuracy_train: 0.8926, loss_valid: 0.3708, accuracy_valid: 0.8729 time: 0.8599 sec\n",
      "epoch: 30, loss_train: 0.3292, accuracy_train: 0.8957, loss_valid: 0.3673, accuracy_valid: 0.8788 time: 1.0164 sec\n",
      "epoch: 31, loss_train: 0.3267, accuracy_train: 0.8965, loss_valid: 0.3662, accuracy_valid: 0.8817 time: 1.0320 sec\n",
      "epoch: 32, loss_train: 0.3222, accuracy_train: 0.8965, loss_valid: 0.3631, accuracy_valid: 0.8798 time: 1.4004 sec\n",
      "epoch: 33, loss_train: 0.3194, accuracy_train: 0.8975, loss_valid: 0.3608, accuracy_valid: 0.8788 time: 0.9897 sec\n",
      "epoch: 34, loss_train: 0.3161, accuracy_train: 0.8995, loss_valid: 0.3590, accuracy_valid: 0.8837 time: 0.8946 sec\n",
      "epoch: 35, loss_train: 0.3146, accuracy_train: 0.8996, loss_valid: 0.3566, accuracy_valid: 0.8827 time: 0.9327 sec\n",
      "epoch: 36, loss_train: 0.3086, accuracy_train: 0.8997, loss_valid: 0.3535, accuracy_valid: 0.8817 time: 0.7339 sec\n",
      "epoch: 37, loss_train: 0.3049, accuracy_train: 0.9011, loss_valid: 0.3506, accuracy_valid: 0.8827 time: 0.7216 sec\n",
      "epoch: 38, loss_train: 0.3034, accuracy_train: 0.9019, loss_valid: 0.3501, accuracy_valid: 0.8837 time: 0.6404 sec\n",
      "epoch: 39, loss_train: 0.3011, accuracy_train: 0.9027, loss_valid: 0.3458, accuracy_valid: 0.8856 time: 1.3634 sec\n",
      "epoch: 40, loss_train: 0.2964, accuracy_train: 0.9030, loss_valid: 0.3454, accuracy_valid: 0.8876 time: 3.6934 sec\n",
      "epoch: 41, loss_train: 0.2935, accuracy_train: 0.9055, loss_valid: 0.3418, accuracy_valid: 0.8847 time: 2.3418 sec\n",
      "epoch: 42, loss_train: 0.2924, accuracy_train: 0.9055, loss_valid: 0.3421, accuracy_valid: 0.8895 time: 1.3070 sec\n",
      "epoch: 43, loss_train: 0.2906, accuracy_train: 0.9058, loss_valid: 0.3396, accuracy_valid: 0.8866 time: 1.4571 sec\n",
      "epoch: 44, loss_train: 0.2870, accuracy_train: 0.9063, loss_valid: 0.3376, accuracy_valid: 0.8886 time: 1.6517 sec\n",
      "epoch: 45, loss_train: 0.2854, accuracy_train: 0.9078, loss_valid: 0.3375, accuracy_valid: 0.8876 time: 1.5735 sec\n",
      "epoch: 46, loss_train: 0.2845, accuracy_train: 0.9090, loss_valid: 0.3375, accuracy_valid: 0.8915 time: 0.6747 sec\n",
      "epoch: 47, loss_train: 0.2801, accuracy_train: 0.9075, loss_valid: 0.3322, accuracy_valid: 0.8876 time: 0.7730 sec\n",
      "epoch: 48, loss_train: 0.2773, accuracy_train: 0.9111, loss_valid: 0.3306, accuracy_valid: 0.8925 time: 1.4025 sec\n",
      "epoch: 49, loss_train: 0.2754, accuracy_train: 0.9102, loss_valid: 0.3303, accuracy_valid: 0.8905 time: 0.9494 sec\n",
      "epoch: 50, loss_train: 0.2745, accuracy_train: 0.9117, loss_valid: 0.3310, accuracy_valid: 0.8974 time: 0.7511 sec\n",
      "epoch: 51, loss_train: 0.2711, accuracy_train: 0.9112, loss_valid: 0.3293, accuracy_valid: 0.8905 time: 1.0289 sec\n",
      "epoch: 52, loss_train: 0.2690, accuracy_train: 0.9133, loss_valid: 0.3286, accuracy_valid: 0.8935 time: 1.8891 sec\n",
      "epoch: 53, loss_train: 0.2674, accuracy_train: 0.9118, loss_valid: 0.3279, accuracy_valid: 0.8935 time: 2.6858 sec\n",
      "epoch: 54, loss_train: 0.2651, accuracy_train: 0.9139, loss_valid: 0.3272, accuracy_valid: 0.8935 time: 4.3931 sec\n",
      "epoch: 55, loss_train: 0.2640, accuracy_train: 0.9121, loss_valid: 0.3258, accuracy_valid: 0.8895 time: 2.1208 sec\n",
      "epoch: 56, loss_train: 0.2623, accuracy_train: 0.9139, loss_valid: 0.3248, accuracy_valid: 0.8915 time: 1.5240 sec\n",
      "epoch: 57, loss_train: 0.2589, accuracy_train: 0.9149, loss_valid: 0.3227, accuracy_valid: 0.8925 time: 0.7388 sec\n",
      "epoch: 58, loss_train: 0.2586, accuracy_train: 0.9139, loss_valid: 0.3231, accuracy_valid: 0.8905 time: 0.9493 sec\n",
      "epoch: 59, loss_train: 0.2552, accuracy_train: 0.9162, loss_valid: 0.3211, accuracy_valid: 0.8915 time: 1.0015 sec\n",
      "epoch: 60, loss_train: 0.2550, accuracy_train: 0.9188, loss_valid: 0.3226, accuracy_valid: 0.8993 time: 2.3097 sec\n",
      "epoch: 61, loss_train: 0.2526, accuracy_train: 0.9171, loss_valid: 0.3211, accuracy_valid: 0.8915 time: 1.3644 sec\n",
      "epoch: 62, loss_train: 0.2500, accuracy_train: 0.9183, loss_valid: 0.3199, accuracy_valid: 0.8935 time: 0.8109 sec\n",
      "epoch: 63, loss_train: 0.2490, accuracy_train: 0.9210, loss_valid: 0.3206, accuracy_valid: 0.8954 time: 0.7683 sec\n",
      "epoch: 64, loss_train: 0.2471, accuracy_train: 0.9201, loss_valid: 0.3185, accuracy_valid: 0.8964 time: 0.6791 sec\n",
      "epoch: 65, loss_train: 0.2458, accuracy_train: 0.9199, loss_valid: 0.3190, accuracy_valid: 0.8993 time: 0.6206 sec\n",
      "epoch: 66, loss_train: 0.2433, accuracy_train: 0.9211, loss_valid: 0.3170, accuracy_valid: 0.8944 time: 0.6460 sec\n",
      "epoch: 67, loss_train: 0.2406, accuracy_train: 0.9211, loss_valid: 0.3160, accuracy_valid: 0.8974 time: 0.6798 sec\n",
      "epoch: 68, loss_train: 0.2402, accuracy_train: 0.9218, loss_valid: 0.3165, accuracy_valid: 0.8935 time: 0.7052 sec\n",
      "epoch: 69, loss_train: 0.2395, accuracy_train: 0.9209, loss_valid: 0.3158, accuracy_valid: 0.8886 time: 0.6654 sec\n",
      "epoch: 70, loss_train: 0.2376, accuracy_train: 0.9223, loss_valid: 0.3161, accuracy_valid: 0.8925 time: 0.6853 sec\n",
      "epoch: 71, loss_train: 0.2354, accuracy_train: 0.9230, loss_valid: 0.3141, accuracy_valid: 0.8983 time: 0.6595 sec\n",
      "epoch: 72, loss_train: 0.2334, accuracy_train: 0.9245, loss_valid: 0.3136, accuracy_valid: 0.8954 time: 0.7091 sec\n",
      "epoch: 73, loss_train: 0.2330, accuracy_train: 0.9241, loss_valid: 0.3130, accuracy_valid: 0.8935 time: 0.6523 sec\n",
      "epoch: 74, loss_train: 0.2316, accuracy_train: 0.9259, loss_valid: 0.3156, accuracy_valid: 0.8964 time: 0.6604 sec\n",
      "epoch: 75, loss_train: 0.2298, accuracy_train: 0.9246, loss_valid: 0.3135, accuracy_valid: 0.8935 time: 0.6367 sec\n",
      "epoch: 76, loss_train: 0.2276, accuracy_train: 0.9265, loss_valid: 0.3136, accuracy_valid: 0.8964 time: 0.6966 sec\n",
      "epoch: 77, loss_train: 0.2256, accuracy_train: 0.9257, loss_valid: 0.3118, accuracy_valid: 0.8915 time: 0.7447 sec\n",
      "epoch: 78, loss_train: 0.2253, accuracy_train: 0.9262, loss_valid: 0.3130, accuracy_valid: 0.8944 time: 0.7343 sec\n",
      "epoch: 79, loss_train: 0.2228, accuracy_train: 0.9277, loss_valid: 0.3114, accuracy_valid: 0.8964 time: 0.6808 sec\n",
      "epoch: 80, loss_train: 0.2220, accuracy_train: 0.9277, loss_valid: 0.3114, accuracy_valid: 0.8954 time: 0.6450 sec\n",
      "epoch: 81, loss_train: 0.2202, accuracy_train: 0.9278, loss_valid: 0.3099, accuracy_valid: 0.8974 time: 0.6860 sec\n",
      "epoch: 82, loss_train: 0.2185, accuracy_train: 0.9282, loss_valid: 0.3109, accuracy_valid: 0.8954 time: 0.6908 sec\n",
      "epoch: 83, loss_train: 0.2171, accuracy_train: 0.9305, loss_valid: 0.3119, accuracy_valid: 0.8944 time: 0.6659 sec\n",
      "epoch: 84, loss_train: 0.2157, accuracy_train: 0.9301, loss_valid: 0.3099, accuracy_valid: 0.8974 time: 0.6439 sec\n",
      "epoch: 85, loss_train: 0.2148, accuracy_train: 0.9303, loss_valid: 0.3106, accuracy_valid: 0.8974 time: 0.6829 sec\n",
      "epoch: 86, loss_train: 0.2123, accuracy_train: 0.9299, loss_valid: 0.3079, accuracy_valid: 0.8964 time: 0.6671 sec\n",
      "epoch: 87, loss_train: 0.2115, accuracy_train: 0.9326, loss_valid: 0.3092, accuracy_valid: 0.8964 time: 0.7176 sec\n",
      "epoch: 88, loss_train: 0.2102, accuracy_train: 0.9318, loss_valid: 0.3091, accuracy_valid: 0.8964 time: 0.6757 sec\n",
      "epoch: 89, loss_train: 0.2084, accuracy_train: 0.9322, loss_valid: 0.3079, accuracy_valid: 0.9003 time: 0.6908 sec\n",
      "epoch: 90, loss_train: 0.2102, accuracy_train: 0.9332, loss_valid: 0.3098, accuracy_valid: 0.8954 time: 0.6572 sec\n",
      "epoch: 91, loss_train: 0.2058, accuracy_train: 0.9326, loss_valid: 0.3073, accuracy_valid: 0.8993 time: 0.6843 sec\n",
      "epoch: 92, loss_train: 0.2037, accuracy_train: 0.9348, loss_valid: 0.3075, accuracy_valid: 0.8954 time: 0.7810 sec\n",
      "epoch: 93, loss_train: 0.2036, accuracy_train: 0.9350, loss_valid: 0.3076, accuracy_valid: 0.8983 time: 0.6866 sec\n",
      "epoch: 94, loss_train: 0.2022, accuracy_train: 0.9345, loss_valid: 0.3069, accuracy_valid: 0.8954 time: 0.7204 sec\n",
      "epoch: 95, loss_train: 0.1997, accuracy_train: 0.9360, loss_valid: 0.3066, accuracy_valid: 0.8974 time: 0.8237 sec\n",
      "epoch: 96, loss_train: 0.1995, accuracy_train: 0.9366, loss_valid: 0.3075, accuracy_valid: 0.8954 time: 0.8206 sec\n",
      "epoch: 97, loss_train: 0.1992, accuracy_train: 0.9356, loss_valid: 0.3088, accuracy_valid: 0.8983 time: 0.8371 sec\n",
      "epoch: 98, loss_train: 0.1956, accuracy_train: 0.9392, loss_valid: 0.3072, accuracy_valid: 0.8983 time: 0.7898 sec\n",
      "epoch: 99, loss_train: 0.1953, accuracy_train: 0.9382, loss_valid: 0.3062, accuracy_valid: 0.8944 time: 0.9011 sec\n",
      "epoch: 100, loss_train: 0.1937, accuracy_train: 0.9388, loss_valid: 0.3059, accuracy_valid: 0.8983 time: 0.8259 sec\n",
      "epoch: 101, loss_train: 0.1928, accuracy_train: 0.9400, loss_valid: 0.3059, accuracy_valid: 0.8983 time: 0.8028 sec\n",
      "epoch: 102, loss_train: 0.1917, accuracy_train: 0.9400, loss_valid: 0.3061, accuracy_valid: 0.8964 time: 0.7482 sec\n",
      "epoch: 103, loss_train: 0.1906, accuracy_train: 0.9412, loss_valid: 0.3073, accuracy_valid: 0.8993 time: 0.7600 sec\n"
     ]
    }
   ],
   "source": [
    "mlp_model = MLPNet(300, 200, 4, 1)\n",
    "dataset_train = NewsDataset(x_train, y_train)\n",
    "dataset_valid = NewsDataset(x_valid, y_valid)\n",
    "criterion = nn.CrossEntropyLoss()\n",
    "optimizer = torch.optim.SGD(mlp_model.parameters(), lr=1e-3)\n",
    "# device = torch.device('cuda')\n",
    "device = None\n",
    "\n",
    "logs = train_model(dataset_train, dataset_valid, 64, mlp_model, criterion, optimizer, 1000, device)\n",
    "\n"
   ]
  },
  {
   "cell_type": "code",
   "execution_count": 161,
   "metadata": {},
   "outputs": [
    {
     "data": {
      "image/png": "[encoded data removed]",
      "text/plain": [
       "<Figure size 1080x360 with 2 Axes>"
      ]
     },
     "metadata": {
      "needs_background": "light"
     },
     "output_type": "display_data"
    }
   ],
   "source": [
    "log_train, log_valid = logs[\"train\"], logs[\"valid\"]\n",
    "\n",
    "from matplotlib import pyplot as plt\n",
    "\n",
    "\n",
    "fig, ax = plt.subplots(1, 2, figsize=(15, 5))\n",
    "ax[0].plot(np.array(log_train).T[0], label='train')\n",
    "ax[0].plot(np.array(log_valid).T[0], label='valid')\n",
    "ax[0].set_xlabel('epoch')\n",
    "ax[0].set_ylabel('loss')\n",
    "ax[0].legend()\n",
    "ax[1].plot(np.array(log_train).T[1], label='train')\n",
    "ax[1].plot(np.array(log_valid).T[1], label='valid')\n",
    "ax[1].set_xlabel('epoch')\n",
    "ax[1].set_ylabel('accuracy')\n",
    "ax[1].legend()\n",
    "plt.show()"
   ]
  },
  {
   "cell_type": "code",
   "execution_count": null,
   "metadata": {},
   "outputs": [],
   "source": []
  },
  {
   "cell_type": "code",
   "execution_count": null,
   "metadata": {},
   "outputs": [],
   "source": []
  },
  {
   "cell_type": "code",
   "execution_count": null,
   "metadata": {},
   "outputs": [],
   "source": []
  }
 ],
 "metadata": {
  "kernelspec": {
   "display_name": "Python 3",
   "language": "python",
   "name": "python3"
  },
  "language_info": {
   "codemirror_mode": {
    "name": "ipython",
    "version": 3
   },
   "file_extension": ".py",
   "mimetype": "text/x-python",
   "name": "python",
   "nbconvert_exporter": "python",
   "pygments_lexer": "ipython3",
   "version": "3.7.4"
  }
 },
 "nbformat": 4,
 "nbformat_minor": 4
}
