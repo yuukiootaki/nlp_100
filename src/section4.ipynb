{
 "cells": [
  {
   "cell_type": "code",
   "execution_count": 83,
   "metadata": {},
   "outputs": [],
   "source": [
    "import MeCab\n",
    "import re\n",
    "import copy\n",
    "import pandas as pd\n",
    "import matplotlib.pyplot as plt\n",
    "from IPython.display import HTML\n",
    "from matplotlib.font_manager import FontProperties\n",
    "\n",
    "\n",
    "%matplotlib inline\n",
    "\n",
    "\n",
    "mecab = MeCab.Tagger ('-d /usr/local/lib/mecab/dic/mecab-ipadic-neologd')\n",
    "MECAB_FILE_PATH = '../data/neko.txt.mecab'"
   ]
  },
  {
   "cell_type": "markdown",
   "metadata": {},
   "source": [
    "# 30. 形態素解析結果の読み込み"
   ]
  },
  {
   "cell_type": "code",
   "execution_count": 2,
   "metadata": {},
   "outputs": [],
   "source": [
    "with open(MECAB_FILE_PATH) as f:\n",
    "    neko_text = f.read()"
   ]
  },
  {
   "cell_type": "code",
   "execution_count": 3,
   "metadata": {},
   "outputs": [
    {
     "data": {
      "text/plain": [
       "'一\\t名詞,数,*,*,*,*,一,イチ,イチ\\nEOS\\nEOS\\n\\u3000\\t記号,空白,*,*,*,*,\\u3000,\\u3000,\\u3000\\n吾輩\\t名詞,代名詞,一般,*,*,*,吾輩,ワガハイ,ワガハイ\\nは\\t助詞,係助詞,*,*,*,'"
      ]
     },
     "execution_count": 3,
     "metadata": {},
     "output_type": "execute_result"
    }
   ],
   "source": [
    "neko_text[0:100]"
   ]
  },
  {
   "cell_type": "code",
   "execution_count": 20,
   "metadata": {},
   "outputs": [
    {
     "name": "stdout",
     "output_type": "stream",
     "text": [
      "<re.Match object; span=(0, 22), match='一\\t名詞,数,*,*,*,*,一,イチ,イチ'>\n",
      "一\n",
      "名詞\n",
      "一\n"
     ]
    }
   ],
   "source": [
    "mecab_pattern = re.compile(r\"^(.+)\\t(.+),(.+),(.+),(.+),(.+),(.+),(.+),(.+),(.+)$\")\n",
    "eos_pattern = re.compile(r\"^EOS$\")\n",
    "\n",
    "res = mecab_pattern.match(neko_text.split(\"\\n\")[0])\n",
    "print(res)\n",
    "print(res.group(1))\n",
    "print(res.group(2))\n",
    "print(res.group(8))"
   ]
  },
  {
   "cell_type": "code",
   "execution_count": 21,
   "metadata": {},
   "outputs": [],
   "source": [
    "mecabed_text = []\n",
    "line = []\n",
    "\n",
    "#mecab_pattern = re.compile(r\"(.+)\\t(.+),(.+),(.+),(.+),(.+),(.+),(.+),(.+)\")\n",
    "#eos_pattern = re.compile(r\"^EOS$\")\n",
    "\n",
    "for txt in neko_text.split(\"\\n\"):\n",
    "    res = mecab_pattern.match(txt)\n",
    "    if res is not None:\n",
    "        dic = {\n",
    "            'surface': res.group(1),\n",
    "            'base': res.group(8),\n",
    "            'pos': res.group(2),\n",
    "            'pos1': res.group(3)\n",
    "        }\n",
    "        line.append(dic)\n",
    "        #print(line)\n",
    "        \n",
    "    elif eos_pattern.match(txt) is not None:\n",
    "        if len(line) > 0:\n",
    "            mecabed_text.append(line)\n",
    "        #if len(mecabed_text) % 10 == 0:\n",
    "        #    print(len(mecabed_text))\n",
    "        line = []"
   ]
  },
  {
   "cell_type": "code",
   "execution_count": 22,
   "metadata": {},
   "outputs": [
    {
     "data": {
      "text/plain": [
       "9210"
      ]
     },
     "execution_count": 22,
     "metadata": {},
     "output_type": "execute_result"
    }
   ],
   "source": [
    "len(mecabed_text)"
   ]
  },
  {
   "cell_type": "code",
   "execution_count": 25,
   "metadata": {},
   "outputs": [
    {
     "data": {
      "text/plain": [
       "[[{'surface': '一', 'base': '一', 'pos': '名詞', 'pos1': '数'}],\n",
       " [{'surface': '\\u3000', 'base': '\\u3000', 'pos': '記号', 'pos1': '空白'},\n",
       "  {'surface': '吾輩', 'base': '吾輩', 'pos': '名詞', 'pos1': '代名詞'},\n",
       "  {'surface': 'は', 'base': 'は', 'pos': '助詞', 'pos1': '係助詞'},\n",
       "  {'surface': '猫', 'base': '猫', 'pos': '名詞', 'pos1': '一般'},\n",
       "  {'surface': 'で', 'base': 'だ', 'pos': '助動詞', 'pos1': '*'},\n",
       "  {'surface': 'ある', 'base': 'ある', 'pos': '助動詞', 'pos1': '*'},\n",
       "  {'surface': '。', 'base': '。', 'pos': '記号', 'pos1': '句点'}],\n",
       " [{'surface': '名前', 'base': '名前', 'pos': '名詞', 'pos1': '一般'},\n",
       "  {'surface': 'は', 'base': 'は', 'pos': '助詞', 'pos1': '係助詞'},\n",
       "  {'surface': 'まだ', 'base': 'まだ', 'pos': '副詞', 'pos1': '助詞類接続'},\n",
       "  {'surface': '無い', 'base': '無い', 'pos': '形容詞', 'pos1': '自立'},\n",
       "  {'surface': '。', 'base': '。', 'pos': '記号', 'pos1': '句点'}],\n",
       " [{'surface': '\\u3000', 'base': '\\u3000', 'pos': '記号', 'pos1': '空白'},\n",
       "  {'surface': 'どこ', 'base': 'どこ', 'pos': '名詞', 'pos1': '代名詞'},\n",
       "  {'surface': 'で', 'base': 'で', 'pos': '助詞', 'pos1': '格助詞'},\n",
       "  {'surface': '生れ', 'base': '生れる', 'pos': '動詞', 'pos1': '自立'},\n",
       "  {'surface': 'た', 'base': 'た', 'pos': '助動詞', 'pos1': '*'},\n",
       "  {'surface': 'か', 'base': 'か', 'pos': '助詞', 'pos1': '副助詞／並立助詞／終助詞'},\n",
       "  {'surface': 'とんと', 'base': 'とんと', 'pos': '副詞', 'pos1': '一般'},\n",
       "  {'surface': '見当', 'base': '見当', 'pos': '名詞', 'pos1': 'サ変接続'},\n",
       "  {'surface': 'が', 'base': 'が', 'pos': '助詞', 'pos1': '格助詞'},\n",
       "  {'surface': 'つか', 'base': 'つく', 'pos': '動詞', 'pos1': '自立'},\n",
       "  {'surface': 'ぬ', 'base': 'ぬ', 'pos': '助動詞', 'pos1': '*'},\n",
       "  {'surface': '。', 'base': '。', 'pos': '記号', 'pos1': '句点'}],\n",
       " [{'surface': '何', 'base': '何', 'pos': '名詞', 'pos1': '代名詞'},\n",
       "  {'surface': 'でも', 'base': 'でも', 'pos': '助詞', 'pos1': '副助詞'},\n",
       "  {'surface': '薄暗い', 'base': '薄暗い', 'pos': '形容詞', 'pos1': '自立'},\n",
       "  {'surface': 'じめじめ', 'base': 'じめじめ', 'pos': '副詞', 'pos1': '一般'},\n",
       "  {'surface': 'し', 'base': 'する', 'pos': '動詞', 'pos1': '自立'},\n",
       "  {'surface': 'た', 'base': 'た', 'pos': '助動詞', 'pos1': '*'},\n",
       "  {'surface': '所', 'base': '所', 'pos': '名詞', 'pos1': '非自立'},\n",
       "  {'surface': 'で', 'base': 'で', 'pos': '助詞', 'pos1': '格助詞'},\n",
       "  {'surface': '泣い', 'base': '泣く', 'pos': '動詞', 'pos1': '自立'},\n",
       "  {'surface': 'て', 'base': 'て', 'pos': '助詞', 'pos1': '接続助詞'},\n",
       "  {'surface': 'いた事', 'base': 'いた事', 'pos': '名詞', 'pos1': '一般'},\n",
       "  {'surface': 'だけ', 'base': 'だけ', 'pos': '助詞', 'pos1': '副助詞'},\n",
       "  {'surface': 'は', 'base': 'は', 'pos': '助詞', 'pos1': '係助詞'},\n",
       "  {'surface': '記憶', 'base': '記憶', 'pos': '名詞', 'pos1': 'サ変接続'},\n",
       "  {'surface': 'し', 'base': 'する', 'pos': '動詞', 'pos1': '自立'},\n",
       "  {'surface': 'て', 'base': 'て', 'pos': '助詞', 'pos1': '接続助詞'},\n",
       "  {'surface': 'いる', 'base': 'いる', 'pos': '動詞', 'pos1': '非自立'},\n",
       "  {'surface': '。', 'base': '。', 'pos': '記号', 'pos1': '句点'}]]"
      ]
     },
     "execution_count": 25,
     "metadata": {},
     "output_type": "execute_result"
    }
   ],
   "source": [
    "mecabed_text[0:5]"
   ]
  },
  {
   "cell_type": "markdown",
   "metadata": {},
   "source": [
    "# 31. 動詞 32. 動詞の原形"
   ]
  },
  {
   "cell_type": "code",
   "execution_count": 29,
   "metadata": {},
   "outputs": [
    {
     "name": "stdout",
     "output_type": "stream",
     "text": [
      "['生れる', 'つく', 'する', '泣く', 'いる', '始める', '見る', '聞く', '捕える', '煮る']\n"
     ]
    }
   ],
   "source": [
    "verbs = set()\n",
    "\n",
    "verbs_test = []\n",
    "for line in mecabed_text:\n",
    "    for morpheme in line:\n",
    "        if morpheme['pos'] == '動詞':\n",
    "            verbs.add(morpheme['base'])\n",
    "            verbs_test.append(morpheme['base'])\n",
    "            \n",
    "print(sorted(verbs, key=verbs_test.index)[:10])"
   ]
  },
  {
   "cell_type": "markdown",
   "metadata": {},
   "source": [
    "# 33. 「AのB」"
   ]
  },
  {
   "cell_type": "code",
   "execution_count": 40,
   "metadata": {},
   "outputs": [
    {
     "name": "stdout",
     "output_type": "stream",
     "text": [
      "彼の掌\n",
      "掌の上\n",
      "書生の顔\n"
     ]
    }
   ],
   "source": [
    "for line_number, line in enumerate(mecabed_text):\n",
    "    for index, morpheme in enumerate(line):\n",
    "        if morpheme['base'] == 'の' \\\n",
    "            and index - 1 >= 0 and index + 1 < len(line) \\\n",
    "            and line[index - 1]['pos'] == '名詞' and line[index + 1]['pos'] == '名詞':\n",
    "            \n",
    "            print(line[index - 1]['surface'] + line[index]['surface'] + line[index + 1]['surface'])\n",
    "                \n",
    "            \n",
    "    if line_number > 10:\n",
    "        break\n",
    "            "
   ]
  },
  {
   "cell_type": "markdown",
   "metadata": {},
   "source": [
    "# 34. 名詞の連接"
   ]
  },
  {
   "cell_type": "code",
   "execution_count": 45,
   "metadata": {},
   "outputs": [
    {
     "name": "stdout",
     "output_type": "stream",
     "text": [
      "人間中\n",
      "一番獰悪\n",
      "時妙\n",
      "一毛\n",
      "その後猫\n",
      "一度\n",
      "邸内\n",
      "三毛\n",
      "書生以外\n",
      "四五遍\n",
      "この間おさん\n",
      "三馬\n",
      "御台所\n",
      "まま奥\n",
      "住家\n",
      "終日書斎\n",
      "勉強家\n",
      "勉強家\n",
      "勤勉家\n",
      "二三ページ\n",
      "主人以外\n",
      "限り吾輩\n",
      "朝主人\n",
      "一番心持\n",
      "二人\n",
      "一つ床\n",
      "一人\n",
      "最後大変\n",
      "神経胃弱性\n",
      "物指\n",
      "言語同断\n"
     ]
    }
   ],
   "source": [
    "# No. 34\n",
    "for line_number, line in enumerate(mecabed_text):\n",
    "    nouns = []\n",
    "    for index, morpheme in enumerate(line):\n",
    "        if morpheme['pos'] == '名詞':\n",
    "            nouns.append(morpheme['surface'])\n",
    "        else:\n",
    "            if len(nouns) > 1:\n",
    "                print(\"\".join(nouns))\n",
    "            nouns = []\n",
    "            \n",
    "    if line_number > 100:\n",
    "        break"
   ]
  },
  {
   "cell_type": "markdown",
   "metadata": {},
   "source": [
    "# 35. 単語の出現頻度 36. 頻度上位10語"
   ]
  },
  {
   "cell_type": "code",
   "execution_count": 101,
   "metadata": {},
   "outputs": [
    {
     "data": {
      "image/png": "[encoded data removed]",
      "text/plain": [
       "<Figure size 432x288 with 1 Axes>"
      ]
     },
     "metadata": {
      "needs_background": "light"
     },
     "output_type": "display_data"
    }
   ],
   "source": [
    "# No.36\n",
    "words = []\n",
    "for line_number, line in enumerate(mecabed_text):\n",
    "    for index, morpheme in enumerate(line):\n",
    "        words.append(morpheme['base'])\n",
    "        \n",
    "def create_chart(words):\n",
    "    word_counts = pd.Series(words).value_counts()\n",
    "    words = list(word_counts.index)[0:10]\n",
    "    counts = list(word_counts)[0:10]\n",
    "    \n",
    "    fp = FontProperties(\n",
    "        fname='/Library/Fonts/AppleGothic.ttf'\n",
    "    )\n",
    "    \n",
    "    plt.bar(\n",
    "        range(0, 10),\n",
    "        counts,\n",
    "        align='center'\n",
    "    )\n",
    "    \n",
    "    plt.xlim(\n",
    "        xmin=-1,\n",
    "        xmax=10\n",
    "    )\n",
    "    \n",
    "    plt.xticks(\n",
    "        range(0, 10),\n",
    "        words,\n",
    "        fontproperties=fp\n",
    "    )\n",
    "    \n",
    "    plt.ylabel(\n",
    "        '出現頻度',\n",
    "        fontproperties=fp\n",
    "    )\n",
    "    \n",
    "    plt.show()\n",
    "    \n",
    "create_chart(words)"
   ]
  },
  {
   "cell_type": "markdown",
   "metadata": {},
   "source": [
    "# 37. 「猫」と共起頻度の高い上位10語"
   ]
  },
  {
   "cell_type": "code",
   "execution_count": 104,
   "metadata": {},
   "outputs": [
    {
     "data": {
      "image/png": "[encoded data removed]",
      "text/plain": [
       "<Figure size 432x288 with 1 Axes>"
      ]
     },
     "metadata": {
      "needs_background": "light"
     },
     "output_type": "display_data"
    }
   ],
   "source": [
    "words_with_neko = []\n",
    "for line_number, line in enumerate(mecabed_text):\n",
    "    for index, morpheme in enumerate(line):\n",
    "        if morpheme['base'] == '猫':\n",
    "            words_with_neko.extend([w['base'] for w in line if w['base'] != '猫'])\n",
    "            continue\n",
    "            \n",
    "create_chart(words_with_neko)"
   ]
  },
  {
   "cell_type": "markdown",
   "metadata": {},
   "source": [
    "# 38. ヒストグラム"
   ]
  },
  {
   "cell_type": "code",
   "execution_count": 106,
   "metadata": {},
   "outputs": [
    {
     "data": {
      "text/plain": [
       "(array([1.105e+04, 9.700e+01, 3.100e+01, 1.700e+01, 8.000e+00, 5.000e+00,\n",
       "        5.000e+00, 5.000e+00, 0.000e+00, 0.000e+00, 4.000e+00, 1.000e+00,\n",
       "        3.000e+00, 1.000e+00, 0.000e+00, 1.000e+00, 1.000e+00, 1.000e+00,\n",
       "        0.000e+00, 1.000e+00, 0.000e+00, 0.000e+00, 2.000e+00, 0.000e+00,\n",
       "        0.000e+00, 1.000e+00, 1.000e+00, 0.000e+00, 0.000e+00, 0.000e+00,\n",
       "        0.000e+00, 0.000e+00, 0.000e+00, 1.000e+00, 0.000e+00, 2.000e+00,\n",
       "        0.000e+00, 0.000e+00, 0.000e+00, 1.000e+00, 0.000e+00, 0.000e+00,\n",
       "        0.000e+00, 0.000e+00, 0.000e+00, 0.000e+00, 1.000e+00, 0.000e+00,\n",
       "        0.000e+00, 0.000e+00, 0.000e+00, 0.000e+00, 0.000e+00, 0.000e+00,\n",
       "        0.000e+00, 0.000e+00, 0.000e+00, 0.000e+00, 1.000e+00, 1.000e+00,\n",
       "        0.000e+00, 0.000e+00, 0.000e+00, 0.000e+00, 1.000e+00, 0.000e+00,\n",
       "        1.000e+00, 1.000e+00, 0.000e+00, 1.000e+00, 0.000e+00, 0.000e+00,\n",
       "        0.000e+00, 1.000e+00, 1.000e+00, 0.000e+00, 0.000e+00, 0.000e+00,\n",
       "        0.000e+00, 0.000e+00, 0.000e+00, 1.000e+00, 0.000e+00, 0.000e+00,\n",
       "        0.000e+00, 0.000e+00, 0.000e+00, 0.000e+00, 0.000e+00, 0.000e+00,\n",
       "        0.000e+00, 0.000e+00, 0.000e+00, 0.000e+00, 0.000e+00, 0.000e+00,\n",
       "        0.000e+00, 0.000e+00, 0.000e+00, 1.000e+00]),\n",
       " array([1.00000e+00, 9.29300e+01, 1.84860e+02, 2.76790e+02, 3.68720e+02,\n",
       "        4.60650e+02, 5.52580e+02, 6.44510e+02, 7.36440e+02, 8.28370e+02,\n",
       "        9.20300e+02, 1.01223e+03, 1.10416e+03, 1.19609e+03, 1.28802e+03,\n",
       "        1.37995e+03, 1.47188e+03, 1.56381e+03, 1.65574e+03, 1.74767e+03,\n",
       "        1.83960e+03, 1.93153e+03, 2.02346e+03, 2.11539e+03, 2.20732e+03,\n",
       "        2.29925e+03, 2.39118e+03, 2.48311e+03, 2.57504e+03, 2.66697e+03,\n",
       "        2.75890e+03, 2.85083e+03, 2.94276e+03, 3.03469e+03, 3.12662e+03,\n",
       "        3.21855e+03, 3.31048e+03, 3.40241e+03, 3.49434e+03, 3.58627e+03,\n",
       "        3.67820e+03, 3.77013e+03, 3.86206e+03, 3.95399e+03, 4.04592e+03,\n",
       "        4.13785e+03, 4.22978e+03, 4.32171e+03, 4.41364e+03, 4.50557e+03,\n",
       "        4.59750e+03, 4.68943e+03, 4.78136e+03, 4.87329e+03, 4.96522e+03,\n",
       "        5.05715e+03, 5.14908e+03, 5.24101e+03, 5.33294e+03, 5.42487e+03,\n",
       "        5.51680e+03, 5.60873e+03, 5.70066e+03, 5.79259e+03, 5.88452e+03,\n",
       "        5.97645e+03, 6.06838e+03, 6.16031e+03, 6.25224e+03, 6.34417e+03,\n",
       "        6.43610e+03, 6.52803e+03, 6.61996e+03, 6.71189e+03, 6.80382e+03,\n",
       "        6.89575e+03, 6.98768e+03, 7.07961e+03, 7.17154e+03, 7.26347e+03,\n",
       "        7.35540e+03, 7.44733e+03, 7.53926e+03, 7.63119e+03, 7.72312e+03,\n",
       "        7.81505e+03, 7.90698e+03, 7.99891e+03, 8.09084e+03, 8.18277e+03,\n",
       "        8.27470e+03, 8.36663e+03, 8.45856e+03, 8.55049e+03, 8.64242e+03,\n",
       "        8.73435e+03, 8.82628e+03, 8.91821e+03, 9.01014e+03, 9.10207e+03,\n",
       "        9.19400e+03]),\n",
       " <a list of 100 Patch objects>)"
      ]
     },
     "execution_count": 106,
     "metadata": {},
     "output_type": "execute_result"
    },
    {
     "data": {
      "image/png": "[encoded data removed]",
      "text/plain": [
       "<Figure size 432x288 with 1 Axes>"
      ]
     },
     "metadata": {
      "needs_background": "light"
     },
     "output_type": "display_data"
    }
   ],
   "source": [
    "# 38\n",
    "word_counts = pd.Series(words).value_counts()\n",
    "plt.hist(word_counts, bins=100)"
   ]
  },
  {
   "cell_type": "markdown",
   "metadata": {},
   "source": [
    "# 39. Zipfの法則"
   ]
  },
  {
   "cell_type": "code",
   "execution_count": 108,
   "metadata": {},
   "outputs": [
    {
     "data": {
      "image/png": "[encoded data removed]",
      "text/plain": [
       "<Figure size 432x288 with 1 Axes>"
      ]
     },
     "metadata": {
      "needs_background": "light"
     },
     "output_type": "display_data"
    }
   ],
   "source": [
    "# 39\n",
    "word_counts = pd.Series(words).value_counts()\n",
    "# words = list(word_counts.index)[0:10]\n",
    "counts = list(word_counts)\n",
    "\n",
    "plt.scatter(\n",
    "    range(1, len(counts) + 1),  # x軸：順位\n",
    "    counts                      # y軸：出現頻度\n",
    ")\n",
    "\n",
    "plt.xlim(1, len(counts) + 1)\n",
    "plt.ylim(1, counts[0])\n",
    "\n",
    "plt.xscale('log')\n",
    "plt.yscale('log')\n",
    "\n",
    "plt.title(\"Zipfの法則\", fontproperties=fp)\n",
    "plt.xlabel(\"出現度順位\", fontproperties=fp)\n",
    "plt.ylabel(\"出現頻度\", fontproperties=fp)\n",
    "\n",
    "plt.grid(axis=\"both\")\n",
    "\n",
    "plt.show()\n"
   ]
  },
  {
   "cell_type": "code",
   "execution_count": null,
   "metadata": {},
   "outputs": [],
   "source": []
  }
 ],
 "metadata": {
  "kernelspec": {
   "display_name": "Python 3",
   "language": "python",
   "name": "python3"
  },
  "language_info": {
   "codemirror_mode": {
    "name": "ipython",
    "version": 3
   },
   "file_extension": ".py",
   "mimetype": "text/x-python",
   "name": "python",
   "nbconvert_exporter": "python",
   "pygments_lexer": "ipython3",
   "version": "3.7.4"
  }
 },
 "nbformat": 4,
 "nbformat_minor": 4
}
