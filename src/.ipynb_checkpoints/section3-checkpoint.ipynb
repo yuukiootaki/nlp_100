{
 "cells": [
  {
   "cell_type": "code",
   "execution_count": 20,
   "metadata": {},
   "outputs": [],
   "source": [
    "import numpy as np\n",
    "import pandas as pd\n",
    "import json\n",
    "import re"
   ]
  },
  {
   "cell_type": "code",
   "execution_count": 14,
   "metadata": {},
   "outputs": [],
   "source": [
    "countries = {}\n",
    "with open('../data/jawiki-country.json') as fp:\n",
    "    line = fp.readline()\n",
    "    while line:\n",
    "        _json = json.loads(line)\n",
    "        countries[_json['title']] = _json\n",
    "        line = fp.readline()"
   ]
  },
  {
   "cell_type": "code",
   "execution_count": 29,
   "metadata": {},
   "outputs": [
    {
     "data": {
      "text/plain": [
       "dict_keys(['title', 'text'])"
      ]
     },
     "execution_count": 29,
     "metadata": {},
     "output_type": "execute_result"
    }
   ],
   "source": [
    "countries['イギリス'].keys()"
   ]
  },
  {
   "cell_type": "code",
   "execution_count": 58,
   "metadata": {},
   "outputs": [],
   "source": [
    "#countries['イギリス']['text']"
   ]
  },
  {
   "cell_type": "code",
   "execution_count": 19,
   "metadata": {},
   "outputs": [],
   "source": [
    "uk_texts = countries['イギリス']['text'].split('\\n')"
   ]
  },
  {
   "cell_type": "code",
   "execution_count": 77,
   "metadata": {},
   "outputs": [
    {
     "name": "stdout",
     "output_type": "stream",
     "text": [
      "['[ファイル:Royal Coat of Arms of the United Kingdom.svg|85px|イギリスの国章]]']\n",
      "['[ファイル:United States Navy Band - God Save the Queen.ogg]]']\n",
      "['[ファイル:Descriptio Prime Tabulae Europae.jpg|thumb|left|[[クラウディオス・プトレマイオス|プトレマイオス]]の『[[地理学 (プトレマイオス)|地理学]]』に基づく地図、アルビオンと[[:en:Hibernia|ヒベルニア]]（現在のアイルランド）の文字が見える]]']\n",
      "[\"[ファイル:Lenepveu, Jeanne d'Arc au siège d'Orléans.jpg|thumb|left|[[ジャンヌ・ダルク]]]]\"]\n",
      "['[ファイル:London.bankofengland.arp.jpg|thumb|[[イングランド銀行]]]]']\n",
      "['[ファイル:Battle of Waterloo 1815.PNG|thumb|ユグノーから[[:en:Baron Northwick|ノースウィック男爵]]が出た頃、イギリスは[[対仏大同盟]]の主役であった。連合国が[[ワーテルローの戦い]]で勝利し、[[ナポレオン戦争]]が終息した。こうして[[パクス・ブリタニカ]]の時代が到来した。]]']\n",
      "['[ファイル:Uk topo en.jpg|thumb|200px|イギリスの地形図]]']\n",
      "['[ファイル:BenNevis2005.jpg|thumb|[[ブリテン諸島]]最高峰の[[ベン・ネビス山]]]]']\n",
      "['[ファイル:Population density UK 2011 census.png|thumb|right|人口分布（2011年）]]']\n",
      "['[ファイル:2019 Greenwich Peninsula & Canary Wharf.jpg|150px]]<br /><small>[[ロンドン]]</small><br />[[ファイル:Birmingham Skyline from Edgbaston Cricket Ground crop.jpg|150px]]<br /><small>[[バーミンガム]]']\n",
      "['[ファイル:Leeds CBD at night.jpg|150px]]<br /><small>[[リーズ]]</small><br />[[ファイル:Glasgow and the Clyde from the air (geograph 4665720).jpg|150px]]<br /><small>[[グラスゴー]]']\n",
      "['[ファイル:Palace of Westminster, London - Feb 2007.jpg|thumb|[[イギリスの議会|英国議会]]が議事堂として使用する[[ウェストミンスター宮殿]]]]']\n",
      "['[ファイル:Scotland Parliament Holyrood.jpg|thumb|[[スコットランド議会]]議事堂]]']\n",
      "['[ファイル:Donald Trump and Theresa May (33998675310) (cropped).jpg|thumb|left|[[2017年]][[1月27日]]、就任直後の[[ドナルド・トランプ]]米大統領（右）と[[ホワイトハウス]]で会談する[[テリーザ・メイ]]元英首相（左）]]']\n",
      "['[ファイル:Soldiers Trooping the Colour, 16th June 2007.jpg|thumb|軍旗分列行進式における[[近衛兵 (イギリス)|近衛兵]]]]']\n",
      "['[ファイル:City of London skyline from London City Hall - Oct 2008.jpg|thumb|250px|ロンドンは2016年に発表された「世界の都市総合力ランキング」において、世界1位と評価された<ref>[http://www.mori-m-foundation.or.jp/ius/gpci/ 世界の都市総合力ランキング(GPCI) 2016] 森記念財団都市戦略研究所 2016年10月31日閲覧。</ref>]]']\n",
      "['[ファイル:Oil platform in the North SeaPros.jpg|thumb|[[北海油田]]]]']\n",
      "['[ファイル:Eurostar at St Pancras Jan 2008.jpg|thumb|国際列車[[ユーロスター]]の発着駅である[[セント・パンクラス駅]]]]']\n",
      "[\"[ファイル:Heathrow Terminal 5C Iwelumo-1.jpg|thumb|[[:en:London Heathrow Terminal 5|London Heathrow Terminal 5]]. [[ロンドン・ヒースロー空港]]は[[:en:World's busiest airports by international passenger traffic|国際線利用客数]]では世界随一である。]][[ファイル:Airbus A380-841 G-XLEB British Airways (10424102995).jpg|thumb|ブリティッシュ・エアウェイズ (イギリス最大の航空会社)]]\"]\n",
      "['[ファイル:UKpop.svg|thumb|right|イギリスの[[人口ピラミッド]]]]']\n",
      "['[ファイル:Anglospeak.svg|thumb|250px|世界の[[英語圏]]地域。濃い青色は英語が[[公用語]]または事実上の公用語になっている地域。薄い青色は英語が公用語であるが主要な言語ではない地域。]]']\n",
      "[\"[ファイル:Royal Aberdeen Children's Hospital.jpg|thumb|right|The Royal Aberdeen Children's Hospital。NHSスコットランドの小児病院]]\"]\n",
      "['[ファイル:CHANDOS3.jpg|thumb|150px|[[ウィリアム・シェイクスピア]]]]']\n",
      "['[ファイル:The Fabs.JPG|thumb|200px|[[ビートルズ]]]]']\n",
      "['[ファイル:Wembley Stadium, illuminated.jpg|thumb|220px|[[ウェンブリー・スタジアム]]]]']\n"
     ]
    }
   ],
   "source": [
    "for text in uk_texts:\n",
    "    if re.search(\"\\[ファイル:(.*)\\]\", text):\n",
    "        # print(text)\n",
    "        print(re.findall(\"(\\[ファイル:.*\\])\", text))"
   ]
  },
  {
   "cell_type": "code",
   "execution_count": 65,
   "metadata": {},
   "outputs": [
    {
     "name": "stdout",
     "output_type": "stream",
     "text": [
      "['イギリス|*]']\n",
      "['イギリス連邦加盟国]']\n",
      "['英連邦王国|*]']\n",
      "['G8加盟国]']\n",
      "['欧州連合加盟国|元]']\n",
      "['海洋国家]']\n",
      "['現存する君主国]']\n",
      "['島国]']\n",
      "['1801年に成立した国家・領域]']\n"
     ]
    }
   ],
   "source": [
    "# extract categories\n",
    "for text in uk_texts:\n",
    "    if re.search('\\[Categ',text):\n",
    "        matched = re.findall('\\[Category:(.+)\\]', text)\n",
    "        print(matched)"
   ]
  },
  {
   "cell_type": "code",
   "execution_count": 56,
   "metadata": {},
   "outputs": [
    {
     "name": "stdout",
     "output_type": "stream",
     "text": [
      "国名\n",
      "1\n",
      "歴史\n",
      "1\n",
      "地理\n",
      "1\n",
      "主要都市\n",
      "2\n",
      "気候\n",
      "2\n",
      "政治\n",
      "1\n",
      "元首\n",
      "2\n",
      "法\n",
      "2\n",
      "内政\n",
      "2\n",
      "地方行政区分\n",
      "2\n",
      "外交・軍事\n",
      "2\n",
      "経済\n",
      "1\n",
      "鉱業\n",
      "2\n",
      "農業\n",
      "2\n",
      "貿易\n",
      "2\n",
      "不動産\n",
      "2\n",
      "エネルギー政策\n",
      "2\n",
      "通貨\n",
      "2\n",
      "企業\n",
      "2\n",
      "通信\n",
      "3\n",
      "交通\n",
      "1\n",
      "道路\n",
      "2\n",
      "鉄道\n",
      "2\n",
      "海運\n",
      "2\n",
      "航空\n",
      "2\n",
      "科学技術\n",
      "1\n",
      "国民\n",
      "1\n",
      "言語\n",
      "2\n",
      "宗教\n",
      "2\n",
      "婚姻\n",
      "2\n",
      "移住\n",
      "2\n",
      "教育\n",
      "2\n",
      "医療\n",
      "2\n",
      "文化\n",
      "1\n",
      "食文化\n",
      "2\n",
      "文学\n",
      "2\n",
      "哲学\n",
      "2\n",
      "音楽\n",
      "2\n",
      "ポピュラー音楽\n",
      "3\n",
      "映画\n",
      "2\n",
      "コメディ\n",
      "2\n",
      "国花\n",
      "2\n",
      "世界遺産\n",
      "2\n",
      "祝祭日\n",
      "2\n",
      "スポーツ\n",
      "2\n",
      "サッカー\n",
      "3\n",
      "クリケット\n",
      "3\n",
      "競馬\n",
      "3\n",
      "モータースポーツ\n",
      "3\n",
      "野球\n",
      "3\n",
      " カーリング \n",
      "3\n",
      " 自転車競技 \n",
      "3\n",
      "脚注\n",
      "1\n",
      "関連項目\n",
      "1\n",
      "外部リンク\n",
      "1\n"
     ]
    }
   ],
   "source": [
    "for text in uk_texts:\n",
    "    if re.match('=+.+=+', text):\n",
    "        matched = re.findall('=+(.+?)=+', text)\n",
    "        count = text.count(\"=\")\n",
    "        print(matched[0])\n",
    "        print(int(count/2 - 1))"
   ]
  },
  {
   "cell_type": "code",
   "execution_count": 105,
   "metadata": {},
   "outputs": [
    {
     "name": "stdout",
     "output_type": "stream",
     "text": [
      "{'略名': 'イギリス', '日本語国名': ' グレートブリテン及び北アイルランド連合王国', '公式国名': ' {{lang|en|United Kingdom of Great Britain and Northern Ireland}}<ref>英語以外での正式国名:<br />', '国旗画像': ' Flag of the United Kingdom.svg', '国章画像': ' [[ファイル:Royal Coat of Arms of the United Kingdom.svg|85px|イギリスの国章]]', '国章リンク': '（[[イギリスの国章|国章]]）', '標語': ' {{lang|fr|[[Dieu et mon droit]]}}<br />（[[フランス語]]:[[Dieu et mon droit|神と我が権利]]）', '国歌': \" [[女王陛下万歳|{{lang|en|God Save the Queen}}]]{{en icon}}<br />''神よ女王を護り賜え''<br />{{center|[[ファイル:United States Navy Band - God Save the Queen.ogg]]}}\", '地図画像': ' Europe-UK.svg', '位置画像': ' United Kingdom (+overseas territories) in the World (+Antarctica claims).svg', '公用語': ' [[英語]]', '首都': ' [[ロンドン]]（事実上）', '最大都市': ' ロンドン', '元首等肩書': ' [[イギリスの君主|女王]]', '元首等氏名': ' [[エリザベス2世]]', '首相等肩書': ' [[イギリスの首相|首相]]', '首相等氏名': ' [[ボリス・ジョンソン]]', '他元首等肩書1': ' [[貴族院 (イギリス)|貴族院議長]]', '他元首等氏名1': ' [[:en:Norman Fowler, Baron Fowler|ノーマン・ファウラー]]', '他元首等肩書2': ' [[庶民院 (イギリス)|庶民院議長]]', '他元首等氏名2': ' {{仮リンク|リンゼイ・ホイル|en|Lindsay Hoyle}}', '他元首等肩書3': ' [[連合王国最高裁判所|最高裁判所長官]]', '他元首等氏名3': ' [[:en:Brenda Hale, Baroness Hale of Richmond|ブレンダ・ヘイル]]', '面積順位': ' 76', '面積大きさ': ' 1 E11', '面積値': ' 244,820', '水面積率': ' 1.3%', '人口統計年': ' 2018', '人口順位': ' 22', '人口大きさ': ' 1 E7', '人口値 = 6643万5600<ref>{{Cite web|url=https://www.ons.gov.uk/peoplepopulationandcommunity/populationandmigration/populationestimates|title=Population estimates - Office for National Statistics|accessdate=2019-06-26|date': '2019-06-26}}</ref>', '人口密度値': ' 271', 'GDP統計年元': ' 2012', 'GDP値元 = 1兆5478億<ref name=\"imf-statistics-gdp\">[http://www.imf.org/external/pubs/ft/weo/2012/02/weodata/weorept.aspx?pr.x=70&pr.y=13&sy=2010&ey=2012&scsm=1&ssd=1&sort=country&ds=.&br=1&c=112&s=NGDP%2CNGDPD%2CPPPGDP%2CPPPPC&grp=0&a': 'IMF>Data and Statistics>World Economic Outlook Databases>By Countrise>United Kingdom]</ref>', 'GDP統計年MER': ' 2012', 'GDP順位MER': ' 6', 'GDP値MER = 2兆4337億<ref name': '\"imf-statistics-gdp\" />', 'GDP統計年': ' 2012', 'GDP順位': ' 6', 'GDP値 = 2兆3162億<ref name': '\"imf-statistics-gdp\" />', 'GDP/人 = 36,727<ref name': '\"imf-statistics-gdp\" />', '建国形態': ' 建国', '確立形態1': ' [[イングランド王国]]／[[スコットランド王国]]<br />（両国とも[[合同法 (1707年)|1707年合同法]]まで）', '確立年月日1': ' 927年／843年', '確立形態2': ' [[グレートブリテン王国]]成立<br />（1707年合同法）', '確立年月日2': ' 1707年{{0}}5月{{0}}1日', '確立形態3': ' [[グレートブリテン及びアイルランド連合王国]]成立<br />（[[合同法 (1800年)|1800年合同法]]）', '確立年月日3': ' 1801年{{0}}1月{{0}}1日', '確立形態4': \" 現在の国号「'''グレートブリテン及び北アイルランド連合王国'''」に変更\", '確立年月日4': ' 1927年{{0}}4月12日', '通貨': ' [[スターリング・ポンド|UKポンド]] (£)', '通貨コード': ' GBP', '時間帯': ' ±0', '夏時間': ' +1', 'ISO 3166-1': ' GB '}\n"
     ]
    }
   ],
   "source": [
    "categories = {}\n",
    "country_text = countries['イギリス']['text']\n",
    "m1 = re.search(r'{{基礎情報 国.*?', country_text)\n",
    "m2 = re.search(r'(.*)\\n}}\\n', country_text[m1.end():])\n",
    "templates = country_text[m1.end():m2.end()+1].split('\\n')\n",
    "for text in templates:\n",
    "    m = re.match(r'\\|(.+)=(.*)', text)\n",
    "\n",
    "    if m is None:\n",
    "        continue\n",
    "        \n",
    "    categories[m.group(1).strip()] = m.group(2)\n",
    "        \n",
    "print(categories)"
   ]
  },
  {
   "cell_type": "code",
   "execution_count": null,
   "metadata": {},
   "outputs": [],
   "source": []
  }
 ],
 "metadata": {
  "kernelspec": {
   "display_name": "Python 3",
   "language": "python",
   "name": "python3"
  },
  "language_info": {
   "codemirror_mode": {
    "name": "ipython",
    "version": 3
   },
   "file_extension": ".py",
   "mimetype": "text/x-python",
   "name": "python",
   "nbconvert_exporter": "python",
   "pygments_lexer": "ipython3",
   "version": "3.7.4"
  }
 },
 "nbformat": 4,
 "nbformat_minor": 4
}
