{
 "cells": [
  {
   "cell_type": "code",
   "execution_count": 1,
   "metadata": {},
   "outputs": [],
   "source": [
    "import numpy as np\n",
    "import pandas as pd"
   ]
  },
  {
   "cell_type": "markdown",
   "metadata": {},
   "source": [
    "# 50. データの入手・整形"
   ]
  },
  {
   "cell_type": "code",
   "execution_count": 15,
   "metadata": {},
   "outputs": [],
   "source": [
    "two_page_header = [\"STORY\", \"HOSTNAME\", \"CATEGORY\", \"URL\"]\n",
    "df_two_page = pd.read_table('../data/NewsAggregatorDataset/2pageSessions.csv', header=None, names=two_page_header)"
   ]
  },
  {
   "cell_type": "code",
   "execution_count": 16,
   "metadata": {},
   "outputs": [
    {
     "data": {
      "text/html": [
       "<div>\n",
       "<style scoped>\n",
       "    .dataframe tbody tr th:only-of-type {\n",
       "        vertical-align: middle;\n",
       "    }\n",
       "\n",
       "    .dataframe tbody tr th {\n",
       "        vertical-align: top;\n",
       "    }\n",
       "\n",
       "    .dataframe thead th {\n",
       "        text-align: right;\n",
       "    }\n",
       "</style>\n",
       "<table border=\"1\" class=\"dataframe\">\n",
       "  <thead>\n",
       "    <tr style=\"text-align: right;\">\n",
       "      <th></th>\n",
       "      <th>STORY</th>\n",
       "      <th>HOSTNAME</th>\n",
       "      <th>CATEGORY</th>\n",
       "      <th>URL</th>\n",
       "    </tr>\n",
       "  </thead>\n",
       "  <tbody>\n",
       "    <tr>\n",
       "      <td>0</td>\n",
       "      <td>dxyGGb4iN9Cs9aMZTKQpJeoiQfruM</td>\n",
       "      <td>techcrunch.com</td>\n",
       "      <td>b</td>\n",
       "      <td>http://techcrunch.com/ http://techcrunch.com/2...</td>\n",
       "    </tr>\n",
       "    <tr>\n",
       "      <td>1</td>\n",
       "      <td>dxyGGb4iN9Cs9aMZTKQpJeoiQfruM</td>\n",
       "      <td>techcrunch.com</td>\n",
       "      <td>b</td>\n",
       "      <td>http://techcrunch.com/ecommerce/ http://techcr...</td>\n",
       "    </tr>\n",
       "    <tr>\n",
       "      <td>2</td>\n",
       "      <td>dxyGGb4iN9Cs9aMZTKQpJeoiQfruM</td>\n",
       "      <td>www.bnn.ca</td>\n",
       "      <td>b</td>\n",
       "      <td>http://www.bnn.ca/News/2014/ http://www.bnn.ca...</td>\n",
       "    </tr>\n",
       "    <tr>\n",
       "      <td>3</td>\n",
       "      <td>dxyGGb4iN9Cs9aMZTKQpJeoiQfruM</td>\n",
       "      <td>www.bnn.ca</td>\n",
       "      <td>b</td>\n",
       "      <td>http://www.bnn.ca/news http://www.bnn.ca/News/...</td>\n",
       "    </tr>\n",
       "    <tr>\n",
       "      <td>4</td>\n",
       "      <td>dxyGGb4iN9Cs9aMZTKQpJeoiQfruM</td>\n",
       "      <td>www.bnn.ca</td>\n",
       "      <td>b</td>\n",
       "      <td>http://www.bnn.ca/News/News-Listing.aspx?Secto...</td>\n",
       "    </tr>\n",
       "    <tr>\n",
       "      <td>...</td>\n",
       "      <td>...</td>\n",
       "      <td>...</td>\n",
       "      <td>...</td>\n",
       "      <td>...</td>\n",
       "    </tr>\n",
       "    <tr>\n",
       "      <td>15511</td>\n",
       "      <td>dkPjabOt_3c58pM7cXTzwf0VDxtQM</td>\n",
       "      <td>www.upi.com</td>\n",
       "      <td>b</td>\n",
       "      <td>http://www.upi.com/ http://www.upi.com/Busines...</td>\n",
       "    </tr>\n",
       "    <tr>\n",
       "      <td>15512</td>\n",
       "      <td>dkPjabOt_3c58pM7cXTzwf0VDxtQM</td>\n",
       "      <td>www.webpronews.com</td>\n",
       "      <td>b</td>\n",
       "      <td>http://www.webpronews.com/ http://www.webprone...</td>\n",
       "    </tr>\n",
       "    <tr>\n",
       "      <td>15513</td>\n",
       "      <td>d3DTRVmvpPPpa8MG61j9MfjG4GkuM</td>\n",
       "      <td>www.smh.com.au</td>\n",
       "      <td>b</td>\n",
       "      <td>http://www.theage.com.au/travel/traveller-tips...</td>\n",
       "    </tr>\n",
       "    <tr>\n",
       "      <td>15514</td>\n",
       "      <td>d3DTRVmvpPPpa8MG61j9MfjG4GkuM</td>\n",
       "      <td>www.smh.com.au</td>\n",
       "      <td>b</td>\n",
       "      <td>http://www.theage.com.au/travel http://www.smh...</td>\n",
       "    </tr>\n",
       "    <tr>\n",
       "      <td>15515</td>\n",
       "      <td>dPp5hgOXcGU6jDMtiVyefPqR7BwhM</td>\n",
       "      <td>www.smh.com.au</td>\n",
       "      <td>e</td>\n",
       "      <td>http://www.theage.com.au/lifestyle http://www....</td>\n",
       "    </tr>\n",
       "  </tbody>\n",
       "</table>\n",
       "<p>15516 rows × 4 columns</p>\n",
       "</div>"
      ],
      "text/plain": [
       "                               STORY            HOSTNAME CATEGORY  \\\n",
       "0      dxyGGb4iN9Cs9aMZTKQpJeoiQfruM      techcrunch.com        b   \n",
       "1      dxyGGb4iN9Cs9aMZTKQpJeoiQfruM      techcrunch.com        b   \n",
       "2      dxyGGb4iN9Cs9aMZTKQpJeoiQfruM          www.bnn.ca        b   \n",
       "3      dxyGGb4iN9Cs9aMZTKQpJeoiQfruM          www.bnn.ca        b   \n",
       "4      dxyGGb4iN9Cs9aMZTKQpJeoiQfruM          www.bnn.ca        b   \n",
       "...                              ...                 ...      ...   \n",
       "15511  dkPjabOt_3c58pM7cXTzwf0VDxtQM         www.upi.com        b   \n",
       "15512  dkPjabOt_3c58pM7cXTzwf0VDxtQM  www.webpronews.com        b   \n",
       "15513  d3DTRVmvpPPpa8MG61j9MfjG4GkuM      www.smh.com.au        b   \n",
       "15514  d3DTRVmvpPPpa8MG61j9MfjG4GkuM      www.smh.com.au        b   \n",
       "15515  dPp5hgOXcGU6jDMtiVyefPqR7BwhM      www.smh.com.au        e   \n",
       "\n",
       "                                                     URL  \n",
       "0      http://techcrunch.com/ http://techcrunch.com/2...  \n",
       "1      http://techcrunch.com/ecommerce/ http://techcr...  \n",
       "2      http://www.bnn.ca/News/2014/ http://www.bnn.ca...  \n",
       "3      http://www.bnn.ca/news http://www.bnn.ca/News/...  \n",
       "4      http://www.bnn.ca/News/News-Listing.aspx?Secto...  \n",
       "...                                                  ...  \n",
       "15511  http://www.upi.com/ http://www.upi.com/Busines...  \n",
       "15512  http://www.webpronews.com/ http://www.webprone...  \n",
       "15513  http://www.theage.com.au/travel/traveller-tips...  \n",
       "15514  http://www.theage.com.au/travel http://www.smh...  \n",
       "15515  http://www.theage.com.au/lifestyle http://www....  \n",
       "\n",
       "[15516 rows x 4 columns]"
      ]
     },
     "execution_count": 16,
     "metadata": {},
     "output_type": "execute_result"
    }
   ],
   "source": [
    "df_two_page"
   ]
  },
  {
   "cell_type": "code",
   "execution_count": 21,
   "metadata": {},
   "outputs": [],
   "source": [
    "news_corpora_header = [\"ID\", \"TITLE\", \"URL\", \"PUBLISHER\", \"CATEGORY\", \"STORY\", \"HOSTNAME\", \"TIMESTAMP\"]\n",
    "df_news_corpora = pd.read_table('../data/NewsAggregatorDataset/newsCorpora.csv', header=None, names=news_corpora_header)"
   ]
  },
  {
   "cell_type": "code",
   "execution_count": 22,
   "metadata": {},
   "outputs": [
    {
     "data": {
      "text/html": [
       "<div>\n",
       "<style scoped>\n",
       "    .dataframe tbody tr th:only-of-type {\n",
       "        vertical-align: middle;\n",
       "    }\n",
       "\n",
       "    .dataframe tbody tr th {\n",
       "        vertical-align: top;\n",
       "    }\n",
       "\n",
       "    .dataframe thead th {\n",
       "        text-align: right;\n",
       "    }\n",
       "</style>\n",
       "<table border=\"1\" class=\"dataframe\">\n",
       "  <thead>\n",
       "    <tr style=\"text-align: right;\">\n",
       "      <th></th>\n",
       "      <th>ID</th>\n",
       "      <th>TITLE</th>\n",
       "      <th>URL</th>\n",
       "      <th>PUBLISHER</th>\n",
       "      <th>CATEGORY</th>\n",
       "      <th>STORY</th>\n",
       "      <th>HOSTNAME</th>\n",
       "      <th>TIMESTAMP</th>\n",
       "    </tr>\n",
       "  </thead>\n",
       "  <tbody>\n",
       "    <tr>\n",
       "      <td>0</td>\n",
       "      <td>1</td>\n",
       "      <td>Fed official says weak data caused by weather,...</td>\n",
       "      <td>http://www.latimes.com/business/money/la-fi-mo...</td>\n",
       "      <td>Los Angeles Times</td>\n",
       "      <td>b</td>\n",
       "      <td>ddUyU0VZz0BRneMioxUPQVP6sIxvM</td>\n",
       "      <td>www.latimes.com</td>\n",
       "      <td>1394470370698</td>\n",
       "    </tr>\n",
       "    <tr>\n",
       "      <td>1</td>\n",
       "      <td>2</td>\n",
       "      <td>Fed's Charles Plosser sees high bar for change...</td>\n",
       "      <td>http://www.livemint.com/Politics/H2EvwJSK2VE6O...</td>\n",
       "      <td>Livemint</td>\n",
       "      <td>b</td>\n",
       "      <td>ddUyU0VZz0BRneMioxUPQVP6sIxvM</td>\n",
       "      <td>www.livemint.com</td>\n",
       "      <td>1394470371207</td>\n",
       "    </tr>\n",
       "    <tr>\n",
       "      <td>2</td>\n",
       "      <td>3</td>\n",
       "      <td>US open: Stocks fall after Fed official hints ...</td>\n",
       "      <td>http://www.ifamagazine.com/news/us-open-stocks...</td>\n",
       "      <td>IFA Magazine</td>\n",
       "      <td>b</td>\n",
       "      <td>ddUyU0VZz0BRneMioxUPQVP6sIxvM</td>\n",
       "      <td>www.ifamagazine.com</td>\n",
       "      <td>1394470371550</td>\n",
       "    </tr>\n",
       "    <tr>\n",
       "      <td>3</td>\n",
       "      <td>4</td>\n",
       "      <td>Fed risks falling 'behind the curve', Charles ...</td>\n",
       "      <td>http://www.ifamagazine.com/news/fed-risks-fall...</td>\n",
       "      <td>IFA Magazine</td>\n",
       "      <td>b</td>\n",
       "      <td>ddUyU0VZz0BRneMioxUPQVP6sIxvM</td>\n",
       "      <td>www.ifamagazine.com</td>\n",
       "      <td>1394470371793</td>\n",
       "    </tr>\n",
       "    <tr>\n",
       "      <td>4</td>\n",
       "      <td>5</td>\n",
       "      <td>Fed's Plosser: Nasty Weather Has Curbed Job Gr...</td>\n",
       "      <td>http://www.moneynews.com/Economy/federal-reser...</td>\n",
       "      <td>Moneynews</td>\n",
       "      <td>b</td>\n",
       "      <td>ddUyU0VZz0BRneMioxUPQVP6sIxvM</td>\n",
       "      <td>www.moneynews.com</td>\n",
       "      <td>1394470372027</td>\n",
       "    </tr>\n",
       "    <tr>\n",
       "      <td>...</td>\n",
       "      <td>...</td>\n",
       "      <td>...</td>\n",
       "      <td>...</td>\n",
       "      <td>...</td>\n",
       "      <td>...</td>\n",
       "      <td>...</td>\n",
       "      <td>...</td>\n",
       "      <td>...</td>\n",
       "    </tr>\n",
       "    <tr>\n",
       "      <td>422414</td>\n",
       "      <td>422933</td>\n",
       "      <td>Surgeons to remove 4-year-old's rib to rebuild...</td>\n",
       "      <td>http://www.cbs3springfield.com/story/26378648/...</td>\n",
       "      <td>WSHM-TV</td>\n",
       "      <td>m</td>\n",
       "      <td>dpcLMoJD69UYMXMxaoEFnWql9YjQM</td>\n",
       "      <td>www.cbs3springfield.com</td>\n",
       "      <td>1409229190251</td>\n",
       "    </tr>\n",
       "    <tr>\n",
       "      <td>422415</td>\n",
       "      <td>422934</td>\n",
       "      <td>Boy to have surgery on esophagus after battery...</td>\n",
       "      <td>http://www.wlwt.com/news/boy-to-have-surgery-o...</td>\n",
       "      <td>WLWT Cincinnati</td>\n",
       "      <td>m</td>\n",
       "      <td>dpcLMoJD69UYMXMxaoEFnWql9YjQM</td>\n",
       "      <td>www.wlwt.com</td>\n",
       "      <td>1409229190508</td>\n",
       "    </tr>\n",
       "    <tr>\n",
       "      <td>422416</td>\n",
       "      <td>422935</td>\n",
       "      <td>Child who swallowed battery to have reconstruc...</td>\n",
       "      <td>http://www.newsnet5.com/news/local-news/child-...</td>\n",
       "      <td>NewsNet5.com</td>\n",
       "      <td>m</td>\n",
       "      <td>dpcLMoJD69UYMXMxaoEFnWql9YjQM</td>\n",
       "      <td>www.newsnet5.com</td>\n",
       "      <td>1409229190771</td>\n",
       "    </tr>\n",
       "    <tr>\n",
       "      <td>422417</td>\n",
       "      <td>422936</td>\n",
       "      <td>Phoenix boy undergoes surgery to repair throat...</td>\n",
       "      <td>http://www.wfsb.com/story/26368078/phoenix-boy...</td>\n",
       "      <td>WFSB</td>\n",
       "      <td>m</td>\n",
       "      <td>dpcLMoJD69UYMXMxaoEFnWql9YjQM</td>\n",
       "      <td>www.wfsb.com</td>\n",
       "      <td>1409229191071</td>\n",
       "    </tr>\n",
       "    <tr>\n",
       "      <td>422418</td>\n",
       "      <td>422937</td>\n",
       "      <td>Phoenix boy undergoes surgery to repair throat...</td>\n",
       "      <td>http://www.cbs3springfield.com/story/26368078/...</td>\n",
       "      <td>WSHM-TV</td>\n",
       "      <td>m</td>\n",
       "      <td>dpcLMoJD69UYMXMxaoEFnWql9YjQM</td>\n",
       "      <td>www.cbs3springfield.com</td>\n",
       "      <td>1409229191565</td>\n",
       "    </tr>\n",
       "  </tbody>\n",
       "</table>\n",
       "<p>422419 rows × 8 columns</p>\n",
       "</div>"
      ],
      "text/plain": [
       "            ID                                              TITLE  \\\n",
       "0            1  Fed official says weak data caused by weather,...   \n",
       "1            2  Fed's Charles Plosser sees high bar for change...   \n",
       "2            3  US open: Stocks fall after Fed official hints ...   \n",
       "3            4  Fed risks falling 'behind the curve', Charles ...   \n",
       "4            5  Fed's Plosser: Nasty Weather Has Curbed Job Gr...   \n",
       "...        ...                                                ...   \n",
       "422414  422933  Surgeons to remove 4-year-old's rib to rebuild...   \n",
       "422415  422934  Boy to have surgery on esophagus after battery...   \n",
       "422416  422935  Child who swallowed battery to have reconstruc...   \n",
       "422417  422936  Phoenix boy undergoes surgery to repair throat...   \n",
       "422418  422937  Phoenix boy undergoes surgery to repair throat...   \n",
       "\n",
       "                                                      URL          PUBLISHER  \\\n",
       "0       http://www.latimes.com/business/money/la-fi-mo...  Los Angeles Times   \n",
       "1       http://www.livemint.com/Politics/H2EvwJSK2VE6O...           Livemint   \n",
       "2       http://www.ifamagazine.com/news/us-open-stocks...       IFA Magazine   \n",
       "3       http://www.ifamagazine.com/news/fed-risks-fall...       IFA Magazine   \n",
       "4       http://www.moneynews.com/Economy/federal-reser...          Moneynews   \n",
       "...                                                   ...                ...   \n",
       "422414  http://www.cbs3springfield.com/story/26378648/...            WSHM-TV   \n",
       "422415  http://www.wlwt.com/news/boy-to-have-surgery-o...    WLWT Cincinnati   \n",
       "422416  http://www.newsnet5.com/news/local-news/child-...       NewsNet5.com   \n",
       "422417  http://www.wfsb.com/story/26368078/phoenix-boy...               WFSB   \n",
       "422418  http://www.cbs3springfield.com/story/26368078/...            WSHM-TV   \n",
       "\n",
       "       CATEGORY                          STORY                 HOSTNAME  \\\n",
       "0             b  ddUyU0VZz0BRneMioxUPQVP6sIxvM          www.latimes.com   \n",
       "1             b  ddUyU0VZz0BRneMioxUPQVP6sIxvM         www.livemint.com   \n",
       "2             b  ddUyU0VZz0BRneMioxUPQVP6sIxvM      www.ifamagazine.com   \n",
       "3             b  ddUyU0VZz0BRneMioxUPQVP6sIxvM      www.ifamagazine.com   \n",
       "4             b  ddUyU0VZz0BRneMioxUPQVP6sIxvM        www.moneynews.com   \n",
       "...         ...                            ...                      ...   \n",
       "422414        m  dpcLMoJD69UYMXMxaoEFnWql9YjQM  www.cbs3springfield.com   \n",
       "422415        m  dpcLMoJD69UYMXMxaoEFnWql9YjQM             www.wlwt.com   \n",
       "422416        m  dpcLMoJD69UYMXMxaoEFnWql9YjQM         www.newsnet5.com   \n",
       "422417        m  dpcLMoJD69UYMXMxaoEFnWql9YjQM             www.wfsb.com   \n",
       "422418        m  dpcLMoJD69UYMXMxaoEFnWql9YjQM  www.cbs3springfield.com   \n",
       "\n",
       "            TIMESTAMP  \n",
       "0       1394470370698  \n",
       "1       1394470371207  \n",
       "2       1394470371550  \n",
       "3       1394470371793  \n",
       "4       1394470372027  \n",
       "...               ...  \n",
       "422414  1409229190251  \n",
       "422415  1409229190508  \n",
       "422416  1409229190771  \n",
       "422417  1409229191071  \n",
       "422418  1409229191565  \n",
       "\n",
       "[422419 rows x 8 columns]"
      ]
     },
     "execution_count": 22,
     "metadata": {},
     "output_type": "execute_result"
    }
   ],
   "source": [
    "df_news_corpora"
   ]
  },
  {
   "cell_type": "code",
   "execution_count": 24,
   "metadata": {},
   "outputs": [
    {
     "data": {
      "text/plain": [
       "in.reuters.com                2877\n",
       "www.huffingtonpost.com        2603\n",
       "www.businessweek.com          2420\n",
       "www.contactmusic.com          2334\n",
       "www.dailymail.co.uk           2258\n",
       "                              ... \n",
       "www.huffingtonpost.co.uk       639\n",
       "archive.firstcoastnews.com     623\n",
       "www.geeky-gadgets.com          621\n",
       "www.moneynews.com              620\n",
       "gadgets.ndtv.com               619\n",
       "Name: HOSTNAME, Length: 100, dtype: int64"
      ]
     },
     "execution_count": 24,
     "metadata": {},
     "output_type": "execute_result"
    }
   ],
   "source": [
    "df_news_corpora[\"HOSTNAME\"].value_counts().head(100)"
   ]
  },
  {
   "cell_type": "code",
   "execution_count": null,
   "metadata": {},
   "outputs": [],
   "source": []
  },
  {
   "cell_type": "code",
   "execution_count": 143,
   "metadata": {},
   "outputs": [],
   "source": [
    "df_major_news = df_news_corpora.query('HOSTNAME in [\"in.reuters.com\", \"www.huffingtonpost.com\", \"www.businessweek.com\", \"www.contactmusic.com\"]')"
   ]
  },
  {
   "cell_type": "code",
   "execution_count": 146,
   "metadata": {},
   "outputs": [],
   "source": [
    "df_major_news = df_major_news.sample(frac=1).reset_index(drop=True)"
   ]
  },
  {
   "cell_type": "code",
   "execution_count": 147,
   "metadata": {},
   "outputs": [
    {
     "data": {
      "text/html": [
       "<div>\n",
       "<style scoped>\n",
       "    .dataframe tbody tr th:only-of-type {\n",
       "        vertical-align: middle;\n",
       "    }\n",
       "\n",
       "    .dataframe tbody tr th {\n",
       "        vertical-align: top;\n",
       "    }\n",
       "\n",
       "    .dataframe thead th {\n",
       "        text-align: right;\n",
       "    }\n",
       "</style>\n",
       "<table border=\"1\" class=\"dataframe\">\n",
       "  <thead>\n",
       "    <tr style=\"text-align: right;\">\n",
       "      <th></th>\n",
       "      <th>ID</th>\n",
       "      <th>TITLE</th>\n",
       "      <th>URL</th>\n",
       "      <th>PUBLISHER</th>\n",
       "      <th>CATEGORY</th>\n",
       "      <th>STORY</th>\n",
       "      <th>HOSTNAME</th>\n",
       "      <th>TIMESTAMP</th>\n",
       "    </tr>\n",
       "  </thead>\n",
       "  <tbody>\n",
       "    <tr>\n",
       "      <td>0</td>\n",
       "      <td>340820</td>\n",
       "      <td>Looming South Africa engineering strike latest...</td>\n",
       "      <td>http://in.reuters.com/article/2014/07/01/safri...</td>\n",
       "      <td>Reuters</td>\n",
       "      <td>b</td>\n",
       "      <td>dztDnertzr8o9kMmXipvkcvMbZG3M</td>\n",
       "      <td>in.reuters.com</td>\n",
       "      <td>1404234923273</td>\n",
       "    </tr>\n",
       "    <tr>\n",
       "      <td>1</td>\n",
       "      <td>9278</td>\n",
       "      <td>Bouygues board meets to approve improved SFR b...</td>\n",
       "      <td>http://in.reuters.com/article/2014/03/12/bouyg...</td>\n",
       "      <td>Reuters</td>\n",
       "      <td>b</td>\n",
       "      <td>d1BKBxE-TXmBEpMnaYAKMFw9iuqVM</td>\n",
       "      <td>in.reuters.com</td>\n",
       "      <td>1394712078600</td>\n",
       "    </tr>\n",
       "    <tr>\n",
       "      <td>2</td>\n",
       "      <td>344200</td>\n",
       "      <td>Twitter's Costolo Guts Executive Suite With Hi...</td>\n",
       "      <td>http://www.businessweek.com/news/2014-07-01/tw...</td>\n",
       "      <td>Businessweek</td>\n",
       "      <td>b</td>\n",
       "      <td>d6shbDEEXYuuSuM4pf6c6cEKqyVzM</td>\n",
       "      <td>www.businessweek.com</td>\n",
       "      <td>1404305358198</td>\n",
       "    </tr>\n",
       "    <tr>\n",
       "      <td>3</td>\n",
       "      <td>173536</td>\n",
       "      <td>UPDATE 2-Europe's top court rejects UK challen...</td>\n",
       "      <td>http://in.reuters.com/article/2014/04/30/eu-br...</td>\n",
       "      <td>Reuters</td>\n",
       "      <td>b</td>\n",
       "      <td>dvVgXIQ0mJ6aAeMusr3yUoJq7esPM</td>\n",
       "      <td>in.reuters.com</td>\n",
       "      <td>1398865932734</td>\n",
       "    </tr>\n",
       "    <tr>\n",
       "      <td>4</td>\n",
       "      <td>328573</td>\n",
       "      <td>Ben Savage Reveals Which 'Boy Meets World' Cha...</td>\n",
       "      <td>http://www.huffingtonpost.com/2014/06/24/ben-s...</td>\n",
       "      <td>Huffington Post</td>\n",
       "      <td>e</td>\n",
       "      <td>d5-IpkxoekLtEVMEWtH0GjdBYQ7YM</td>\n",
       "      <td>www.huffingtonpost.com</td>\n",
       "      <td>1403932746843</td>\n",
       "    </tr>\n",
       "  </tbody>\n",
       "</table>\n",
       "</div>"
      ],
      "text/plain": [
       "       ID                                              TITLE  \\\n",
       "0  340820  Looming South Africa engineering strike latest...   \n",
       "1    9278  Bouygues board meets to approve improved SFR b...   \n",
       "2  344200  Twitter's Costolo Guts Executive Suite With Hi...   \n",
       "3  173536  UPDATE 2-Europe's top court rejects UK challen...   \n",
       "4  328573  Ben Savage Reveals Which 'Boy Meets World' Cha...   \n",
       "\n",
       "                                                 URL        PUBLISHER  \\\n",
       "0  http://in.reuters.com/article/2014/07/01/safri...          Reuters   \n",
       "1  http://in.reuters.com/article/2014/03/12/bouyg...          Reuters   \n",
       "2  http://www.businessweek.com/news/2014-07-01/tw...     Businessweek   \n",
       "3  http://in.reuters.com/article/2014/04/30/eu-br...          Reuters   \n",
       "4  http://www.huffingtonpost.com/2014/06/24/ben-s...  Huffington Post   \n",
       "\n",
       "  CATEGORY                          STORY                HOSTNAME  \\\n",
       "0        b  dztDnertzr8o9kMmXipvkcvMbZG3M          in.reuters.com   \n",
       "1        b  d1BKBxE-TXmBEpMnaYAKMFw9iuqVM          in.reuters.com   \n",
       "2        b  d6shbDEEXYuuSuM4pf6c6cEKqyVzM    www.businessweek.com   \n",
       "3        b  dvVgXIQ0mJ6aAeMusr3yUoJq7esPM          in.reuters.com   \n",
       "4        e  d5-IpkxoekLtEVMEWtH0GjdBYQ7YM  www.huffingtonpost.com   \n",
       "\n",
       "       TIMESTAMP  \n",
       "0  1404234923273  \n",
       "1  1394712078600  \n",
       "2  1404305358198  \n",
       "3  1398865932734  \n",
       "4  1403932746843  "
      ]
     },
     "execution_count": 147,
     "metadata": {},
     "output_type": "execute_result"
    }
   ],
   "source": [
    "df_major_news.head()"
   ]
  },
  {
   "cell_type": "code",
   "execution_count": 148,
   "metadata": {},
   "outputs": [],
   "source": [
    "from sklearn.model_selection import train_test_split\n",
    "\n",
    "total_number = len(df_major_news)\n",
    "df_train, valid_and_test = train_test_split(df_major_news, test_size=0.2, random_state=99, stratify=df_major_news[\"CATEGORY\"])\n",
    "df_valid, df_test = train_test_split(valid_and_test, test_size=0.5, random_state=99, stratify=valid_and_test[\"CATEGORY\"])\n"
   ]
  },
  {
   "cell_type": "code",
   "execution_count": 149,
   "metadata": {},
   "outputs": [],
   "source": [
    "df_train.to_csv(\"../output/section6/train.tsv\", sep=\"\\t\")\n",
    "df_valid.to_csv(\"../output/section6/valid.tsv\", sep=\"\\t\")\n",
    "df_test.to_csv(\"../output/section6/test.tsv\", sep=\"\\t\")"
   ]
  },
  {
   "cell_type": "code",
   "execution_count": 150,
   "metadata": {},
   "outputs": [
    {
     "name": "stdout",
     "output_type": "stream",
     "text": [
      "b    3672\n",
      "e    3106\n",
      "t     919\n",
      "m     490\n",
      "Name: CATEGORY, dtype: int64\n",
      "b    459\n",
      "e    388\n",
      "t    115\n",
      "m     61\n",
      "Name: CATEGORY, dtype: int64\n",
      "b    459\n",
      "e    388\n",
      "t    115\n",
      "m     62\n",
      "Name: CATEGORY, dtype: int64\n"
     ]
    }
   ],
   "source": [
    "print(df_train[\"CATEGORY\"].value_counts())\n",
    "print(df_valid[\"CATEGORY\"].value_counts())\n",
    "print(df_test[\"CATEGORY\"].value_counts())"
   ]
  },
  {
   "cell_type": "markdown",
   "metadata": {},
   "source": [
    "# 51. 特徴量抽出"
   ]
  },
  {
   "cell_type": "code",
   "execution_count": 153,
   "metadata": {},
   "outputs": [],
   "source": [
    "import string\n",
    "import re\n",
    "from nltk.stem.porter import PorterStemmer\n",
    "from nltk.corpus import stopwords\n",
    "\n",
    "stop_words = stopwords.words('english')\n",
    "\n",
    "def preprocess(text):\n",
    "    table = str.maketrans(string.punctuation, ' ' * len(string.punctuation))\n",
    "    text = text.translate(table)\n",
    "    text = text.lower()\n",
    "    text = re.sub('[0-9]+', '0', text)\n",
    "    return text\n",
    "    "
   ]
  },
  {
   "cell_type": "code",
   "execution_count": 154,
   "metadata": {},
   "outputs": [
    {
     "name": "stderr",
     "output_type": "stream",
     "text": [
      "/Users/yuki/.pyenv/versions/anaconda3-2019.10/lib/python3.7/site-packages/ipykernel_launcher.py:1: SettingWithCopyWarning: \n",
      "A value is trying to be set on a copy of a slice from a DataFrame.\n",
      "Try using .loc[row_indexer,col_indexer] = value instead\n",
      "\n",
      "See the caveats in the documentation: http://pandas.pydata.org/pandas-docs/stable/user_guide/indexing.html#returning-a-view-versus-a-copy\n",
      "  \"\"\"Entry point for launching an IPython kernel.\n",
      "/Users/yuki/.pyenv/versions/anaconda3-2019.10/lib/python3.7/site-packages/ipykernel_launcher.py:2: SettingWithCopyWarning: \n",
      "A value is trying to be set on a copy of a slice from a DataFrame.\n",
      "Try using .loc[row_indexer,col_indexer] = value instead\n",
      "\n",
      "See the caveats in the documentation: http://pandas.pydata.org/pandas-docs/stable/user_guide/indexing.html#returning-a-view-versus-a-copy\n",
      "  \n",
      "/Users/yuki/.pyenv/versions/anaconda3-2019.10/lib/python3.7/site-packages/ipykernel_launcher.py:3: SettingWithCopyWarning: \n",
      "A value is trying to be set on a copy of a slice from a DataFrame.\n",
      "Try using .loc[row_indexer,col_indexer] = value instead\n",
      "\n",
      "See the caveats in the documentation: http://pandas.pydata.org/pandas-docs/stable/user_guide/indexing.html#returning-a-view-versus-a-copy\n",
      "  This is separate from the ipykernel package so we can avoid doing imports until\n"
     ]
    }
   ],
   "source": [
    "df_train[\"PROCESSED_TITLE\"] = df_train[\"TITLE\"].apply(lambda x: preprocess(x))\n",
    "df_valid[\"PROCESSED_TITLE\"] = df_valid[\"TITLE\"].apply(lambda x: preprocess(x))\n",
    "df_test[\"PROCESSED_TITLE\"] = df_test[\"TITLE\"].apply(lambda x: preprocess(x))"
   ]
  },
  {
   "cell_type": "code",
   "execution_count": 155,
   "metadata": {},
   "outputs": [
    {
     "data": {
      "text/plain": [
       "['i', 'me', 'my', 'myself', 'we', 'our', 'ours', 'ourselves', 'you', \"you're\"]"
      ]
     },
     "execution_count": 155,
     "metadata": {},
     "output_type": "execute_result"
    }
   ],
   "source": [
    "stop_words[:10]"
   ]
  },
  {
   "cell_type": "code",
   "execution_count": 156,
   "metadata": {},
   "outputs": [],
   "source": [
    "# str.maketrans(string.punctuation, ' ' * len(string.punctuation))"
   ]
  },
  {
   "cell_type": "code",
   "execution_count": 157,
   "metadata": {},
   "outputs": [],
   "source": [
    "from sklearn.feature_extraction.text import TfidfVectorizer"
   ]
  },
  {
   "cell_type": "code",
   "execution_count": 203,
   "metadata": {},
   "outputs": [],
   "source": [
    "tfidf_vec = TfidfVectorizer(min_df=4, stop_words=stop_words)\n",
    "train_features = tfidf_vec.fit_transform(df_train[\"PROCESSED_TITLE\"])\n",
    "valid_features = tfidf_vec.transform(df_valid[\"PROCESSED_TITLE\"])\n",
    "test_features = tfidf_vec.transform(df_test[\"PROCESSED_TITLE\"])\n"
   ]
  },
  {
   "cell_type": "code",
   "execution_count": 204,
   "metadata": {},
   "outputs": [
    {
     "name": "stdout",
     "output_type": "stream",
     "text": [
      "Vocabulary size: 3403\n"
     ]
    }
   ],
   "source": [
    "print(f\"Vocabulary size: {len(tfidf_vec.vocabulary_)}\")\n",
    "# print(f\"Vocabulary content: {tfidf_vec.vocabulary_}\")"
   ]
  },
  {
   "cell_type": "code",
   "execution_count": 205,
   "metadata": {},
   "outputs": [
    {
     "data": {
      "text/plain": [
       "<1x3403 sparse matrix of type '<class 'numpy.float64'>'\n",
       "\twith 6 stored elements in Compressed Sparse Row format>"
      ]
     },
     "execution_count": 205,
     "metadata": {},
     "output_type": "execute_result"
    }
   ],
   "source": [
    "train_features[0][0]"
   ]
  },
  {
   "cell_type": "code",
   "execution_count": 206,
   "metadata": {},
   "outputs": [],
   "source": [
    "df_train[[\"ID\", \"PROCESSED_TITLE\"]].to_csv('../output/section6/train.feature.txt', sep=\"\\t\")\n",
    "df_valid[[\"ID\", \"PROCESSED_TITLE\"]].to_csv('../output/section6/valid.feature.txt', sep=\"\\t\")\n",
    "df_test[[\"ID\", \"PROCESSED_TITLE\"]].to_csv('../output/section6/test.feature.txt', sep=\"\\t\")"
   ]
  },
  {
   "cell_type": "markdown",
   "metadata": {},
   "source": [
    "# 52. 学習"
   ]
  },
  {
   "cell_type": "code",
   "execution_count": 207,
   "metadata": {},
   "outputs": [
    {
     "name": "stderr",
     "output_type": "stream",
     "text": [
      "/Users/yuki/.pyenv/versions/anaconda3-2019.10/lib/python3.7/site-packages/sklearn/linear_model/logistic.py:432: FutureWarning: Default solver will be changed to 'lbfgs' in 0.22. Specify a solver to silence this warning.\n",
      "  FutureWarning)\n",
      "/Users/yuki/.pyenv/versions/anaconda3-2019.10/lib/python3.7/site-packages/sklearn/linear_model/logistic.py:469: FutureWarning: Default multi_class will be changed to 'auto' in 0.22. Specify the multi_class option to silence this warning.\n",
      "  \"this warning.\", FutureWarning)\n"
     ]
    },
    {
     "data": {
      "text/plain": [
       "LogisticRegression(C=1.0, class_weight=None, dual=False, fit_intercept=True,\n",
       "                   intercept_scaling=1, l1_ratio=None, max_iter=100000,\n",
       "                   multi_class='warn', n_jobs=None, penalty='l2',\n",
       "                   random_state=99, solver='warn', tol=0.0001, verbose=0,\n",
       "                   warm_start=False)"
      ]
     },
     "execution_count": 207,
     "metadata": {},
     "output_type": "execute_result"
    }
   ],
   "source": [
    "from sklearn.linear_model import LogisticRegression\n",
    "\n",
    "clf = LogisticRegression(random_state=99, max_iter=100000)\n",
    "clf.fit(train_features, df_train[\"CATEGORY\"])"
   ]
  },
  {
   "cell_type": "markdown",
   "metadata": {},
   "source": [
    "# 53. 予測, 54. 正解率の計測"
   ]
  },
  {
   "cell_type": "code",
   "execution_count": 214,
   "metadata": {},
   "outputs": [],
   "source": [
    "def score_clf(clf, X):\n",
    "    return (np.max(clf.predict_proba(X), axis=1), clf.predict(X))"
   ]
  },
  {
   "cell_type": "code",
   "execution_count": 215,
   "metadata": {},
   "outputs": [
    {
     "name": "stdout",
     "output_type": "stream",
     "text": [
      "(array([0.69511186, 0.7975634 , 0.47111585, ..., 0.81330648, 0.63715262,\n",
      "       0.59580739]), array(['e', 'e', 'e', ..., 'e', 'b', 'b'], dtype=object))\n"
     ]
    }
   ],
   "source": [
    "train_pred = score_clf(clf, train_features)\n",
    "test_pred = score_clf(clf, test_features)\n",
    "print(train_pred)"
   ]
  },
  {
   "cell_type": "code",
   "execution_count": 210,
   "metadata": {},
   "outputs": [
    {
     "name": "stdout",
     "output_type": "stream",
     "text": [
      "TRAIN Accuracy: 0.9243\n",
      "TEST Accuracy: 0.8730\n"
     ]
    }
   ],
   "source": [
    "from sklearn.metrics import accuracy_score\n",
    "\n",
    "train_accuracy = accuracy_score(df_train[\"CATEGORY\"], train_pred[1])\n",
    "test_accuracy = accuracy_score(df_test[\"CATEGORY\"], test_pred[1])\n",
    "\n",
    "print(f\"TRAIN Accuracy: {train_accuracy:.4f}\")\n",
    "print(f\"TEST Accuracy: {test_accuracy:.4f}\")\n"
   ]
  },
  {
   "cell_type": "markdown",
   "metadata": {},
   "source": [
    "# 55. 混同行列の作成"
   ]
  },
  {
   "cell_type": "code",
   "execution_count": 212,
   "metadata": {},
   "outputs": [
    {
     "name": "stdout",
     "output_type": "stream",
     "text": [
      "[[3587   50    5   30]\n",
      " [  33 3069    0    4]\n",
      " [  86  109  292    3]\n",
      " [ 188  109    3  619]]\n"
     ]
    },
    {
     "data": {
      "image/png": "[encoded data removed]",
      "text/plain": [
       "<Figure size 432x288 with 2 Axes>"
      ]
     },
     "metadata": {
      "needs_background": "light"
     },
     "output_type": "display_data"
    }
   ],
   "source": [
    "from sklearn.metrics import confusion_matrix\n",
    "import seaborn as sns\n",
    "import matplotlib.pyplot as plt\n",
    "\n",
    "train_cm = confusion_matrix(df_train['CATEGORY'], train_pred[1])\n",
    "print(train_cm)\n",
    "sns.heatmap(train_cm, annot=True, cmap='Blues')\n",
    "plt.show()\n"
   ]
  },
  {
   "cell_type": "code",
   "execution_count": 213,
   "metadata": {},
   "outputs": [
    {
     "name": "stdout",
     "output_type": "stream",
     "text": [
      "[[432  15   1  11]\n",
      " [  8 379   1   0]\n",
      " [ 20  13  29   0]\n",
      " [ 40  21   0  54]]\n"
     ]
    },
    {
     "data": {
      "image/png": "[encoded data removed]",
      "text/plain": [
       "<Figure size 432x288 with 2 Axes>"
      ]
     },
     "metadata": {
      "needs_background": "light"
     },
     "output_type": "display_data"
    }
   ],
   "source": [
    "test_cm = confusion_matrix(df_test['CATEGORY'], test_pred[1])\n",
    "print(test_cm)\n",
    "sns.heatmap(test_cm, annot=True, cmap='Blues')\n",
    "plt.show()"
   ]
  },
  {
   "cell_type": "markdown",
   "metadata": {},
   "source": [
    "# 56. 適合率，再現率，F1スコアの計測"
   ]
  },
  {
   "cell_type": "code",
   "execution_count": 227,
   "metadata": {},
   "outputs": [],
   "source": [
    "from sklearn.metrics import precision_score, recall_score, f1_score\n",
    "\n",
    "labels = ['b', 'e', 't', 'm']\n",
    "\n",
    "def calculate_precision(y_true, y_pred):\n",
    "    precision = precision_score(df_test['CATEGORY'], test_pred[1], average=None, labels=labels)\n",
    "    precision = np.append(precision, precision_score(y_true, y_pred, average='micro'))\n",
    "    precision = np.append(precision, precision_score(y_true, y_pred, average='macro'))\n",
    "    return precision\n",
    "\n",
    "def calculate_recall(y_true, y_pred):\n",
    "    recall = recall_score(df_test['CATEGORY'], test_pred[1], average=None, labels=labels)\n",
    "    recall = np.append(recall, precision_score(y_true, y_pred, average='micro'))\n",
    "    recall = np.append(recall, precision_score(y_true, y_pred, average='macro'))\n",
    "    return recall\n",
    "\n",
    "def calculate_f1(y_true, y_pred):\n",
    "    f1 = f1_score(df_test['CATEGORY'], test_pred[1], average=None, labels=labels)\n",
    "    f1 = np.append(f1, precision_score(y_true, y_pred, average='micro'))\n",
    "    f1 = np.append(f1, precision_score(y_true, y_pred, average='macro'))\n",
    "    return f1\n"
   ]
  },
  {
   "cell_type": "code",
   "execution_count": 228,
   "metadata": {},
   "outputs": [],
   "source": [
    "precision = calculate_precision(df_test['CATEGORY'], test_pred[1])\n",
    "recall = calculate_recall(df_test['CATEGORY'], test_pred[1])\n",
    "f1 = calculate_f1(df_test['CATEGORY'], test_pred[1])"
   ]
  },
  {
   "cell_type": "code",
   "execution_count": 232,
   "metadata": {},
   "outputs": [
    {
     "data": {
      "text/html": [
       "<div>\n",
       "<style scoped>\n",
       "    .dataframe tbody tr th:only-of-type {\n",
       "        vertical-align: middle;\n",
       "    }\n",
       "\n",
       "    .dataframe tbody tr th {\n",
       "        vertical-align: top;\n",
       "    }\n",
       "\n",
       "    .dataframe thead th {\n",
       "        text-align: right;\n",
       "    }\n",
       "</style>\n",
       "<table border=\"1\" class=\"dataframe\">\n",
       "  <thead>\n",
       "    <tr style=\"text-align: right;\">\n",
       "      <th></th>\n",
       "      <th>precision</th>\n",
       "      <th>recall</th>\n",
       "      <th>f1</th>\n",
       "    </tr>\n",
       "  </thead>\n",
       "  <tbody>\n",
       "    <tr>\n",
       "      <td>b</td>\n",
       "      <td>0.864000</td>\n",
       "      <td>0.941176</td>\n",
       "      <td>0.900938</td>\n",
       "    </tr>\n",
       "    <tr>\n",
       "      <td>e</td>\n",
       "      <td>0.885514</td>\n",
       "      <td>0.976804</td>\n",
       "      <td>0.928922</td>\n",
       "    </tr>\n",
       "    <tr>\n",
       "      <td>t</td>\n",
       "      <td>0.830769</td>\n",
       "      <td>0.469565</td>\n",
       "      <td>0.600000</td>\n",
       "    </tr>\n",
       "    <tr>\n",
       "      <td>m</td>\n",
       "      <td>0.935484</td>\n",
       "      <td>0.467742</td>\n",
       "      <td>0.623656</td>\n",
       "    </tr>\n",
       "    <tr>\n",
       "      <td>micro</td>\n",
       "      <td>0.873047</td>\n",
       "      <td>0.873047</td>\n",
       "      <td>0.873047</td>\n",
       "    </tr>\n",
       "    <tr>\n",
       "      <td>macro</td>\n",
       "      <td>0.878942</td>\n",
       "      <td>0.878942</td>\n",
       "      <td>0.878942</td>\n",
       "    </tr>\n",
       "  </tbody>\n",
       "</table>\n",
       "</div>"
      ],
      "text/plain": [
       "       precision    recall        f1\n",
       "b       0.864000  0.941176  0.900938\n",
       "e       0.885514  0.976804  0.928922\n",
       "t       0.830769  0.469565  0.600000\n",
       "m       0.935484  0.467742  0.623656\n",
       "micro   0.873047  0.873047  0.873047\n",
       "macro   0.878942  0.878942  0.878942"
      ]
     },
     "execution_count": 232,
     "metadata": {},
     "output_type": "execute_result"
    }
   ],
   "source": [
    "pd.DataFrame({'precision': precision, 'recall': recall, 'f1': f1}, index=labels + ['micro', 'macro'])"
   ]
  },
  {
   "cell_type": "markdown",
   "metadata": {},
   "source": [
    "# 57. 特徴量の重みの確認"
   ]
  },
  {
   "cell_type": "code",
   "execution_count": 247,
   "metadata": {},
   "outputs": [
    {
     "name": "stdout",
     "output_type": "stream",
     "text": [
      "b\n"
     ]
    },
    {
     "data": {
      "text/html": [
       "<div>\n",
       "<style scoped>\n",
       "    .dataframe tbody tr th:only-of-type {\n",
       "        vertical-align: middle;\n",
       "    }\n",
       "\n",
       "    .dataframe tbody tr th {\n",
       "        vertical-align: top;\n",
       "    }\n",
       "\n",
       "    .dataframe thead th {\n",
       "        text-align: right;\n",
       "    }\n",
       "</style>\n",
       "<table border=\"1\" class=\"dataframe\">\n",
       "  <thead>\n",
       "    <tr style=\"text-align: right;\">\n",
       "      <th></th>\n",
       "      <th>1</th>\n",
       "      <th>2</th>\n",
       "      <th>3</th>\n",
       "      <th>4</th>\n",
       "      <th>5</th>\n",
       "      <th>6</th>\n",
       "      <th>7</th>\n",
       "      <th>8</th>\n",
       "      <th>9</th>\n",
       "      <th>10</th>\n",
       "    </tr>\n",
       "  </thead>\n",
       "  <tbody>\n",
       "    <tr>\n",
       "      <td>重要度上位</td>\n",
       "      <td>stocks</td>\n",
       "      <td>china</td>\n",
       "      <td>bank</td>\n",
       "      <td>fed</td>\n",
       "      <td>euro</td>\n",
       "      <td>ecb</td>\n",
       "      <td>profit</td>\n",
       "      <td>ukraine</td>\n",
       "      <td>yellen</td>\n",
       "      <td>update</td>\n",
       "    </tr>\n",
       "    <tr>\n",
       "      <td>重要度下位</td>\n",
       "      <td>google</td>\n",
       "      <td>ebola</td>\n",
       "      <td>kardashian</td>\n",
       "      <td>star</td>\n",
       "      <td>apple</td>\n",
       "      <td>chris</td>\n",
       "      <td>microsoft</td>\n",
       "      <td>study</td>\n",
       "      <td>video</td>\n",
       "      <td>fda</td>\n",
       "    </tr>\n",
       "  </tbody>\n",
       "</table>\n",
       "</div>"
      ],
      "text/plain": [
       "           1      2           3     4      5      6          7        8   \\\n",
       "重要度上位  stocks  china        bank   fed   euro    ecb     profit  ukraine   \n",
       "重要度下位  google  ebola  kardashian  star  apple  chris  microsoft    study   \n",
       "\n",
       "           9       10  \n",
       "重要度上位  yellen  update  \n",
       "重要度下位   video     fda  "
      ]
     },
     "metadata": {},
     "output_type": "display_data"
    },
    {
     "name": "stdout",
     "output_type": "stream",
     "text": [
      "e\n"
     ]
    },
    {
     "data": {
      "text/html": [
       "<div>\n",
       "<style scoped>\n",
       "    .dataframe tbody tr th:only-of-type {\n",
       "        vertical-align: middle;\n",
       "    }\n",
       "\n",
       "    .dataframe tbody tr th {\n",
       "        vertical-align: top;\n",
       "    }\n",
       "\n",
       "    .dataframe thead th {\n",
       "        text-align: right;\n",
       "    }\n",
       "</style>\n",
       "<table border=\"1\" class=\"dataframe\">\n",
       "  <thead>\n",
       "    <tr style=\"text-align: right;\">\n",
       "      <th></th>\n",
       "      <th>1</th>\n",
       "      <th>2</th>\n",
       "      <th>3</th>\n",
       "      <th>4</th>\n",
       "      <th>5</th>\n",
       "      <th>6</th>\n",
       "      <th>7</th>\n",
       "      <th>8</th>\n",
       "      <th>9</th>\n",
       "      <th>10</th>\n",
       "    </tr>\n",
       "  </thead>\n",
       "  <tbody>\n",
       "    <tr>\n",
       "      <td>重要度上位</td>\n",
       "      <td>chris</td>\n",
       "      <td>kardashian</td>\n",
       "      <td>film</td>\n",
       "      <td>star</td>\n",
       "      <td>miley</td>\n",
       "      <td>paul</td>\n",
       "      <td>cyrus</td>\n",
       "      <td>movie</td>\n",
       "      <td>kim</td>\n",
       "      <td>trailer</td>\n",
       "    </tr>\n",
       "    <tr>\n",
       "      <td>重要度下位</td>\n",
       "      <td>us</td>\n",
       "      <td>update</td>\n",
       "      <td>china</td>\n",
       "      <td>google</td>\n",
       "      <td>stocks</td>\n",
       "      <td>facebook</td>\n",
       "      <td>billion</td>\n",
       "      <td>apple</td>\n",
       "      <td>bank</td>\n",
       "      <td>says</td>\n",
       "    </tr>\n",
       "  </tbody>\n",
       "</table>\n",
       "</div>"
      ],
      "text/plain": [
       "          1           2      3       4       5         6        7      8   \\\n",
       "重要度上位  chris  kardashian   film    star   miley      paul    cyrus  movie   \n",
       "重要度下位     us      update  china  google  stocks  facebook  billion  apple   \n",
       "\n",
       "         9        10  \n",
       "重要度上位   kim  trailer  \n",
       "重要度下位  bank     says  "
      ]
     },
     "metadata": {},
     "output_type": "display_data"
    },
    {
     "name": "stdout",
     "output_type": "stream",
     "text": [
      "m\n"
     ]
    },
    {
     "data": {
      "text/html": [
       "<div>\n",
       "<style scoped>\n",
       "    .dataframe tbody tr th:only-of-type {\n",
       "        vertical-align: middle;\n",
       "    }\n",
       "\n",
       "    .dataframe tbody tr th {\n",
       "        vertical-align: top;\n",
       "    }\n",
       "\n",
       "    .dataframe thead th {\n",
       "        text-align: right;\n",
       "    }\n",
       "</style>\n",
       "<table border=\"1\" class=\"dataframe\">\n",
       "  <thead>\n",
       "    <tr style=\"text-align: right;\">\n",
       "      <th></th>\n",
       "      <th>1</th>\n",
       "      <th>2</th>\n",
       "      <th>3</th>\n",
       "      <th>4</th>\n",
       "      <th>5</th>\n",
       "      <th>6</th>\n",
       "      <th>7</th>\n",
       "      <th>8</th>\n",
       "      <th>9</th>\n",
       "      <th>10</th>\n",
       "    </tr>\n",
       "  </thead>\n",
       "  <tbody>\n",
       "    <tr>\n",
       "      <td>重要度上位</td>\n",
       "      <td>ebola</td>\n",
       "      <td>study</td>\n",
       "      <td>cancer</td>\n",
       "      <td>fda</td>\n",
       "      <td>health</td>\n",
       "      <td>drug</td>\n",
       "      <td>mers</td>\n",
       "      <td>virus</td>\n",
       "      <td>cases</td>\n",
       "      <td>outbreak</td>\n",
       "    </tr>\n",
       "    <tr>\n",
       "      <td>重要度下位</td>\n",
       "      <td>stocks</td>\n",
       "      <td>facebook</td>\n",
       "      <td>fed</td>\n",
       "      <td>china</td>\n",
       "      <td>euro</td>\n",
       "      <td>sales</td>\n",
       "      <td>bank</td>\n",
       "      <td>ecb</td>\n",
       "      <td>kardashian</td>\n",
       "      <td>buy</td>\n",
       "    </tr>\n",
       "  </tbody>\n",
       "</table>\n",
       "</div>"
      ],
      "text/plain": [
       "           1         2       3      4       5      6     7      8   \\\n",
       "重要度上位   ebola     study  cancer    fda  health   drug  mers  virus   \n",
       "重要度下位  stocks  facebook     fed  china    euro  sales  bank    ecb   \n",
       "\n",
       "               9         10  \n",
       "重要度上位       cases  outbreak  \n",
       "重要度下位  kardashian       buy  "
      ]
     },
     "metadata": {},
     "output_type": "display_data"
    },
    {
     "name": "stdout",
     "output_type": "stream",
     "text": [
      "t\n"
     ]
    },
    {
     "data": {
      "text/html": [
       "<div>\n",
       "<style scoped>\n",
       "    .dataframe tbody tr th:only-of-type {\n",
       "        vertical-align: middle;\n",
       "    }\n",
       "\n",
       "    .dataframe tbody tr th {\n",
       "        vertical-align: top;\n",
       "    }\n",
       "\n",
       "    .dataframe thead th {\n",
       "        text-align: right;\n",
       "    }\n",
       "</style>\n",
       "<table border=\"1\" class=\"dataframe\">\n",
       "  <thead>\n",
       "    <tr style=\"text-align: right;\">\n",
       "      <th></th>\n",
       "      <th>1</th>\n",
       "      <th>2</th>\n",
       "      <th>3</th>\n",
       "      <th>4</th>\n",
       "      <th>5</th>\n",
       "      <th>6</th>\n",
       "      <th>7</th>\n",
       "      <th>8</th>\n",
       "      <th>9</th>\n",
       "      <th>10</th>\n",
       "    </tr>\n",
       "  </thead>\n",
       "  <tbody>\n",
       "    <tr>\n",
       "      <td>重要度上位</td>\n",
       "      <td>google</td>\n",
       "      <td>facebook</td>\n",
       "      <td>apple</td>\n",
       "      <td>microsoft</td>\n",
       "      <td>climate</td>\n",
       "      <td>gm</td>\n",
       "      <td>mobile</td>\n",
       "      <td>heartbleed</td>\n",
       "      <td>tesla</td>\n",
       "      <td>fcc</td>\n",
       "    </tr>\n",
       "    <tr>\n",
       "      <td>重要度下位</td>\n",
       "      <td>stocks</td>\n",
       "      <td>fed</td>\n",
       "      <td>bank</td>\n",
       "      <td>ecb</td>\n",
       "      <td>euro</td>\n",
       "      <td>shares</td>\n",
       "      <td>ukraine</td>\n",
       "      <td>kardashian</td>\n",
       "      <td>thrones</td>\n",
       "      <td>home</td>\n",
       "    </tr>\n",
       "  </tbody>\n",
       "</table>\n",
       "</div>"
      ],
      "text/plain": [
       "           1         2      3          4        5       6        7   \\\n",
       "重要度上位  google  facebook  apple  microsoft  climate      gm   mobile   \n",
       "重要度下位  stocks       fed   bank        ecb     euro  shares  ukraine   \n",
       "\n",
       "               8        9     10  \n",
       "重要度上位  heartbleed    tesla   fcc  \n",
       "重要度下位  kardashian  thrones  home  "
      ]
     },
     "metadata": {},
     "output_type": "display_data"
    }
   ],
   "source": [
    "features = np.array(tfidf_vec.get_feature_names())\n",
    "index = [i for i in range(1, 11)]\n",
    "\n",
    "\n",
    "for c, coef in zip(clf.classes_, clf.coef_):\n",
    "    print(f\"{c}\")\n",
    "    best10 = pd.DataFrame(features[np.argsort(coef)[::-1][:10]], columns=[\"重要度上位\"], index=index).T\n",
    "    worst10 = pd.DataFrame(features[np.argsort(coef)[:10]], columns=[\"重要度下位\"], index=index).T\n",
    "    display(pd.concat([best10, worst10], axis=0))"
   ]
  },
  {
   "cell_type": "code",
   "execution_count": 243,
   "metadata": {},
   "outputs": [
    {
     "data": {
      "text/plain": [
       "array([2900,  541,  255, ..., 1615,  931, 1296])"
      ]
     },
     "execution_count": 243,
     "metadata": {},
     "output_type": "execute_result"
    }
   ],
   "source": [
    "np.argsort(clf.coef_[0])[::-1]"
   ]
  },
  {
   "cell_type": "markdown",
   "metadata": {},
   "source": [
    "# 58. 正則化パラメータの変更\n"
   ]
  },
  {
   "cell_type": "code",
   "execution_count": 255,
   "metadata": {},
   "outputs": [
    {
     "name": "stderr",
     "output_type": "stream",
     "text": [
      "100%|██████████| 20/20 [00:02<00:00,  8.76it/s]\n"
     ]
    }
   ],
   "source": [
    "from tqdm import tqdm\n",
    "\n",
    "result = []\n",
    "for c in tqdm(np.logspace(-5, 4, 20, base=10)):\n",
    "    model = LogisticRegression(random_state=99, max_iter=10000, C=c)\n",
    "    model.fit(train_features, df_train['CATEGORY'])\n",
    "    \n",
    "    train_pred = score_clf(model, train_features)\n",
    "    valid_pred = score_clf(model, valid_features)\n",
    "    test_pred = score_clf(model, test_features)\n",
    "    \n",
    "    train_accuracy = accuracy_score(df_train['CATEGORY'], train_pred[1])\n",
    "    valid_accuracy = accuracy_score(df_valid['CATEGORY'], valid_pred[1])\n",
    "    test_accuracy = accuracy_score(df_test['CATEGORY'], test_pred[1])\n",
    "    \n",
    "    result.append([c, train_accuracy, valid_accuracy, test_accuracy])\n"
   ]
  },
  {
   "cell_type": "code",
   "execution_count": 256,
   "metadata": {},
   "outputs": [
    {
     "data": {
      "image/png": "[encoded data removed]",
      "text/plain": [
       "<Figure size 432x288 with 1 Axes>"
      ]
     },
     "metadata": {
      "needs_background": "light"
     },
     "output_type": "display_data"
    }
   ],
   "source": [
    "result = np.array(result).T\n",
    "plt.plot(result[0], result[1], label='train')\n",
    "plt.plot(result[0], result[2], label='valid')\n",
    "plt.plot(result[0], result[3], label='test')\n",
    "plt.ylim(0, 1.1)\n",
    "plt.ylabel('Accuracy')\n",
    "plt.xscale ('log')\n",
    "plt.xlabel('C')\n",
    "plt.legend()\n",
    "plt.show()"
   ]
  },
  {
   "cell_type": "markdown",
   "metadata": {},
   "source": [
    "# 59. ハイパーパラメータの探索"
   ]
  },
  {
   "cell_type": "code",
   "execution_count": 261,
   "metadata": {},
   "outputs": [],
   "source": [
    "import optuna\n",
    "\n",
    "def objective_model(trial):\n",
    "    l1_ratio = trial.suggest_uniform('l1_ratio', 0, 1)\n",
    "    C = trial.suggest_loguniform('C', 1e-4, 1e4)\n",
    "    \n",
    "    model = LogisticRegression(random_state=99,\n",
    "                              max_iter=10000,\n",
    "                              penalty='elasticnet',\n",
    "                              solver='saga',\n",
    "                              l1_ratio=l1_ratio,\n",
    "                              C=C)\n",
    "    model.fit(train_features, df_train['CATEGORY'])\n",
    "    valid_pred = score_clf(model, valid_features)\n",
    "    valid_accuracy = accuracy_score(df_valid['CATEGORY'], valid_pred[1])\n",
    "    return valid_accuracy"
   ]
  },
  {
   "cell_type": "code",
   "execution_count": 262,
   "metadata": {},
   "outputs": [
    {
     "name": "stderr",
     "output_type": "stream",
     "text": [
      "[I 2020-09-22 21:03:58,923] A new study created in memory with name: no-name-67497575-5273-40f4-a1c6-17e8509ddad0\n",
      "[I 2020-09-22 21:23:54,224] Trial 0 finished with value: 0.8826979472140762 and parameters: {'l1_ratio': 0.992373663987791, 'C': 3162.4478506798896}. Best is trial 0 with value: 0.8826979472140762.\n",
      "[I 2020-09-22 21:23:54,461] Trial 1 finished with value: 0.44868035190615835 and parameters: {'l1_ratio': 0.4311849318692541, 'C': 0.013506677395019326}. Best is trial 0 with value: 0.8826979472140762.\n",
      "[I 2020-09-22 21:23:54,544] Trial 2 finished with value: 0.44868035190615835 and parameters: {'l1_ratio': 0.9845335046239125, 'C': 0.0001078627732115046}. Best is trial 0 with value: 0.8826979472140762.\n",
      "[I 2020-09-22 21:23:54,758] Trial 3 finished with value: 0.44868035190615835 and parameters: {'l1_ratio': 0.30856935534453334, 'C': 0.01019757521777917}. Best is trial 0 with value: 0.8826979472140762.\n",
      "[I 2020-09-22 21:25:00,511] Trial 4 finished with value: 0.9042033235581622 and parameters: {'l1_ratio': 0.9849569843727874, 'C': 2.6437276610777065}. Best is trial 4 with value: 0.9042033235581622.\n",
      "[I 2020-09-22 21:28:48,731] Trial 5 finished with value: 0.8944281524926686 and parameters: {'l1_ratio': 0.8129181628043731, 'C': 43.20337092603732}. Best is trial 4 with value: 0.9042033235581622.\n",
      "[I 2020-09-22 21:41:34,515] Trial 6 finished with value: 0.8856304985337243 and parameters: {'l1_ratio': 0.5970351543466156, 'C': 1147.5370673405885}. Best is trial 4 with value: 0.9042033235581622.\n",
      "[I 2020-09-22 21:41:34,894] Trial 7 finished with value: 0.6803519061583577 and parameters: {'l1_ratio': 0.9790982539449103, 'C': 0.10528946941626836}. Best is trial 4 with value: 0.9042033235581622.\n",
      "[I 2020-09-22 21:50:39,179] Trial 8 finished with value: 0.8866080156402737 and parameters: {'l1_ratio': 0.6294385571195665, 'C': 567.5529447865329}. Best is trial 4 with value: 0.9042033235581622.\n",
      "[I 2020-09-22 21:50:57,740] Trial 9 finished with value: 0.9110459433040078 and parameters: {'l1_ratio': 0.4641077996125781, 'C': 3.3000844814193493}. Best is trial 9 with value: 0.9110459433040078.\n",
      "[I 2020-09-22 21:51:28,683] Trial 10 finished with value: 0.9100684261974584 and parameters: {'l1_ratio': 0.001813783082930065, 'C': 6.015176448160133}. Best is trial 9 with value: 0.9110459433040078.\n",
      "[I 2020-09-22 21:51:55,937] Trial 11 finished with value: 0.9071358748778103 and parameters: {'l1_ratio': 0.0038322734621790908, 'C': 4.736154158648809}. Best is trial 9 with value: 0.9110459433040078.\n",
      "[I 2020-09-22 21:54:15,194] Trial 12 finished with value: 0.9012707722385142 and parameters: {'l1_ratio': 0.03849216128749583, 'C': 54.632688406608686}. Best is trial 9 with value: 0.9110459433040078.\n",
      "[I 2020-09-22 21:54:18,123] Trial 13 finished with value: 0.7634408602150538 and parameters: {'l1_ratio': 0.20145614417169833, 'C': 0.1530280100331083}. Best is trial 9 with value: 0.9110459433040078.\n",
      "[I 2020-09-22 21:57:03,003] Trial 14 finished with value: 0.9002932551319648 and parameters: {'l1_ratio': 0.1835708476249271, 'C': 63.316030905371115}. Best is trial 9 with value: 0.9110459433040078.\n",
      "[I 2020-09-22 21:57:06,617] Trial 15 finished with value: 0.8465298142717498 and parameters: {'l1_ratio': 0.4471407056663765, 'C': 0.5311888929854064}. Best is trial 9 with value: 0.9110459433040078.\n",
      "[I 2020-09-22 21:58:22,591] Trial 16 finished with value: 0.9081133919843597 and parameters: {'l1_ratio': 0.7446957032710076, 'C': 12.727281486194203}. Best is trial 9 with value: 0.9110459433040078.\n",
      "[I 2020-09-22 21:58:22,959] Trial 17 finished with value: 0.44868035190615835 and parameters: {'l1_ratio': 0.13977192704440605, 'C': 0.008316737933228594}. Best is trial 9 with value: 0.9110459433040078.\n",
      "[I 2020-09-22 21:58:29,445] Trial 18 finished with value: 0.8572825024437928 and parameters: {'l1_ratio': 0.29927631000563715, 'C': 0.605038498582712}. Best is trial 9 with value: 0.9110459433040078.\n",
      "[I 2020-09-22 21:59:57,309] Trial 19 finished with value: 0.9081133919843597 and parameters: {'l1_ratio': 0.8159070251587809, 'C': 12.02513499936036}. Best is trial 9 with value: 0.9110459433040078.\n",
      "[I 2020-09-22 22:05:30,108] Trial 20 finished with value: 0.8895405669599218 and parameters: {'l1_ratio': 0.3450720268352983, 'C': 185.1253702029314}. Best is trial 9 with value: 0.9110459433040078.\n",
      "[I 2020-09-22 22:06:21,344] Trial 21 finished with value: 0.9071358748778103 and parameters: {'l1_ratio': 0.7052051435466328, 'C': 8.689997705134155}. Best is trial 9 with value: 0.9110459433040078.\n",
      "[I 2020-09-22 22:06:28,702] Trial 22 finished with value: 0.8807429130009775 and parameters: {'l1_ratio': 0.8326730748447277, 'C': 1.3521652728978573}. Best is trial 9 with value: 0.9110459433040078.\n",
      "[I 2020-09-22 22:07:48,432] Trial 23 finished with value: 0.906158357771261 and parameters: {'l1_ratio': 0.5234130492266696, 'C': 16.89401327912978}. Best is trial 9 with value: 0.9110459433040078.\n",
      "[I 2020-09-22 22:07:48,641] Trial 24 finished with value: 0.6432062561094819 and parameters: {'l1_ratio': 0.8804330461705684, 'C': 0.07150526137528362}. Best is trial 9 with value: 0.9110459433040078.\n",
      "[I 2020-09-22 22:15:04,248] Trial 25 finished with value: 0.8866080156402737 and parameters: {'l1_ratio': 0.5624262562185112, 'C': 243.5431096259648}. Best is trial 9 with value: 0.9110459433040078.\n",
      "[I 2020-09-22 22:15:29,149] Trial 26 finished with value: 0.9071358748778103 and parameters: {'l1_ratio': 0.08010559137564618, 'C': 2.281014026933527}. Best is trial 9 with value: 0.9110459433040078.\n",
      "[I 2020-09-22 22:15:30,763] Trial 27 finished with value: 0.7976539589442815 and parameters: {'l1_ratio': 0.6607814691113936, 'C': 0.29935931939546706}. Best is trial 9 with value: 0.9110459433040078.\n",
      "[I 2020-09-22 22:17:52,949] Trial 28 finished with value: 0.9002932551319648 and parameters: {'l1_ratio': 0.7213814842273754, 'C': 28.731661042206554}. Best is trial 9 with value: 0.9110459433040078.\n",
      "[I 2020-09-22 22:40:14,515] Trial 29 finished with value: 0.8836754643206256 and parameters: {'l1_ratio': 0.8915003450016095, 'C': 7506.50720509379}. Best is trial 9 with value: 0.9110459433040078.\n",
      "[I 2020-09-22 22:56:07,139] Trial 30 finished with value: 0.8856304985337243 and parameters: {'l1_ratio': 0.4345715245942451, 'C': 3090.4627675867246}. Best is trial 9 with value: 0.9110459433040078.\n",
      "[I 2020-09-22 22:57:22,158] Trial 31 finished with value: 0.906158357771261 and parameters: {'l1_ratio': 0.7649140432958674, 'C': 8.564658803669698}. Best is trial 9 with value: 0.9110459433040078.\n",
      "[I 2020-09-22 23:04:19,502] Trial 32 finished with value: 0.8885630498533724 and parameters: {'l1_ratio': 0.8699730650860282, 'C': 137.25934964421418}. Best is trial 9 with value: 0.9110459433040078.\n",
      "[I 2020-09-22 23:05:36,500] Trial 33 finished with value: 0.9081133919843597 and parameters: {'l1_ratio': 0.7606028164081853, 'C': 13.880183037260402}. Best is trial 9 with value: 0.9110459433040078.\n",
      "[I 2020-09-22 23:06:10,315] Trial 34 finished with value: 0.9081133919843597 and parameters: {'l1_ratio': 0.90959912747093, 'C': 3.9179266375600363}. Best is trial 9 with value: 0.9110459433040078.\n",
      "[I 2020-09-22 23:06:31,031] Trial 35 finished with value: 0.9032258064516129 and parameters: {'l1_ratio': 0.9405720498715852, 'C': 2.477101046636623}. Best is trial 9 with value: 0.9110459433040078.\n",
      "[I 2020-09-22 23:06:31,576] Trial 36 finished with value: 0.4555229716520039 and parameters: {'l1_ratio': 0.7972464851576985, 'C': 0.032190557556136416}. Best is trial 9 with value: 0.9110459433040078.\n",
      "[I 2020-09-22 23:06:31,649] Trial 37 finished with value: 0.44868035190615835 and parameters: {'l1_ratio': 0.9225029736828644, 'C': 0.0008819402819496091}. Best is trial 9 with value: 0.9110459433040078.\n",
      "[I 2020-09-22 23:06:46,702] Trial 38 finished with value: 0.8660801564027371 and parameters: {'l1_ratio': 0.9912048432281286, 'C': 0.8786311778192659}. Best is trial 9 with value: 0.9110459433040078.\n",
      "[I 2020-09-22 23:07:10,694] Trial 39 finished with value: 0.9110459433040078 and parameters: {'l1_ratio': 0.36809228763456175, 'C': 4.321352989045346}. Best is trial 9 with value: 0.9110459433040078.\n",
      "[I 2020-09-22 23:07:33,097] Trial 40 finished with value: 0.9110459433040078 and parameters: {'l1_ratio': 0.3514829717000405, 'C': 4.040331884128562}. Best is trial 9 with value: 0.9110459433040078.\n",
      "[I 2020-09-22 23:07:42,244] Trial 41 finished with value: 0.8934506353861192 and parameters: {'l1_ratio': 0.3636553952298855, 'C': 1.4759918881418739}. Best is trial 9 with value: 0.9110459433040078.\n",
      "[I 2020-09-22 23:08:06,286] Trial 42 finished with value: 0.9120234604105572 and parameters: {'l1_ratio': 0.268273115003868, 'C': 4.248883078381584}. Best is trial 42 with value: 0.9120234604105572.\n",
      "[I 2020-09-22 23:08:10,263] Trial 43 finished with value: 0.8132942326490714 and parameters: {'l1_ratio': 0.2792716815059667, 'C': 0.31119004591555055}. Best is trial 42 with value: 0.9120234604105572.\n",
      "[I 2020-09-22 23:08:29,170] Trial 44 finished with value: 0.9110459433040078 and parameters: {'l1_ratio': 0.3743968087166762, 'C': 3.4099387290762797}. Best is trial 42 with value: 0.9120234604105572.\n",
      "[I 2020-09-22 23:10:15,545] Trial 45 finished with value: 0.9042033235581622 and parameters: {'l1_ratio': 0.37753277038914473, 'C': 31.313087941333716}. Best is trial 42 with value: 0.9120234604105572.\n",
      "[I 2020-09-22 23:10:32,685] Trial 46 finished with value: 0.9110459433040078 and parameters: {'l1_ratio': 0.25279854092145826, 'C': 2.706734307629334}. Best is trial 42 with value: 0.9120234604105572.\n",
      "[I 2020-09-22 23:10:35,430] Trial 47 finished with value: 0.7781036168132942 and parameters: {'l1_ratio': 0.2666336361188218, 'C': 0.19904461283750335}. Best is trial 42 with value: 0.9120234604105572.\n",
      "[I 2020-09-22 23:14:03,887] Trial 48 finished with value: 0.8944281524926686 and parameters: {'l1_ratio': 0.4879578222888747, 'C': 82.92290876162218}. Best is trial 42 with value: 0.9120234604105572.\n",
      "[I 2020-09-22 23:14:11,913] Trial 49 finished with value: 0.8768328445747801 and parameters: {'l1_ratio': 0.24409942181296965, 'C': 0.9191725593460651}. Best is trial 42 with value: 0.9120234604105572.\n",
      "[I 2020-09-22 23:14:38,756] Trial 50 finished with value: 0.9110459433040078 and parameters: {'l1_ratio': 0.2126034631217348, 'C': 4.809132213692934}. Best is trial 42 with value: 0.9120234604105572.\n",
      "[I 2020-09-22 23:15:00,478] Trial 51 finished with value: 0.9110459433040078 and parameters: {'l1_ratio': 0.3979537710768542, 'C': 4.044675080622201}. Best is trial 42 with value: 0.9120234604105572.\n",
      "[I 2020-09-22 23:15:14,572] Trial 52 finished with value: 0.9081133919843597 and parameters: {'l1_ratio': 0.4054326568862744, 'C': 2.3739694670862606}. Best is trial 42 with value: 0.9120234604105572.\n",
      "[I 2020-09-22 23:15:44,357] Trial 53 finished with value: 0.9110459433040078 and parameters: {'l1_ratio': 0.32336317803087217, 'C': 5.764097387357278}. Best is trial 42 with value: 0.9120234604105572.\n",
      "[I 2020-09-22 23:17:12,303] Trial 54 finished with value: 0.9051808406647116 and parameters: {'l1_ratio': 0.21570688891390088, 'C': 24.313025047793737}. Best is trial 42 with value: 0.9120234604105572.\n",
      "[I 2020-09-22 23:17:16,666] Trial 55 finished with value: 0.8328445747800587 and parameters: {'l1_ratio': 0.31660488444678614, 'C': 0.4205216247011219}. Best is trial 42 with value: 0.9120234604105572.\n",
      "[I 2020-09-22 23:17:44,524] Trial 56 finished with value: 0.9130009775171065 and parameters: {'l1_ratio': 0.40588062673200487, 'C': 5.456390359704513}. Best is trial 56 with value: 0.9130009775171065.\n",
      "[I 2020-09-22 23:18:20,931] Trial 57 finished with value: 0.9110459433040078 and parameters: {'l1_ratio': 0.39940739323215907, 'C': 7.436805940508818}. Best is trial 56 with value: 0.9130009775171065.\n",
      "[I 2020-09-22 23:25:39,678] Trial 58 finished with value: 0.8866080156402737 and parameters: {'l1_ratio': 0.4790147156275957, 'C': 436.0199430143283}. Best is trial 56 with value: 0.9130009775171065.\n",
      "[I 2020-09-22 23:28:00,025] Trial 59 finished with value: 0.9022482893450635 and parameters: {'l1_ratio': 0.14851324635157745, 'C': 54.84349423664505}. Best is trial 56 with value: 0.9130009775171065.\n",
      "[I 2020-09-22 23:28:49,572] Trial 60 finished with value: 0.9090909090909091 and parameters: {'l1_ratio': 0.525675684106244, 'C': 7.522813225509014}. Best is trial 56 with value: 0.9130009775171065.\n",
      "[I 2020-09-22 23:29:03,779] Trial 61 finished with value: 0.8944281524926686 and parameters: {'l1_ratio': 0.3494841553369723, 'C': 1.4815229677861899}. Best is trial 56 with value: 0.9130009775171065.\n",
      "[I 2020-09-22 23:30:25,135] Trial 62 finished with value: 0.906158357771261 and parameters: {'l1_ratio': 0.4442150405598997, 'C': 17.697386311820015}. Best is trial 56 with value: 0.9130009775171065.\n",
      "[I 2020-09-22 23:31:02,479] Trial 63 finished with value: 0.9110459433040078 and parameters: {'l1_ratio': 0.31356012477484435, 'C': 7.4364094951957815}. Best is trial 56 with value: 0.9130009775171065.\n",
      "[I 2020-09-22 23:31:10,002] Trial 64 finished with value: 0.8611925708699902 and parameters: {'l1_ratio': 0.2418145951039191, 'C': 0.6739750987893446}. Best is trial 56 with value: 0.9130009775171065.\n",
      "[I 2020-09-22 23:31:33,827] Trial 65 finished with value: 0.9100684261974584 and parameters: {'l1_ratio': 0.1596221126599005, 'C': 3.7538439824585637}. Best is trial 56 with value: 0.9130009775171065.\n",
      "[I 2020-09-22 23:31:47,273] Trial 66 finished with value: 0.8885630498533724 and parameters: {'l1_ratio': 0.10224151764857074, 'C': 1.3765621674417878}. Best is trial 56 with value: 0.9130009775171065.\n",
      "[I 2020-09-22 23:32:56,152] Trial 67 finished with value: 0.9071358748778103 and parameters: {'l1_ratio': 0.40978177441256747, 'C': 15.878725150885874}. Best is trial 56 with value: 0.9130009775171065.\n",
      "[I 2020-09-22 23:36:15,808] Trial 68 finished with value: 0.8963831867057673 and parameters: {'l1_ratio': 0.30128455268741483, 'C': 86.73788257498244}. Best is trial 56 with value: 0.9130009775171065.\n",
      "[I 2020-09-22 23:36:31,053] Trial 69 finished with value: 0.906158357771261 and parameters: {'l1_ratio': 0.19080265439218155, 'C': 2.1514568951285535}. Best is trial 56 with value: 0.9130009775171065.\n",
      "[I 2020-09-22 23:36:59,609] Trial 70 finished with value: 0.9110459433040078 and parameters: {'l1_ratio': 0.24441544078616861, 'C': 5.169463822887235}. Best is trial 56 with value: 0.9130009775171065.\n",
      "[I 2020-09-22 23:37:27,036] Trial 71 finished with value: 0.9110459433040078 and parameters: {'l1_ratio': 0.22479975915980166, 'C': 4.940852865881923}. Best is trial 56 with value: 0.9130009775171065.\n",
      "[I 2020-09-22 23:38:10,016] Trial 72 finished with value: 0.9110459433040078 and parameters: {'l1_ratio': 0.40699184185324955, 'C': 8.91396663331856}. Best is trial 56 with value: 0.9130009775171065.\n",
      "[I 2020-09-22 23:38:54,634] Trial 73 finished with value: 0.9110459433040078 and parameters: {'l1_ratio': 0.42570324745658533, 'C': 9.218180781605245}. Best is trial 56 with value: 0.9130009775171065.\n",
      "[I 2020-09-22 23:40:40,181] Trial 74 finished with value: 0.9042033235581622 and parameters: {'l1_ratio': 0.526319773097723, 'C': 26.402508279483484}. Best is trial 56 with value: 0.9130009775171065.\n",
      "[I 2020-09-22 23:40:52,543] Trial 75 finished with value: 0.906158357771261 and parameters: {'l1_ratio': 0.32359259451345845, 'C': 1.9484685544729754}. Best is trial 56 with value: 0.9130009775171065.\n",
      "[I 2020-09-22 23:43:01,009] Trial 76 finished with value: 0.9022482893450635 and parameters: {'l1_ratio': 0.4690170286120771, 'C': 37.507998550090534}. Best is trial 56 with value: 0.9130009775171065.\n",
      "[I 2020-09-22 23:43:32,818] Trial 77 finished with value: 0.9100684261974584 and parameters: {'l1_ratio': 0.2846797490964891, 'C': 6.147337460373396}. Best is trial 56 with value: 0.9130009775171065.\n",
      "[I 2020-09-22 23:43:39,938] Trial 78 finished with value: 0.8778103616813294 and parameters: {'l1_ratio': 0.3335120139650109, 'C': 1.0088120221451644}. Best is trial 56 with value: 0.9130009775171065.\n",
      "[I 2020-09-22 23:43:58,026] Trial 79 finished with value: 0.9120234604105572 and parameters: {'l1_ratio': 0.3640093275990726, 'C': 3.0502214041677798}. Best is trial 56 with value: 0.9130009775171065.\n",
      "[I 2020-09-22 23:44:46,039] Trial 80 finished with value: 0.9120234604105572 and parameters: {'l1_ratio': 0.10637364887716352, 'C': 10.340573766774567}. Best is trial 56 with value: 0.9130009775171065.\n",
      "[I 2020-09-22 23:45:32,799] Trial 81 finished with value: 0.9120234604105572 and parameters: {'l1_ratio': 0.10079482442057253, 'C': 9.999557012403299}. Best is trial 56 with value: 0.9130009775171065.\n",
      "[I 2020-09-22 23:46:25,813] Trial 82 finished with value: 0.9120234604105572 and parameters: {'l1_ratio': 0.08579716279618471, 'C': 12.032076475770936}. Best is trial 56 with value: 0.9130009775171065.\n",
      "[I 2020-09-22 23:47:36,204] Trial 83 finished with value: 0.906158357771261 and parameters: {'l1_ratio': 0.020881664819125567, 'C': 19.2053741913131}. Best is trial 56 with value: 0.9130009775171065.\n",
      "[I 2020-09-22 23:49:59,413] Trial 84 finished with value: 0.9022482893450635 and parameters: {'l1_ratio': 0.06539518234663329, 'C': 54.69626203528575}. Best is trial 56 with value: 0.9130009775171065.\n",
      "[I 2020-09-22 23:51:00,479] Trial 85 finished with value: 0.9090909090909091 and parameters: {'l1_ratio': 0.09889442195355413, 'C': 12.859929563719238}. Best is trial 56 with value: 0.9130009775171065.\n"
     ]
    }
   ],
   "source": [
    "study = optuna.create_study(direction='maximize')\n",
    "study.optimize(objective_model, timeout=10000)"
   ]
  },
  {
   "cell_type": "code",
   "execution_count": 264,
   "metadata": {},
   "outputs": [
    {
     "name": "stdout",
     "output_type": "stream",
     "text": [
      "best\n",
      "value: 0.913\n",
      "params: \n",
      "l1_ratio:0.40588062673200487\n",
      "C:5.456390359704513\n"
     ]
    }
   ],
   "source": [
    "print(\"best\")\n",
    "best_trial = study.best_trial\n",
    "print(f\"value: {best_trial.value:.3f}\")\n",
    "print(f\"params: \")\n",
    "for key, value in best_trial.params.items():\n",
    "    print(f\"{key}:{value}\")"
   ]
  },
  {
   "cell_type": "code",
   "execution_count": null,
   "metadata": {},
   "outputs": [],
   "source": []
  }
 ],
 "metadata": {
  "kernelspec": {
   "display_name": "Python 3",
   "language": "python",
   "name": "python3"
  },
  "language_info": {
   "codemirror_mode": {
    "name": "ipython",
    "version": 3
   },
   "file_extension": ".py",
   "mimetype": "text/x-python",
   "name": "python",
   "nbconvert_exporter": "python",
   "pygments_lexer": "ipython3",
   "version": "3.7.4"
  }
 },
 "nbformat": 4,
 "nbformat_minor": 4
}
