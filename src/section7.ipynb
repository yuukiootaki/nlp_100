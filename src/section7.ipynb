{
 "cells": [
  {
   "cell_type": "code",
   "execution_count": 2,
   "metadata": {},
   "outputs": [],
   "source": [
    "import numpy as np\n",
    "import pandas as pd"
   ]
  },
  {
   "cell_type": "markdown",
   "metadata": {},
   "source": [
    "# 60. 単語ベクトルの読み込みと表示Permalink"
   ]
  },
  {
   "cell_type": "code",
   "execution_count": 3,
   "metadata": {},
   "outputs": [],
   "source": [
    "from gensim.models import KeyedVectors\n",
    "model = KeyedVectors.load_word2vec_format('../data/GoogleNews-vectors-negative300.bin', binary=True)\n"
   ]
  },
  {
   "cell_type": "code",
   "execution_count": 5,
   "metadata": {},
   "outputs": [
    {
     "data": {
      "text/plain": [
       "(300,)"
      ]
     },
     "execution_count": 5,
     "metadata": {},
     "output_type": "execute_result"
    }
   ],
   "source": [
    "model['United_States'].shape"
   ]
  },
  {
   "cell_type": "code",
   "execution_count": 10,
   "metadata": {},
   "outputs": [
    {
     "data": {
      "text/plain": [
       "(300,)"
      ]
     },
     "execution_count": 10,
     "metadata": {},
     "output_type": "execute_result"
    }
   ],
   "source": [
    "model['US'].shape"
   ]
  },
  {
   "cell_type": "code",
   "execution_count": 16,
   "metadata": {},
   "outputs": [
    {
     "data": {
      "text/plain": [
       "(300,)"
      ]
     },
     "execution_count": 16,
     "metadata": {},
     "output_type": "execute_result"
    }
   ],
   "source": [
    "model['US'].reshape(-1).shape"
   ]
  },
  {
   "cell_type": "code",
   "execution_count": 18,
   "metadata": {},
   "outputs": [
    {
     "data": {
      "text/plain": [
       "(3,)"
      ]
     },
     "execution_count": 18,
     "metadata": {},
     "output_type": "execute_result"
    }
   ],
   "source": [
    "np.array([1, 2, 3]).shape"
   ]
  },
  {
   "cell_type": "markdown",
   "metadata": {},
   "source": [
    "# 61. 単語の類似度"
   ]
  },
  {
   "cell_type": "code",
   "execution_count": 26,
   "metadata": {},
   "outputs": [
    {
     "data": {
      "text/plain": [
       "0.73107743"
      ]
     },
     "execution_count": 26,
     "metadata": {},
     "output_type": "execute_result"
    }
   ],
   "source": [
    "model.similarity('United_States', 'U.S.')"
   ]
  },
  {
   "cell_type": "markdown",
   "metadata": {},
   "source": [
    "# 62. 類似度の高い単語10件"
   ]
  },
  {
   "cell_type": "code",
   "execution_count": 30,
   "metadata": {},
   "outputs": [
    {
     "data": {
      "text/plain": [
       "[('Unites_States', 0.7877248525619507),\n",
       " ('Untied_States', 0.7541370391845703),\n",
       " ('United_Sates', 0.74007248878479),\n",
       " ('U.S.', 0.7310774326324463),\n",
       " ('theUnited_States', 0.6404393911361694),\n",
       " ('America', 0.6178410053253174),\n",
       " ('UnitedStates', 0.6167312264442444),\n",
       " ('Europe', 0.6132988929748535),\n",
       " ('countries', 0.6044804453849792),\n",
       " ('Canada', 0.6019070148468018)]"
      ]
     },
     "execution_count": 30,
     "metadata": {},
     "output_type": "execute_result"
    }
   ],
   "source": [
    "model.most_similar('United_States')"
   ]
  },
  {
   "cell_type": "markdown",
   "metadata": {},
   "source": [
    "# 63. 加法構成性によるアナロジー"
   ]
  },
  {
   "cell_type": "code",
   "execution_count": 34,
   "metadata": {},
   "outputs": [
    {
     "data": {
      "text/plain": [
       "[('Greece', 0.6898480653762817),\n",
       " ('Aristeidis_Grigoriadis', 0.5606849193572998),\n",
       " ('Ioannis_Drymonakos', 0.555290937423706),\n",
       " ('Greeks', 0.5450686812400818),\n",
       " ('Ioannis_Christou', 0.5400862693786621),\n",
       " ('Hrysopiyi_Devetzi', 0.5248445272445679),\n",
       " ('Heraklio', 0.5207759141921997),\n",
       " ('Athens_Greece', 0.516880989074707),\n",
       " ('Lithuania', 0.5166865587234497),\n",
       " ('Iraklion', 0.5146791338920593)]"
      ]
     },
     "execution_count": 34,
     "metadata": {},
     "output_type": "execute_result"
    }
   ],
   "source": [
    "vec = (model['Spain'] - model['Madrid'] + model['Athens'])\n",
    "model.most_similar(positive=['Spain', 'Athens'], negative=['Madrid'], topn=10)"
   ]
  },
  {
   "cell_type": "code",
   "execution_count": 42,
   "metadata": {},
   "outputs": [
    {
     "name": "stdout",
     "output_type": "stream",
     "text": [
      "--2020-09-26 01:29:01--  http://download.tensorflow.org/data/questions-words.txt\n",
      "Resolving download.tensorflow.org... 2404:6800:4004:81f::2010, 216.58.220.144\n",
      "Connecting to download.tensorflow.org|2404:6800:4004:81f::2010|:80... connected.\n",
      "HTTP request sent, awaiting response... 200 OK\n",
      "Length: 603955 (590K) [text/plain]\n",
      "Saving to: ‘questions-words.txt.3’\n",
      "\n",
      "questions-words.txt 100%[===================>] 589.80K  1.18MB/s    in 0.5s    \n",
      "\n",
      "2020-09-26 01:29:01 (1.18 MB/s) - ‘questions-words.txt.3’ saved [603955/603955]\n",
      "\n"
     ]
    }
   ],
   "source": [
    "!wget http://download.tensorflow.org/data/questions-words.txt\n",
    "!mv questions-words.txt ../data/"
   ]
  },
  {
   "cell_type": "code",
   "execution_count": 43,
   "metadata": {},
   "outputs": [
    {
     "name": "stdout",
     "output_type": "stream",
     "text": [
      ": capital-common-countries\n",
      "Athens Greece Baghdad Iraq\n",
      "Athens Greece Bangkok Thailand\n",
      "Athens Greece Beijing China\n",
      "Athens Greece Berlin Germany\n",
      "Athens Greece Bern Switzerland\n",
      "Athens Greece Cairo Egypt\n",
      "Athens Greece Canberra Australia\n",
      "Athens Greece Hanoi Vietnam\n",
      "Athens Greece Havana Cuba\n"
     ]
    }
   ],
   "source": [
    "!head -10 ../data/questions-words.txt"
   ]
  },
  {
   "cell_type": "code",
   "execution_count": 46,
   "metadata": {},
   "outputs": [
    {
     "ename": "KeyboardInterrupt",
     "evalue": "",
     "output_type": "error",
     "traceback": [
      "\u001b[0;31m---------------------------------------------------------------------------\u001b[0m",
      "\u001b[0;31mKeyboardInterrupt\u001b[0m                         Traceback (most recent call last)",
      "\u001b[0;32m<ipython-input-46-6b1b65e4f4a8>\u001b[0m in \u001b[0;36m<module>\u001b[0;34m\u001b[0m\n\u001b[1;32m      9\u001b[0m             \u001b[0mfactor3\u001b[0m \u001b[0;34m=\u001b[0m \u001b[0msplitted\u001b[0m\u001b[0;34m[\u001b[0m\u001b[0;36m2\u001b[0m\u001b[0;34m]\u001b[0m\u001b[0;34m\u001b[0m\u001b[0;34m\u001b[0m\u001b[0m\n\u001b[1;32m     10\u001b[0m             \u001b[0mfactor4\u001b[0m \u001b[0;34m=\u001b[0m \u001b[0msplitted\u001b[0m\u001b[0;34m[\u001b[0m\u001b[0;36m3\u001b[0m\u001b[0;34m]\u001b[0m\u001b[0;34m\u001b[0m\u001b[0;34m\u001b[0m\u001b[0m\n\u001b[0;32m---> 11\u001b[0;31m             \u001b[0mmost_similars\u001b[0m \u001b[0;34m=\u001b[0m \u001b[0mmodel\u001b[0m\u001b[0;34m.\u001b[0m\u001b[0mmost_similar\u001b[0m\u001b[0;34m(\u001b[0m\u001b[0mpositive\u001b[0m\u001b[0;34m=\u001b[0m\u001b[0;34m[\u001b[0m\u001b[0mfactor2\u001b[0m\u001b[0;34m,\u001b[0m \u001b[0mfactor3\u001b[0m\u001b[0;34m]\u001b[0m\u001b[0;34m,\u001b[0m \u001b[0mnegative\u001b[0m\u001b[0;34m=\u001b[0m\u001b[0;34m[\u001b[0m\u001b[0mfactor1\u001b[0m\u001b[0;34m]\u001b[0m\u001b[0;34m,\u001b[0m \u001b[0mtopn\u001b[0m\u001b[0;34m=\u001b[0m\u001b[0;36m10\u001b[0m\u001b[0;34m)\u001b[0m\u001b[0;34m\u001b[0m\u001b[0;34m\u001b[0m\u001b[0m\n\u001b[0m\u001b[1;32m     12\u001b[0m             \u001b[0mmost_similar\u001b[0m \u001b[0;34m=\u001b[0m \u001b[0mmost_similars\u001b[0m\u001b[0;34m[\u001b[0m\u001b[0;36m0\u001b[0m\u001b[0;34m]\u001b[0m\u001b[0;34m\u001b[0m\u001b[0;34m\u001b[0m\u001b[0m\n\u001b[1;32m     13\u001b[0m             \u001b[0mword\u001b[0m \u001b[0;34m=\u001b[0m \u001b[0mmost_similar\u001b[0m\u001b[0;34m[\u001b[0m\u001b[0;36m0\u001b[0m\u001b[0;34m]\u001b[0m\u001b[0;34m\u001b[0m\u001b[0;34m\u001b[0m\u001b[0m\n",
      "\u001b[0;32m~/.pyenv/versions/anaconda3-2019.10/lib/python3.7/site-packages/gensim/models/keyedvectors.py\u001b[0m in \u001b[0;36mmost_similar\u001b[0;34m(self, positive, negative, topn, restrict_vocab, indexer)\u001b[0m\n\u001b[1;32m    562\u001b[0m \u001b[0;34m\u001b[0m\u001b[0m\n\u001b[1;32m    563\u001b[0m         \u001b[0mlimited\u001b[0m \u001b[0;34m=\u001b[0m \u001b[0mself\u001b[0m\u001b[0;34m.\u001b[0m\u001b[0mvectors_norm\u001b[0m \u001b[0;32mif\u001b[0m \u001b[0mrestrict_vocab\u001b[0m \u001b[0;32mis\u001b[0m \u001b[0;32mNone\u001b[0m \u001b[0;32melse\u001b[0m \u001b[0mself\u001b[0m\u001b[0;34m.\u001b[0m\u001b[0mvectors_norm\u001b[0m\u001b[0;34m[\u001b[0m\u001b[0;34m:\u001b[0m\u001b[0mrestrict_vocab\u001b[0m\u001b[0;34m]\u001b[0m\u001b[0;34m\u001b[0m\u001b[0;34m\u001b[0m\u001b[0m\n\u001b[0;32m--> 564\u001b[0;31m         \u001b[0mdists\u001b[0m \u001b[0;34m=\u001b[0m \u001b[0mdot\u001b[0m\u001b[0;34m(\u001b[0m\u001b[0mlimited\u001b[0m\u001b[0;34m,\u001b[0m \u001b[0mmean\u001b[0m\u001b[0;34m)\u001b[0m\u001b[0;34m\u001b[0m\u001b[0;34m\u001b[0m\u001b[0m\n\u001b[0m\u001b[1;32m    565\u001b[0m         \u001b[0;32mif\u001b[0m \u001b[0;32mnot\u001b[0m \u001b[0mtopn\u001b[0m\u001b[0;34m:\u001b[0m\u001b[0;34m\u001b[0m\u001b[0;34m\u001b[0m\u001b[0m\n\u001b[1;32m    566\u001b[0m             \u001b[0;32mreturn\u001b[0m \u001b[0mdists\u001b[0m\u001b[0;34m\u001b[0m\u001b[0;34m\u001b[0m\u001b[0m\n",
      "\u001b[0;32m<__array_function__ internals>\u001b[0m in \u001b[0;36mdot\u001b[0;34m(*args, **kwargs)\u001b[0m\n",
      "\u001b[0;31mKeyboardInterrupt\u001b[0m: "
     ]
    }
   ],
   "source": [
    "with open('../data/questions-words.txt', \"r\") as fin, open('../output/section7/qustion-words-add.txt', 'w') as fout:\n",
    "    for line in fin:\n",
    "        splitted = line.split(\" \")\n",
    "        if splitted[0] == \":\":\n",
    "            category = splitted[1]\n",
    "        else:\n",
    "            factor1 = splitted[0]\n",
    "            factor2 = splitted[1]\n",
    "            factor3 = splitted[2]\n",
    "            factor4 = splitted[3]\n",
    "            most_similars = model.most_similar(positive=[factor2, factor3], negative=[factor1], topn=10)\n",
    "            most_similar = most_similars[0]\n",
    "            word = most_similar[0]\n",
    "            score = most_similar[1]\n",
    "            fout.write(''.join([category] + splitted + [word, str(score) + '\\n']))\n",
    "            \n",
    "        \n",
    "            \n",
    "        "
   ]
  },
  {
   "cell_type": "code",
   "execution_count": null,
   "metadata": {},
   "outputs": [],
   "source": []
  },
  {
   "cell_type": "code",
   "execution_count": null,
   "metadata": {},
   "outputs": [],
   "source": []
  },
  {
   "cell_type": "code",
   "execution_count": 28,
   "metadata": {},
   "outputs": [
    {
     "ename": "ValueError",
     "evalue": "Expected 2D array, got 1D array instead:\narray=[-3.61328125e-02 -4.83398438e-02  2.35351562e-01  1.74804688e-01\n -1.46484375e-01 -7.42187500e-02 -1.01562500e-01 -7.71484375e-02\n  1.09375000e-01 -5.71289062e-02 -1.48437500e-01 -6.00585938e-02\n  1.74804688e-01 -7.71484375e-02  2.58789062e-02 -7.66601562e-02\n -3.80859375e-02  1.35742188e-01  3.75976562e-02 -4.19921875e-02\n -3.56445312e-02  5.34667969e-02  3.68118286e-04 -1.66992188e-01\n -1.17187500e-01  1.41601562e-01 -1.69921875e-01 -6.49414062e-02\n -1.66992188e-01  1.00585938e-01  1.15722656e-01 -2.18750000e-01\n -9.86328125e-02 -2.56347656e-02  1.23046875e-01 -3.54003906e-02\n -1.58203125e-01 -1.60156250e-01  2.94189453e-02  8.15429688e-02\n  6.88476562e-02  1.87500000e-01  6.49414062e-02  1.15234375e-01\n -2.27050781e-02  3.32031250e-01 -3.27148438e-02  1.77734375e-01\n -2.08007812e-01  4.54101562e-02 -1.23901367e-02  1.19628906e-01\n  7.44628906e-03 -9.03320312e-03  1.14257812e-01  1.69921875e-01\n -2.38281250e-01 -2.79541016e-02 -1.21093750e-01  2.47802734e-02\n  7.71484375e-02 -2.81982422e-02 -4.71191406e-02  1.78222656e-02\n -1.23046875e-01 -5.32226562e-02  2.68554688e-02 -3.11279297e-02\n -5.59082031e-02 -5.00488281e-02 -3.73535156e-02  1.25976562e-01\n  5.61523438e-02  1.51367188e-01  4.29687500e-02 -2.08007812e-01\n -4.78515625e-02  2.78320312e-02  1.81640625e-01  2.20703125e-01\n -3.61328125e-02 -8.39843750e-02 -3.69548798e-05 -9.52148438e-02\n -1.25000000e-01 -1.95312500e-01 -1.50390625e-01 -4.15039062e-02\n  1.31835938e-01  1.17675781e-01  1.91650391e-02  5.51757812e-02\n -9.42382812e-02 -1.08886719e-01  7.32421875e-02 -1.15234375e-01\n  8.93554688e-02 -1.40625000e-01  1.45507812e-01  4.49218750e-02\n -1.10473633e-02 -1.62353516e-02  4.05883789e-03  3.75976562e-02\n -6.98242188e-02 -5.46875000e-02  2.17285156e-02 -9.47265625e-02\n  4.24804688e-02  1.81884766e-02 -1.73339844e-02  4.63867188e-02\n -1.42578125e-01  1.99218750e-01  1.10839844e-01  2.58789062e-02\n -7.08007812e-02 -5.54199219e-02  3.45703125e-01  1.61132812e-01\n -2.44140625e-01 -2.59765625e-01 -9.71679688e-02  8.00781250e-02\n -8.78906250e-02 -7.22656250e-02  1.42578125e-01 -8.54492188e-02\n -3.18359375e-01  8.30078125e-02  6.34765625e-02  1.64062500e-01\n -1.92382812e-01 -1.17675781e-01 -5.41992188e-02 -1.56250000e-01\n -1.21582031e-01 -4.95605469e-02  1.20117188e-01 -3.83300781e-02\n  5.51757812e-02 -8.97216797e-03  4.32128906e-02  6.93359375e-02\n  8.93554688e-02  2.53906250e-01  1.65039062e-01  1.64062500e-01\n -1.41601562e-01  4.58984375e-02  1.97265625e-01 -8.98437500e-02\n  3.90625000e-02 -1.51367188e-01 -8.60595703e-03 -1.17675781e-01\n -1.97265625e-01 -1.12792969e-01  1.29882812e-01  1.96289062e-01\n  1.56402588e-03  3.93066406e-02  2.17773438e-01 -1.43554688e-01\n  6.03027344e-02 -1.35742188e-01  1.16210938e-01 -1.59912109e-02\n  2.79296875e-01  1.46484375e-01 -1.19628906e-01  1.76757812e-01\n  1.28906250e-01 -1.49414062e-01  6.93359375e-02 -1.72851562e-01\n  9.22851562e-02  1.33056641e-02 -2.00195312e-01 -9.76562500e-02\n -1.65039062e-01 -2.46093750e-01 -2.35595703e-02 -2.11914062e-01\n  1.84570312e-01 -1.85546875e-02  2.16796875e-01  5.05371094e-02\n  2.02636719e-02  4.25781250e-01  1.28906250e-01 -2.77099609e-02\n  1.29882812e-01 -1.15722656e-01 -2.05078125e-02  1.49414062e-01\n  7.81250000e-03 -2.05078125e-01 -8.05664062e-02 -2.67578125e-01\n -2.29492188e-02 -8.20312500e-02  8.64257812e-02  7.61718750e-02\n -3.66210938e-02  5.22460938e-02 -1.22070312e-01 -1.44042969e-02\n -2.69531250e-01  8.44726562e-02 -2.52685547e-02 -2.96630859e-02\n -1.68945312e-01  1.93359375e-01 -1.08398438e-01  1.94091797e-02\n -1.80664062e-01  1.93359375e-01 -7.08007812e-02  5.85937500e-02\n -1.01562500e-01 -1.31835938e-01  7.51953125e-02 -7.66601562e-02\n  3.37219238e-03 -8.59375000e-02  1.25000000e-01  2.92968750e-02\n  1.70898438e-01 -9.37500000e-02 -1.09375000e-01 -2.50244141e-02\n  2.11914062e-01 -4.44335938e-02  6.12792969e-02  2.62451172e-02\n -1.77734375e-01  1.23046875e-01 -7.42187500e-02 -1.67968750e-01\n -1.08886719e-01 -9.04083252e-04 -7.37304688e-02  5.49316406e-02\n  6.03027344e-02  8.39843750e-02  9.17968750e-02 -1.32812500e-01\n  1.22070312e-01 -8.78906250e-03  1.19140625e-01 -1.94335938e-01\n -6.64062500e-02 -2.07031250e-01  7.37304688e-02  8.93554688e-02\n  1.81884766e-02 -1.20605469e-01 -2.61230469e-02  2.67333984e-02\n  7.76367188e-02 -8.30078125e-02  6.78710938e-02 -3.54003906e-02\n  3.10546875e-01 -2.42919922e-02 -1.41601562e-01 -2.08007812e-01\n -4.57763672e-03 -6.54296875e-02 -4.95605469e-02  2.22656250e-01\n  1.53320312e-01 -1.38671875e-01 -5.24902344e-02  4.24804688e-02\n -2.38281250e-01  1.56250000e-01  5.83648682e-04 -1.20605469e-01\n -9.22851562e-02 -4.44335938e-02  3.61328125e-02 -1.86767578e-02\n -8.25195312e-02 -8.25195312e-02 -4.05273438e-02  1.19018555e-02\n  1.69921875e-01 -2.80761719e-02  3.03649902e-03  9.32617188e-02\n -8.49609375e-02  1.57470703e-02  7.03125000e-02  1.62353516e-02\n -2.27050781e-02  3.51562500e-02  2.47070312e-01 -2.67333984e-02].\nReshape your data either using array.reshape(-1, 1) if your data has a single feature or array.reshape(1, -1) if it contains a single sample.",
     "output_type": "error",
     "traceback": [
      "\u001b[0;31m---------------------------------------------------------------------------\u001b[0m",
      "\u001b[0;31mValueError\u001b[0m                                Traceback (most recent call last)",
      "\u001b[0;32m<ipython-input-28-085c248a3e77>\u001b[0m in \u001b[0;36m<module>\u001b[0;34m\u001b[0m\n\u001b[1;32m      1\u001b[0m \u001b[0;32mfrom\u001b[0m \u001b[0msklearn\u001b[0m\u001b[0;34m.\u001b[0m\u001b[0mmetrics\u001b[0m\u001b[0;34m.\u001b[0m\u001b[0mpairwise\u001b[0m \u001b[0;32mimport\u001b[0m \u001b[0mcosine_similarity\u001b[0m\u001b[0;34m\u001b[0m\u001b[0;34m\u001b[0m\u001b[0m\n\u001b[1;32m      2\u001b[0m \u001b[0;34m\u001b[0m\u001b[0m\n\u001b[0;32m----> 3\u001b[0;31m \u001b[0mcosine_similarity\u001b[0m\u001b[0;34m(\u001b[0m\u001b[0mmodel\u001b[0m\u001b[0;34m[\u001b[0m\u001b[0;34m'United_States'\u001b[0m\u001b[0;34m]\u001b[0m\u001b[0;34m,\u001b[0m \u001b[0mmodel\u001b[0m\u001b[0;34m[\u001b[0m\u001b[0;34m'U.S.'\u001b[0m\u001b[0;34m]\u001b[0m\u001b[0;34m)\u001b[0m\u001b[0;34m\u001b[0m\u001b[0;34m\u001b[0m\u001b[0m\n\u001b[0m",
      "\u001b[0;32m~/.pyenv/versions/anaconda3-2019.10/lib/python3.7/site-packages/sklearn/metrics/pairwise.py\u001b[0m in \u001b[0;36mcosine_similarity\u001b[0;34m(X, Y, dense_output)\u001b[0m\n\u001b[1;32m   1025\u001b[0m     \u001b[0;31m# to avoid recursive import\u001b[0m\u001b[0;34m\u001b[0m\u001b[0;34m\u001b[0m\u001b[0;34m\u001b[0m\u001b[0m\n\u001b[1;32m   1026\u001b[0m \u001b[0;34m\u001b[0m\u001b[0m\n\u001b[0;32m-> 1027\u001b[0;31m     \u001b[0mX\u001b[0m\u001b[0;34m,\u001b[0m \u001b[0mY\u001b[0m \u001b[0;34m=\u001b[0m \u001b[0mcheck_pairwise_arrays\u001b[0m\u001b[0;34m(\u001b[0m\u001b[0mX\u001b[0m\u001b[0;34m,\u001b[0m \u001b[0mY\u001b[0m\u001b[0;34m)\u001b[0m\u001b[0;34m\u001b[0m\u001b[0;34m\u001b[0m\u001b[0m\n\u001b[0m\u001b[1;32m   1028\u001b[0m \u001b[0;34m\u001b[0m\u001b[0m\n\u001b[1;32m   1029\u001b[0m     \u001b[0mX_normalized\u001b[0m \u001b[0;34m=\u001b[0m \u001b[0mnormalize\u001b[0m\u001b[0;34m(\u001b[0m\u001b[0mX\u001b[0m\u001b[0;34m,\u001b[0m \u001b[0mcopy\u001b[0m\u001b[0;34m=\u001b[0m\u001b[0;32mTrue\u001b[0m\u001b[0;34m)\u001b[0m\u001b[0;34m\u001b[0m\u001b[0;34m\u001b[0m\u001b[0m\n",
      "\u001b[0;32m~/.pyenv/versions/anaconda3-2019.10/lib/python3.7/site-packages/sklearn/metrics/pairwise.py\u001b[0m in \u001b[0;36mcheck_pairwise_arrays\u001b[0;34m(X, Y, precomputed, dtype)\u001b[0m\n\u001b[1;32m    110\u001b[0m     \u001b[0;32melse\u001b[0m\u001b[0;34m:\u001b[0m\u001b[0;34m\u001b[0m\u001b[0;34m\u001b[0m\u001b[0m\n\u001b[1;32m    111\u001b[0m         X = check_array(X, accept_sparse='csr', dtype=dtype,\n\u001b[0;32m--> 112\u001b[0;31m                         estimator=estimator)\n\u001b[0m\u001b[1;32m    113\u001b[0m         Y = check_array(Y, accept_sparse='csr', dtype=dtype,\n\u001b[1;32m    114\u001b[0m                         estimator=estimator)\n",
      "\u001b[0;32m~/.pyenv/versions/anaconda3-2019.10/lib/python3.7/site-packages/sklearn/utils/validation.py\u001b[0m in \u001b[0;36mcheck_array\u001b[0;34m(array, accept_sparse, accept_large_sparse, dtype, order, copy, force_all_finite, ensure_2d, allow_nd, ensure_min_samples, ensure_min_features, warn_on_dtype, estimator)\u001b[0m\n\u001b[1;32m    519\u001b[0m                     \u001b[0;34m\"Reshape your data either using array.reshape(-1, 1) if \"\u001b[0m\u001b[0;34m\u001b[0m\u001b[0;34m\u001b[0m\u001b[0m\n\u001b[1;32m    520\u001b[0m                     \u001b[0;34m\"your data has a single feature or array.reshape(1, -1) \"\u001b[0m\u001b[0;34m\u001b[0m\u001b[0;34m\u001b[0m\u001b[0m\n\u001b[0;32m--> 521\u001b[0;31m                     \"if it contains a single sample.\".format(array))\n\u001b[0m\u001b[1;32m    522\u001b[0m \u001b[0;34m\u001b[0m\u001b[0m\n\u001b[1;32m    523\u001b[0m         \u001b[0;31m# in the future np.flexible dtypes will be handled like object dtypes\u001b[0m\u001b[0;34m\u001b[0m\u001b[0;34m\u001b[0m\u001b[0;34m\u001b[0m\u001b[0m\n",
      "\u001b[0;31mValueError\u001b[0m: Expected 2D array, got 1D array instead:\narray=[-3.61328125e-02 -4.83398438e-02  2.35351562e-01  1.74804688e-01\n -1.46484375e-01 -7.42187500e-02 -1.01562500e-01 -7.71484375e-02\n  1.09375000e-01 -5.71289062e-02 -1.48437500e-01 -6.00585938e-02\n  1.74804688e-01 -7.71484375e-02  2.58789062e-02 -7.66601562e-02\n -3.80859375e-02  1.35742188e-01  3.75976562e-02 -4.19921875e-02\n -3.56445312e-02  5.34667969e-02  3.68118286e-04 -1.66992188e-01\n -1.17187500e-01  1.41601562e-01 -1.69921875e-01 -6.49414062e-02\n -1.66992188e-01  1.00585938e-01  1.15722656e-01 -2.18750000e-01\n -9.86328125e-02 -2.56347656e-02  1.23046875e-01 -3.54003906e-02\n -1.58203125e-01 -1.60156250e-01  2.94189453e-02  8.15429688e-02\n  6.88476562e-02  1.87500000e-01  6.49414062e-02  1.15234375e-01\n -2.27050781e-02  3.32031250e-01 -3.27148438e-02  1.77734375e-01\n -2.08007812e-01  4.54101562e-02 -1.23901367e-02  1.19628906e-01\n  7.44628906e-03 -9.03320312e-03  1.14257812e-01  1.69921875e-01\n -2.38281250e-01 -2.79541016e-02 -1.21093750e-01  2.47802734e-02\n  7.71484375e-02 -2.81982422e-02 -4.71191406e-02  1.78222656e-02\n -1.23046875e-01 -5.32226562e-02  2.68554688e-02 -3.11279297e-02\n -5.59082031e-02 -5.00488281e-02 -3.73535156e-02  1.25976562e-01\n  5.61523438e-02  1.51367188e-01  4.29687500e-02 -2.08007812e-01\n -4.78515625e-02  2.78320312e-02  1.81640625e-01  2.20703125e-01\n -3.61328125e-02 -8.39843750e-02 -3.69548798e-05 -9.52148438e-02\n -1.25000000e-01 -1.95312500e-01 -1.50390625e-01 -4.15039062e-02\n  1.31835938e-01  1.17675781e-01  1.91650391e-02  5.51757812e-02\n -9.42382812e-02 -1.08886719e-01  7.32421875e-02 -1.15234375e-01\n  8.93554688e-02 -1.40625000e-01  1.45507812e-01  4.49218750e-02\n -1.10473633e-02 -1.62353516e-02  4.05883789e-03  3.75976562e-02\n -6.98242188e-02 -5.46875000e-02  2.17285156e-02 -9.47265625e-02\n  4.24804688e-02  1.81884766e-02 -1.73339844e-02  4.63867188e-02\n -1.42578125e-01  1.99218750e-01  1.10839844e-01  2.58789062e-02\n -7.08007812e-02 -5.54199219e-02  3.45703125e-01  1.61132812e-01\n -2.44140625e-01 -2.59765625e-01 -9.71679688e-02  8.00781250e-02\n -8.78906250e-02 -7.22656250e-02  1.42578125e-01 -8.54492188e-02\n -3.18359375e-01  8.30078125e-02  6.34765625e-02  1.64062500e-01\n -1.92382812e-01 -1.17675781e-01 -5.41992188e-02 -1.56250000e-01\n -1.21582031e-01 -4.95605469e-02  1.20117188e-01 -3.83300781e-02\n  5.51757812e-02 -8.97216797e-03  4.32128906e-02  6.93359375e-02\n  8.93554688e-02  2.53906250e-01  1.65039062e-01  1.64062500e-01\n -1.41601562e-01  4.58984375e-02  1.97265625e-01 -8.98437500e-02\n  3.90625000e-02 -1.51367188e-01 -8.60595703e-03 -1.17675781e-01\n -1.97265625e-01 -1.12792969e-01  1.29882812e-01  1.96289062e-01\n  1.56402588e-03  3.93066406e-02  2.17773438e-01 -1.43554688e-01\n  6.03027344e-02 -1.35742188e-01  1.16210938e-01 -1.59912109e-02\n  2.79296875e-01  1.46484375e-01 -1.19628906e-01  1.76757812e-01\n  1.28906250e-01 -1.49414062e-01  6.93359375e-02 -1.72851562e-01\n  9.22851562e-02  1.33056641e-02 -2.00195312e-01 -9.76562500e-02\n -1.65039062e-01 -2.46093750e-01 -2.35595703e-02 -2.11914062e-01\n  1.84570312e-01 -1.85546875e-02  2.16796875e-01  5.05371094e-02\n  2.02636719e-02  4.25781250e-01  1.28906250e-01 -2.77099609e-02\n  1.29882812e-01 -1.15722656e-01 -2.05078125e-02  1.49414062e-01\n  7.81250000e-03 -2.05078125e-01 -8.05664062e-02 -2.67578125e-01\n -2.29492188e-02 -8.20312500e-02  8.64257812e-02  7.61718750e-02\n -3.66210938e-02  5.22460938e-02 -1.22070312e-01 -1.44042969e-02\n -2.69531250e-01  8.44726562e-02 -2.52685547e-02 -2.96630859e-02\n -1.68945312e-01  1.93359375e-01 -1.08398438e-01  1.94091797e-02\n -1.80664062e-01  1.93359375e-01 -7.08007812e-02  5.85937500e-02\n -1.01562500e-01 -1.31835938e-01  7.51953125e-02 -7.66601562e-02\n  3.37219238e-03 -8.59375000e-02  1.25000000e-01  2.92968750e-02\n  1.70898438e-01 -9.37500000e-02 -1.09375000e-01 -2.50244141e-02\n  2.11914062e-01 -4.44335938e-02  6.12792969e-02  2.62451172e-02\n -1.77734375e-01  1.23046875e-01 -7.42187500e-02 -1.67968750e-01\n -1.08886719e-01 -9.04083252e-04 -7.37304688e-02  5.49316406e-02\n  6.03027344e-02  8.39843750e-02  9.17968750e-02 -1.32812500e-01\n  1.22070312e-01 -8.78906250e-03  1.19140625e-01 -1.94335938e-01\n -6.64062500e-02 -2.07031250e-01  7.37304688e-02  8.93554688e-02\n  1.81884766e-02 -1.20605469e-01 -2.61230469e-02  2.67333984e-02\n  7.76367188e-02 -8.30078125e-02  6.78710938e-02 -3.54003906e-02\n  3.10546875e-01 -2.42919922e-02 -1.41601562e-01 -2.08007812e-01\n -4.57763672e-03 -6.54296875e-02 -4.95605469e-02  2.22656250e-01\n  1.53320312e-01 -1.38671875e-01 -5.24902344e-02  4.24804688e-02\n -2.38281250e-01  1.56250000e-01  5.83648682e-04 -1.20605469e-01\n -9.22851562e-02 -4.44335938e-02  3.61328125e-02 -1.86767578e-02\n -8.25195312e-02 -8.25195312e-02 -4.05273438e-02  1.19018555e-02\n  1.69921875e-01 -2.80761719e-02  3.03649902e-03  9.32617188e-02\n -8.49609375e-02  1.57470703e-02  7.03125000e-02  1.62353516e-02\n -2.27050781e-02  3.51562500e-02  2.47070312e-01 -2.67333984e-02].\nReshape your data either using array.reshape(-1, 1) if your data has a single feature or array.reshape(1, -1) if it contains a single sample."
     ]
    }
   ],
   "source": [
    "# from sklearn.metrics.pairwise import cosine_similarity\n",
    "\n",
    "# cosine_similarity(model['United_States'], model['U.S.'])"
   ]
  },
  {
   "cell_type": "code",
   "execution_count": null,
   "metadata": {},
   "outputs": [],
   "source": []
  }
 ],
 "metadata": {
  "kernelspec": {
   "display_name": "Python 3",
   "language": "python",
   "name": "python3"
  },
  "language_info": {
   "codemirror_mode": {
    "name": "ipython",
    "version": 3
   },
   "file_extension": ".py",
   "mimetype": "text/x-python",
   "name": "python",
   "nbconvert_exporter": "python",
   "pygments_lexer": "ipython3",
   "version": "3.7.4"
  }
 },
 "nbformat": 4,
 "nbformat_minor": 4
}
